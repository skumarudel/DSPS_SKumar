{
  "nbformat": 4,
  "nbformat_minor": 0,
  "metadata": {
    "colab": {
      "name": "CentralLimitTheorem.ipynb",
      "provenance": [],
      "authorship_tag": "ABX9TyNsfAo1bPrQ/jjqmsgy13Fn",
      "include_colab_link": true
    },
    "kernelspec": {
      "name": "python3",
      "display_name": "Python 3"
    },
    "language_info": {
      "name": "python"
    }
  },
  "cells": [
    {
      "cell_type": "markdown",
      "metadata": {
        "id": "view-in-github",
        "colab_type": "text"
      },
      "source": [
        "<a href=\"https://colab.research.google.com/github/skumarudel/DSPS_SKumar/blob/master/HW2/CentralLimitTheorem.ipynb\" target=\"_parent\"><img src=\"https://colab.research.google.com/assets/colab-badge.svg\" alt=\"Open In Colab\"/></a>"
      ]
    },
    {
      "cell_type": "code",
      "metadata": {
        "colab": {
          "base_uri": "https://localhost:8080/"
        },
        "id": "i8DyQvYblQcq",
        "outputId": "adc74250-e636-4177-d8e5-07d6d4b0694d"
      },
      "source": [
        "from __future__ import print_function\n",
        "__author__= 'fbb'\n",
        "\n",
        "import pylab as pl\n",
        "# this package sets up pretty plots\n",
        "from scipy.optimize import curve_fit, minimize\n",
        "    \n",
        "%pylab inline\n",
        "import seaborn\n",
        "seaborn.set_style(\"darkgrid\")\n"
      ],
      "execution_count": 1,
      "outputs": [
        {
          "output_type": "stream",
          "name": "stdout",
          "text": [
            "Populating the interactive namespace from numpy and matplotlib\n"
          ]
        }
      ]
    },
    {
      "cell_type": "code",
      "metadata": {
        "id": "eJ0S3ln2lc7S"
      },
      "source": [
        ""
      ],
      "execution_count": null,
      "outputs": []
    }
  ]
}