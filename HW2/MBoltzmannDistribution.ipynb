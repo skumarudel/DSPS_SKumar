{
  "nbformat": 4,
  "nbformat_minor": 0,
  "metadata": {
    "colab": {
      "name": "MBoltzmannDistribution.ipynb",
      "provenance": [],
      "authorship_tag": "ABX9TyNT8r0UzlJfarwqb0TQXpWV",
      "include_colab_link": true
    },
    "kernelspec": {
      "name": "python3",
      "display_name": "Python 3"
    },
    "language_info": {
      "name": "python"
    }
  },
  "cells": [
    {
      "cell_type": "markdown",
      "metadata": {
        "id": "view-in-github",
        "colab_type": "text"
      },
      "source": [
        "<a href=\"https://colab.research.google.com/github/skumarudel/DSPS_SKumar/blob/master/HW2/MBoltzmannDistribution.ipynb\" target=\"_parent\"><img src=\"https://colab.research.google.com/assets/colab-badge.svg\" alt=\"Open In Colab\"/></a>"
      ]
    },
    {
      "cell_type": "code",
      "metadata": {
        "colab": {
          "base_uri": "https://localhost:8080/"
        },
        "id": "VmBCR6Dk1y5N",
        "outputId": "8a701eda-f373-45fc-d4c7-2f6a044640c4"
      },
      "source": [
        "from __future__ import print_function, division\n",
        "import numpy as np\n",
        "import scipy as sp\n",
        "from scipy import stats\n",
        "import pandas as pd\n",
        "import pylab as pl\n",
        "%pylab inline\n",
        "pl.style.use(\"https://raw.githubusercontent.com/fedhere/DSPS/master/fbb.mplstyle\")\n"
      ],
      "execution_count": 1,
      "outputs": [
        {
          "output_type": "stream",
          "name": "stdout",
          "text": [
            "Populating the interactive namespace from numpy and matplotlib\n"
          ]
        }
      ]
    },
    {
      "cell_type": "markdown",
      "metadata": {
        "id": "CQkPdZf72IZW"
      },
      "source": [
        "# Homework 1: Maxwell Boltzmann distribution"
      ]
    },
    {
      "cell_type": "markdown",
      "metadata": {
        "id": "fRP5P0Eh2Jjp"
      },
      "source": [
        "In Physics, statistics can help us describe the macroscopic behavior of a system if we know its microscopic properties in a statistical sense. We cannot know the motion of each molecule in a gas, but we can know the distribution of their velocities and positions. In the mid to late 1800s, James Clerk Maxwell and Ludwig Boltzmann modeled the distribution of speed of molecules in a gas. As you probably know, and can intuitive realize, the speed of the molecules depends on the temperature of the gas, which is a macroscopic property, the velocity of the molecules is different for different gas temperatures. This distribution of velocities is called the Maxwell-Boltzmann distribution."
      ]
    },
    {
      "cell_type": "markdown",
      "metadata": {
        "id": "_iqIboVH2MjH"
      },
      "source": [
        "It turns out that the Maxwel-Boltzmann distribution is a special case of the [*Chi distribution*](https://en.wikipedia.org/wiki/Chi_distribution) with 3 degrees of freedom, and with a scale parameter corresponding to the temperature in some way. \n"
      ]
    },
    {
      "cell_type": "markdown",
      "metadata": {
        "id": "0mK8vQ_C2PS3"
      },
      "source": [
        "Below I have created 3 distributions. Based on the description above\n",
        "\n",
        "\n",
        "# 1) label the axes in the plot"
      ]
    },
    {
      "cell_type": "code",
      "metadata": {
        "colab": {
          "base_uri": "https://localhost:8080/",
          "height": 461
        },
        "id": "e2VvbsZN17JN",
        "outputId": "eec37ece-6275-40cc-929a-df7792ed542b"
      },
      "source": [
        "seed = int(123)\n",
        "np.random.randn(seed)\n",
        "fig = pl.figure()\n",
        "ax = fig.add_axes((0,0.3,1,1))\n",
        "for a in [0.2, 0.6, 1.0]:\n",
        "    ax.hist(sp.stats.chi.rvs(df=3, scale=a, size=1000), # could as well be sp.stats.maxwell.rvs(scale=a, size=1000)\n",
        "          bins=np.arange(0,5,0.1), alpha=0.7,\n",
        "       label=\"a = %.1f\"%a);\n",
        "\n",
        "pl.legend()\n",
        "caption = \"Caption: Distribution of speed of particles \\n as a function of scale parameter a (temperature)\"\n",
        "pl.figtext(0.5,0, caption, horizontalalignment='center', fontsize=12, fontweight='bold')\n",
        "pl.xlabel('Speed of particles [Units a]')\n",
        "pl.ylabel('Number of particles');\n",
        "\n",
        "\n"
      ],
      "execution_count": 2,
      "outputs": [
        {
          "output_type": "stream",
          "name": "stderr",
          "text": [
            "findfont: Font family ['[\"sans-serif\"]'] not found. Falling back to DejaVu Sans.\n",
            "findfont: Font family ['[\"sans-serif\"]'] not found. Falling back to DejaVu Sans.\n",
            "findfont: Font family ['[\"sans-serif\"]'] not found. Falling back to DejaVu Sans.\n"
          ]
        },
        {
          "output_type": "display_data",
          "data": {
            "image/png": "[encoded data removed]",
            "text/plain": [
              "<Figure size 432x288 with 1 Axes>"
            ]
          },
          "metadata": {
            "needs_background": "light"
          }
        }
      ]
    },
    {
      "cell_type": "markdown",
      "metadata": {
        "id": "QaKbNXP73pFP"
      },
      "source": [
        "# 2) knowing that the *scale* parameter $a$  is a function of the temperature  *T*, and that the dependency is to a power 1/2, which is correct:\n",
        "   **$a \\propto \\sqrt{T}$**  or **$a \\propto \\sqrt{1/T}$**? \n",
        "\n",
        "   (in other words, is the dependency on the root of the temperature or on the inverse root of the temperature ?)\n",
        " \n",
        "\n",
        " "
      ]
    },
    {
      "cell_type": "markdown",
      "metadata": {
        "id": "H65npjTWZBq4"
      },
      "source": [
        "\n",
        "\n",
        "---\n",
        "\n",
        "\n",
        "**Answer:** The scale parameter relation is given by **$a \\propto \\sqrt{T}$**. This is evident from the figure also becasue as the scale parameter increases which means as temperature increases, the peak (most probable value) of the distribution moves to the higher value of speed.\n",
        "\n",
        "\n",
        "---\n",
        "\n",
        "\n"
      ]
    },
    {
      "cell_type": "markdown",
      "metadata": {
        "id": "6IxWnRWA4jj8"
      },
      "source": [
        "# 3) What is the mean of all three distributions. How does it compare to the most probable molecular speed? \n",
        "From the wikipedia page of the Chi distribution find the formula of the mean of the Chi distribution. The distribution we are using has a scale parameter *a* in addition to the number of degrees of freedom. The mean scales linearly with this parameter:\n",
        "\n",
        "$\\mu_{\\mathrm{MB}, k, a} = a \\cdot \\mu_{\\mathrm{chi}, k}$\n",
        "\n",
        "Using the scipy function ```sp.special.gamma()```  calculate the gamma $\\Gamma$ function,\n",
        "\n",
        "**calculate the mean of all three distributions. Compare it with the mean of the empirical distributions I generated in step 1. How does this mean compare to the most probable molecular speed.**"
      ]
    },
    {
      "cell_type": "code",
      "metadata": {
        "colab": {
          "base_uri": "https://localhost:8080/",
          "height": 143
        },
        "id": "riXdH5FABHhn",
        "outputId": "a4b2a213-e0bc-491f-a46b-2cdd52707a0e"
      },
      "source": [
        "# Function to calculate mean of chi distribution with input parameters as dof and scale\n",
        "def mean_chi(dof, scale):\n",
        "  n = dof+1\n",
        "  return scale * np.sqrt(2) * sp.special.gamma(n/2) / sp.special.gamma((n-1)/2)\n",
        "\n",
        "dictt = {}  # Dictionary to hold values of mean and mode\n",
        "DOF = 3\n",
        "i = 0\n",
        "np.random.seed(seed)\n",
        "for a in [0.2,0.6,1.0]:\n",
        "  empirical_mean = sp.stats.chi.rvs(df=DOF,scale=a,size=1000).mean()\n",
        "  mode = np.sqrt(2) * a   # From wiki page, Mode = sqrt(2) * scale\n",
        "  dictt['Distribution_{}'.format(i)] = [DOF,a,  mean_chi(DOF,a), mode, empirical_mean]\n",
        "  i = i+1\n",
        "\n",
        "\n",
        "df = pd.DataFrame.from_dict(dictt, orient='index', columns=[[\"Degree_of_freedom\", 'scale_parameter', \"theoretical_mean\", \"most_probable_value (mode)\", \"empirical_mean\"]])\n",
        "df"
      ],
      "execution_count": 3,
      "outputs": [
        {
          "output_type": "execute_result",
          "data": {
            "text/html": [
              "<div>\n",
              "<style scoped>\n",
              "    .dataframe tbody tr th:only-of-type {\n",
              "        vertical-align: middle;\n",
              "    }\n",
              "\n",
              "    .dataframe tbody tr th {\n",
              "        vertical-align: top;\n",
              "    }\n",
              "\n",
              "    .dataframe thead tr th {\n",
              "        text-align: left;\n",
              "    }\n",
              "</style>\n",
              "<table border=\"1\" class=\"dataframe\">\n",
              "  <thead>\n",
              "    <tr>\n",
              "      <th></th>\n",
              "      <th>Degree_of_freedom</th>\n",
              "      <th>scale_parameter</th>\n",
              "      <th>theoretical_mean</th>\n",
              "      <th>most_probable_value (mode)</th>\n",
              "      <th>empirical_mean</th>\n",
              "    </tr>\n",
              "  </thead>\n",
              "  <tbody>\n",
              "    <tr>\n",
              "      <th>Distribution_0</th>\n",
              "      <td>3</td>\n",
              "      <td>0.2</td>\n",
              "      <td>0.319154</td>\n",
              "      <td>0.282843</td>\n",
              "      <td>0.323249</td>\n",
              "    </tr>\n",
              "    <tr>\n",
              "      <th>Distribution_1</th>\n",
              "      <td>3</td>\n",
              "      <td>0.6</td>\n",
              "      <td>0.957461</td>\n",
              "      <td>0.848528</td>\n",
              "      <td>0.955791</td>\n",
              "    </tr>\n",
              "    <tr>\n",
              "      <th>Distribution_2</th>\n",
              "      <td>3</td>\n",
              "      <td>1.0</td>\n",
              "      <td>1.595769</td>\n",
              "      <td>1.414214</td>\n",
              "      <td>1.637743</td>\n",
              "    </tr>\n",
              "  </tbody>\n",
              "</table>\n",
              "</div>"
            ],
            "text/plain": [
              "               Degree_of_freedom  ... empirical_mean\n",
              "Distribution_0                 3  ...       0.323249\n",
              "Distribution_1                 3  ...       0.955791\n",
              "Distribution_2                 3  ...       1.637743\n",
              "\n",
              "[3 rows x 5 columns]"
            ]
          },
          "metadata": {},
          "execution_count": 3
        }
      ]
    },
    {
      "cell_type": "markdown",
      "metadata": {
        "id": "CCEpTrS4XQs2"
      },
      "source": [
        "\n",
        "\n",
        "---\n",
        "\n",
        "\n",
        "**Answer:** The theoretical mean of all three distributions are given in the third column of the dataframe. You can see that the theoretical mean and the empirical mean (calculated from random data generated in first plot) are almost same within some errors. The most probable value is always less than the mean of the distribution. This is due to the fact that chi distribution is assymetric to the right and that pull the mean to higher value than the mode.\n",
        "\n",
        "\n",
        "---\n",
        "\n"
      ]
    }
  ]
}