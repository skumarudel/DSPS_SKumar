{
  "nbformat": 4,
  "nbformat_minor": 0,
  "metadata": {
    "colab": {
      "name": "Kolmogorov_smirnov_earthquake.ipynb",
      "provenance": [],
      "authorship_tag": "ABX9TyN87+TPlSOiyayO7GUEs/VG",
      "include_colab_link": true
    },
    "kernelspec": {
      "name": "python3",
      "display_name": "Python 3"
    },
    "language_info": {
      "name": "python"
    }
  },
  "cells": [
    {
      "cell_type": "markdown",
      "metadata": {
        "id": "view-in-github",
        "colab_type": "text"
      },
      "source": [
        "<a href=\"https://colab.research.google.com/github/skumarudel/DSPS_SKumar/blob/master/HW3/Kolmogorov_smirnov_earthquake.ipynb\" target=\"_parent\"><img src=\"https://colab.research.google.com/assets/colab-badge.svg\" alt=\"Open In Colab\"/></a>"
      ]
    },
    {
      "cell_type": "markdown",
      "metadata": {
        "id": "s2QTYoyorI3X"
      },
      "source": [
        "Created by Sajan Kumar\n",
        "# Kolmogorov Smirnoff test, application to earthquake data"
      ]
    },
    {
      "cell_type": "code",
      "metadata": {
        "colab": {
          "base_uri": "https://localhost:8080/"
        },
        "id": "MFKjjYzMrN-H",
        "outputId": "b074f603-f632-4240-a1cb-bb05af40632e"
      },
      "source": [
        "#all the imports I needed\n",
        "from __future__ import print_function, division\n",
        "import pandas as pd\n",
        "import pylab as pl\n",
        "import scipy as sp\n",
        "from scipy import stats\n",
        "%pylab inline\n",
        "pl.style.use(\"https://raw.githubusercontent.com/fedhere/DSPS/master/fbb.mplstyle\")"
      ],
      "execution_count": 1,
      "outputs": [
        {
          "output_type": "stream",
          "name": "stdout",
          "text": [
            "Populating the interactive namespace from numpy and matplotlib\n"
          ]
        }
      ]
    },
    {
      "cell_type": "markdown",
      "metadata": {
        "id": "H2ACc3zsreFc"
      },
      "source": [
        "This homework asks you to reproduce the work in [Corral 2018](https://arxiv.org/pdf/0910.0055.pdf) which is well described, but not \"reproducible\". \n",
        "Corral 2018 uses a K-S test to show that at different magnitude scales the time gaps between earthquakes follows the same distribution. If true, this indicates that there is a consistent scaling law. \n",
        "\n",
        "The argument is a little convoluted, but it is a somewhat innovative use of the test. Corall compares the time gap between earthquakes  greater than a certain magnitude threshold with the time gaps between earthquakes above a different threshold, and finds no differences.\n",
        "\n",
        "Remind yourself exactly what the K-S test is about :\n"
      ]
    },
    {
      "cell_type": "markdown",
      "metadata": {
        "id": "qdf3T4p7rui3"
      },
      "source": [
        "1 What is the test's Null Hypothsis that the K-S test tests?"
      ]
    },
    {
      "cell_type": "code",
      "metadata": {
        "id": "KZirWEUTrw5R"
      },
      "source": [
        ""
      ],
      "execution_count": null,
      "outputs": []
    },
    {
      "cell_type": "markdown",
      "metadata": {
        "id": "u5BSt48ErzOB"
      },
      "source": [
        "2 What is the \"statistic\" or \"pivotal quantity\" that the test uses?"
      ]
    },
    {
      "cell_type": "code",
      "metadata": {
        "id": "e2ZiFt-7r4lV"
      },
      "source": [
        ""
      ],
      "execution_count": 1,
      "outputs": []
    },
    {
      "cell_type": "markdown",
      "metadata": {
        "id": "x3_P2UXNr8c0"
      },
      "source": [
        "3 What does the probability distribution of this statistic depend on? "
      ]
    },
    {
      "cell_type": "code",
      "metadata": {
        "id": "ryeNzDaMsBHO"
      },
      "source": [
        ""
      ],
      "execution_count": null,
      "outputs": []
    }
  ]
}