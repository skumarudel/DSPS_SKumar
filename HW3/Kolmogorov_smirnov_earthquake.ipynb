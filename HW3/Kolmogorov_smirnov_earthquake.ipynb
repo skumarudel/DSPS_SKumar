{
  "nbformat": 4,
  "nbformat_minor": 0,
  "metadata": {
    "colab": {
      "name": "Kolmogorov_smirnov_earthquake.ipynb",
      "provenance": [],
      "authorship_tag": "ABX9TyNoEUbV1MUj4YiLZccBqj4e",
      "include_colab_link": true
    },
    "kernelspec": {
      "name": "python3",
      "display_name": "Python 3"
    },
    "language_info": {
      "name": "python"
    }
  },
  "cells": [
    {
      "cell_type": "markdown",
      "metadata": {
        "id": "view-in-github",
        "colab_type": "text"
      },
      "source": [
        "<a href=\"https://colab.research.google.com/github/skumarudel/DSPS_SKumar/blob/master/HW3/Kolmogorov_smirnov_earthquake.ipynb\" target=\"_parent\"><img src=\"https://colab.research.google.com/assets/colab-badge.svg\" alt=\"Open In Colab\"/></a>"
      ]
    },
    {
      "cell_type": "markdown",
      "metadata": {
        "id": "s2QTYoyorI3X"
      },
      "source": [
        "Created by Sajan Kumar\n",
        "# Kolmogorov Smirnoff test, application to earthquake data"
      ]
    },
    {
      "cell_type": "code",
      "metadata": {
        "id": "MFKjjYzMrN-H"
      },
      "source": [
        "#all the imports I needed\n",
        "from __future__ import print_function, division\n",
        "import pandas as pd\n",
        "import matplotlib.pyplot as plt\n",
        "import scipy as sp\n",
        "from scipy import stats\n",
        "import numpy as np\n",
        "%matplotlib inline\n",
        "plt.style.use(\"https://raw.githubusercontent.com/fedhere/DSPS/master/fbb.mplstyle\")\n",
        "#plt.style.use('ggplot')"
      ],
      "execution_count": 1,
      "outputs": []
    },
    {
      "cell_type": "markdown",
      "metadata": {
        "id": "H2ACc3zsreFc"
      },
      "source": [
        "This homework asks you to reproduce the work in [Corral 2018](https://arxiv.org/pdf/0910.0055.pdf) which is well described, but not \"reproducible\". \n",
        "Corral 2018 uses a K-S test to show that at different magnitude scales the time gaps between earthquakes follows the same distribution. If true, this indicates that there is a consistent scaling law. \n",
        "\n",
        "The argument is a little convoluted, but it is a somewhat innovative use of the test. Corall compares the time gap between earthquakes  greater than a certain magnitude threshold with the time gaps between earthquakes above a different threshold, and finds no differences.\n",
        "\n",
        "Remind yourself exactly what the K-S test is about :\n"
      ]
    },
    {
      "cell_type": "markdown",
      "metadata": {
        "id": "qdf3T4p7rui3"
      },
      "source": [
        "1 What is the test's Null Hypothsis that the K-S test tests?\n"
      ]
    },
    {
      "cell_type": "markdown",
      "metadata": {
        "id": "JFdxHa1uxC0e"
      },
      "source": [
        "**Answer:** Under the Null Hypoethesis, the K-S tests determine if the two data sets comes from the same distribution.\n"
      ]
    },
    {
      "cell_type": "code",
      "metadata": {
        "id": "KZirWEUTrw5R"
      },
      "source": [
        ""
      ],
      "execution_count": 1,
      "outputs": []
    },
    {
      "cell_type": "markdown",
      "metadata": {
        "id": "u5BSt48ErzOB"
      },
      "source": [
        "2 What is the \"statistic\" or \"pivotal quantity\" that the test uses?"
      ]
    },
    {
      "cell_type": "markdown",
      "metadata": {
        "id": "p6Zkfgt0yglg"
      },
      "source": [
        "**Answer:** The pivotal quantity or statistics measure by K-S test is calculation of absolute value of the maximum difference between the cumulative distributions of two datasets\n",
        "\n",
        "$D = max | CDF_{1}(x) - CDF_{2}(x)|$ "
      ]
    },
    {
      "cell_type": "markdown",
      "metadata": {
        "id": "x3_P2UXNr8c0"
      },
      "source": [
        "3 What does the probability distribution of this statistic depend on? "
      ]
    },
    {
      "cell_type": "markdown",
      "metadata": {
        "id": "57U2Pa_Oz0hG"
      },
      "source": [
        "**Answer:** The probability distribution of the KS statistics depends only upon the number of datapoints N in each data sets which we are comparing.\n",
        "\n",
        "\n",
        "see the example below, just for a proof"
      ]
    },
    {
      "cell_type": "code",
      "metadata": {
        "colab": {
          "base_uri": "https://localhost:8080/",
          "height": 295
        },
        "id": "ryeNzDaMsBHO",
        "outputId": "f3570904-d484-458b-a868-6d32fa766f65"
      },
      "source": [
        "np.random.seed(56)\n",
        "fig,axes = plt.subplots(1,2,figsize=(12,4))\n",
        "mean = 10\n",
        "loc = np.sqrt(mean)\n",
        "for s in [50,500,5000]:\n",
        "  distance = np.zeros(1000)\n",
        "  for i in range(len(distance)):\n",
        "      one = np.random.normal(mean,loc, size=s)\n",
        "      two = np.random.normal(mean,loc, size=s)\n",
        "      distance[i] = stats.ks_2samp(one,two)[0]\n",
        "  axes[0].hist(distance, alpha=0.3, label=\"size={}\".format(s)); \n",
        "axes[0].set_xlabel('KS statistics')\n",
        "axes[0].set_ylabel('N')\n",
        "axes[0].set_title('Plotting KS stat for different size')\n",
        "axes[0].legend()\n",
        "\n",
        "\n",
        "for mean in [10,50,500]:\n",
        "  distance = np.zeros(1000)\n",
        "  for i in range(len(distance)):\n",
        "      one = np.random.normal(mean,np.sqrt(mean), size=500)\n",
        "      two = np.random.normal(mean,np.sqrt(mean), size=500)\n",
        "      distance[i] = stats.ks_2samp(one,two)[0]\n",
        "  axes[1].hist(distance, alpha=0.3, label=\"mean={}, std={:.1f}\".format(mean, np.sqrt(mean))); \n",
        "axes[1].set_xlabel('KS statistics')\n",
        "axes[1].set_ylabel('N')\n",
        "axes[1].set_title('Plotting KS stat for different value of distributions')\n",
        "axes[1].legend();\n",
        "\n",
        "plt.subplots_adjust(wspace=0.3)\n",
        "\n"
      ],
      "execution_count": 6,
      "outputs": [
        {
          "output_type": "display_data",
          "data": {
            "image/png": "[encoded data removed]",
            "text/plain": [
              "<Figure size 864x288 with 2 Axes>"
            ]
          },
          "metadata": {
            "needs_background": "light"
          }
        }
      ]
    },
    {
      "cell_type": "markdown",
      "metadata": {
        "id": "G471E_Mt6ySA"
      },
      "source": [
        "You can see that when I change the size (Number of data points) of two distributions which I am using for comparison, the KS statisitcs looks differrent (left plot). However, when I keep the size same and change the distributions (changing means and standard deviation), the KS statistics distribution looks pretty much same (statistically) "
      ]
    },
    {
      "cell_type": "code",
      "metadata": {
        "id": "OMwrtgnp7Yqg"
      },
      "source": [
        ""
      ],
      "execution_count": null,
      "outputs": []
    }
  ]
}