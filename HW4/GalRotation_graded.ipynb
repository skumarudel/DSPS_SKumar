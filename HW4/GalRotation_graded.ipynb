{
 "cells": [
  {
   "cell_type": "markdown",
   "metadata": {
    "colab_type": "text",
    "id": "view-in-github"
   },
   "source": [
    "<a href=\"https://colab.research.google.com/github/skumarudel/DSPS_SKumar/blob/master/HW4/GalRotation.ipynb\" target=\"_parent\"><img src=\"https://colab.research.google.com/assets/colab-badge.svg\" alt=\"Open In Colab\"/></a>"
   ]
  },
  {
   "cell_type": "markdown",
   "metadata": {
    "id": "kwJM6sHlsniK"
   },
   "source": [
    "# Testing the significance of Dark Matter"
   ]
  },
  {
   "cell_type": "code",
   "execution_count": 1,
   "metadata": {
    "id": "3MbmQ90lsqIz"
   },
   "outputs": [],
   "source": [
    "import pandas as pd\n",
    "import numpy as np\n",
    "import matplotlib.pyplot as plt\n",
    "%matplotlib inline\n",
    "\n",
    "\n",
    "#package I will use for constants and units conversion \n",
    "import astropy \n",
    "import astropy.units as u"
   ]
  },
  {
   "cell_type": "markdown",
   "metadata": {
    "id": "ZT5xxghetNTq"
   },
   "source": [
    "in 1970 Vera Rubin published a seminal paper: she measured the rotational speed of HII regions in several galaxies and how it changed as a function of distance to the center of the galaxy. If we believe Newtonian gravity (or GR) we expect that once all of the mass is included, i.e. at a radius distance from the center of the galaxy larger than the radius of the galaxy itself, the rotational speed will be proportional to $\\nu \\propto \\frac{1}{l}r$"
   ]
  },
  {
   "cell_type": "markdown",
   "metadata": {
    "id": "uK3Fvpi074NT"
   },
   "source": [
    "## Propagation of  uncertainties rules\n",
    "\n",
    "below are the basic rules for propagation of uncertainties - use [this as reference](https://github.com/fedhere/DSPS/blob/master/resources/Managing%20Errors%20and%20Uncertainty.pdf)"
   ]
  },
  {
   "cell_type": "markdown",
   "metadata": {
    "id": "eCffGS9A8ARk"
   },
   "source": [
    "$$\n",
    "\\begin{eqnarray}\n",
    "z = x  \\pm y  ~| & ~  &dz = \\sqrt{dx^2 + dy^2} \n",
    "\\\\\n",
    "z = x * y  ~| & ~& dz = |xy|  \\sqrt{\\left(\\frac{dx}{x}\\right)^2 + \n",
    "                                \\left(\\frac{dy}{y}\\right)^2} \\\\\n",
    "z = x / y  ~| & ~& dz = \\left|\\frac{x}{y}\\right| \\sqrt{\\left(\\frac{dx}{x}\\right)^2 + \n",
    "                                                   \\left(\\frac{dy}{y}\\right)^2} \\\\\n",
    "z = x^n ~| & ~& dz = |n| ~ x^{n-1}  dx \\\\\n",
    "z = \\mathrm{c}x ~| & ~& dz = |\\mathrm{c}| ~dx \\\\\n",
    "z = f(x, y) ~| & ~& dz = \\sqrt{\\left(\\frac{\\partial f}{\\partial x}\\right)^2 dx^2 +\\left(\\frac{\\partial f}{\\partial y}\\right)^2 dy^2} \\\\\n",
    "\\end{eqnarray}\n",
    "$$\n"
   ]
  },
  {
   "cell_type": "markdown",
   "metadata": {
    "id": "qa11Oi6e8Rs9"
   },
   "source": [
    "# let's assume a Newtonian framework: \n",
    "the velocity of a body in orbit depends only on the gravitational field of the mass that attracts it, and we can assume that mass is concentrated in the center of mass of (the center for simplicity) the system\n",
    "\n",
    "with G the gravitational constant, $r$ the radius, and $m(r)$ the mass contained within that radius we have the orbital velocity $v$:"
   ]
  },
  {
   "cell_type": "markdown",
   "metadata": {
    "id": "ueJeAvfT8Zpi"
   },
   "source": [
    "$v^2 = \\frac{G \\cdot m(r)}{r}$"
   ]
  },
  {
   "cell_type": "markdown",
   "metadata": {
    "id": "0At0_P5M8ejg"
   },
   "source": [
    "Derive this $v^2\\propto\\frac{1}{r}$ from Newton's law $F~=~\\frac{GMm}{r^2}$. Write each formula and describe each step. You can use latex (you really just need to know ```\\frac{}``` and ```^```) and this reference\n",
    "https://www.physicsclassroom.com/calcpad/circgrav"
   ]
  },
  {
   "cell_type": "markdown",
   "metadata": {
    "id": "8mzzGNWmHdyk"
   },
   "source": [
    "**Answer**\n",
    "\n",
    "For a star to stay in the stable orbit, the centrifugal force and gravitation force needs to compensate each other i.e.\n",
    "\n",
    "Centrifugal force = Gravitation force\n",
    "\n",
    "$mw^{2}r = \\frac{G m(r) m}{r^{2}}$\n",
    "\n",
    "where $w$ is rotational velocity of star around a center at a distance $r$\n",
    "and $w = \\frac{v}{r}$\n",
    "\n",
    "$m(r)$ mass contained inside radius $r$ from center of a galaxy\n",
    "\n",
    "$m$ is mass of star rotatiing around a center at a distance r\n",
    "\n",
    "putting value of $w$ in the equation above leads to\n",
    "\n",
    "$v^{2} = \\frac{G m(r)}{r}$\n",
    "\n"
   ]
  },
  {
   "cell_type": "markdown",
   "metadata": {
    "id": "bO3Ua8kKMvra"
   },
   "source": [
    "## M31 rotational curve"
   ]
  },
  {
   "cell_type": "markdown",
   "metadata": {
    "id": "CDUhB83OM0X0"
   },
   "source": [
    "# Galaxy Rotational Curves\n",
    "The data comes from [SOFUE 2015](http://www.ioa.s.u-tokyo.ac.jp/~sofue/htdocs/2015m31/2015-pasj-M31MW-DH.pdf)\n",
    "The data are plotted in Figure 3 and 4 for M31 and the Milky Way respectively, and hosted on [this website](http://www.ioa.s.u-tokyo.ac.jp/~sofue/htdocs/2015m31/)\n",
    "As described in the paper: \n",
    "Long and short bars represent modified standard deviations and errors, respectively\n",
    "\n",
    "#### Please read the last paragraphs of Section 2.1 of the paper to understand the meaning of these uncertainties:\n",
    "\n",
    "![figures](https://github.com/skumarudel/DSPS_SKumar/blob/master/HW4/figures.png?raw=1)"
   ]
  },
  {
   "cell_type": "markdown",
   "metadata": {
    "id": "6BSqfWGQQKwX"
   },
   "source": [
    "### data ingestion\n",
    "Get the data from the github repository https://github.com/skumarudel/DSPS_SKumar/tree/master/HW4 : there are 2 files: mw.csv and m31.csv. Start with M31, the Andromeda galaxy, Vera Rubin's original target.\n",
    "\n"
   ]
  },
  {
   "cell_type": "markdown",
   "metadata": {
    "id": "jTdJjbQPQoP3"
   },
   "source": [
    "Note that the data contains 2 types of uncertainties: one significantly smaller than the other. The ```dv``` uncertainty is the propagation of the uncertainty in the location of the HII line. The uncertainty called ```err``` if the full error budget:  including _all_ sources of uncertainty and not just the uncertainty in measuring the location of the line. Retain both, you will test your hypothesis with each one to see if it matters which uncertainty you choose"
   ]
  },
  {
   "cell_type": "code",
   "execution_count": 8,
   "metadata": {
    "colab": {
     "base_uri": "https://localhost:8080/",
     "height": 206
    },
    "id": "zOu_SE9G7-Zr",
    "outputId": "9d33b23f-8a95-4957-8816-b1381d04f0d6"
   },
   "outputs": [
    {
     "data": {
      "text/html": [
       "<div>\n",
       "<style scoped>\n",
       "    .dataframe tbody tr th:only-of-type {\n",
       "        vertical-align: middle;\n",
       "    }\n",
       "\n",
       "    .dataframe tbody tr th {\n",
       "        vertical-align: top;\n",
       "    }\n",
       "\n",
       "    .dataframe thead th {\n",
       "        text-align: right;\n",
       "    }\n",
       "</style>\n",
       "<table border=\"1\" class=\"dataframe\">\n",
       "  <thead>\n",
       "    <tr style=\"text-align: right;\">\n",
       "      <th></th>\n",
       "      <th>r</th>\n",
       "      <th>v</th>\n",
       "      <th>dv</th>\n",
       "      <th>err</th>\n",
       "    </tr>\n",
       "  </thead>\n",
       "  <tbody>\n",
       "    <tr>\n",
       "      <th>0</th>\n",
       "      <td>0.100</td>\n",
       "      <td>183.939</td>\n",
       "      <td>0.000</td>\n",
       "      <td>0.000</td>\n",
       "    </tr>\n",
       "    <tr>\n",
       "      <th>1</th>\n",
       "      <td>0.120</td>\n",
       "      <td>190.710</td>\n",
       "      <td>10.265</td>\n",
       "      <td>12.191</td>\n",
       "    </tr>\n",
       "    <tr>\n",
       "      <th>2</th>\n",
       "      <td>0.144</td>\n",
       "      <td>204.141</td>\n",
       "      <td>22.634</td>\n",
       "      <td>21.808</td>\n",
       "    </tr>\n",
       "    <tr>\n",
       "      <th>3</th>\n",
       "      <td>0.173</td>\n",
       "      <td>207.601</td>\n",
       "      <td>4.573</td>\n",
       "      <td>4.200</td>\n",
       "    </tr>\n",
       "    <tr>\n",
       "      <th>4</th>\n",
       "      <td>0.207</td>\n",
       "      <td>210.188</td>\n",
       "      <td>3.943</td>\n",
       "      <td>3.258</td>\n",
       "    </tr>\n",
       "  </tbody>\n",
       "</table>\n",
       "</div>"
      ],
      "text/plain": [
       "       r        v      dv     err\n",
       "0  0.100  183.939   0.000   0.000\n",
       "1  0.120  190.710  10.265  12.191\n",
       "2  0.144  204.141  22.634  21.808\n",
       "3  0.173  207.601   4.573   4.200\n",
       "4  0.207  210.188   3.943   3.258"
      ]
     },
     "execution_count": 8,
     "metadata": {},
     "output_type": "execute_result"
    }
   ],
   "source": [
    "m31 = pd.read_csv('https://raw.githubusercontent.com/skumarudel/DSPS_SKumar/master/HW4/m31.csv', comment='#', header=None, names=['r', 'v', 'dv', 'err'])\n",
    "m31.head()"
   ]
  },
  {
   "cell_type": "code",
   "execution_count": 9,
   "metadata": {
    "colab": {
     "base_uri": "https://localhost:8080/",
     "height": 300
    },
    "id": "7zcRU6s7RmWY",
    "outputId": "0b11daac-3286-44ab-8dc2-099dc012c4a0"
   },
   "outputs": [
    {
     "data": {
      "text/html": [
       "<div>\n",
       "<style scoped>\n",
       "    .dataframe tbody tr th:only-of-type {\n",
       "        vertical-align: middle;\n",
       "    }\n",
       "\n",
       "    .dataframe tbody tr th {\n",
       "        vertical-align: top;\n",
       "    }\n",
       "\n",
       "    .dataframe thead th {\n",
       "        text-align: right;\n",
       "    }\n",
       "</style>\n",
       "<table border=\"1\" class=\"dataframe\">\n",
       "  <thead>\n",
       "    <tr style=\"text-align: right;\">\n",
       "      <th></th>\n",
       "      <th>r</th>\n",
       "      <th>v</th>\n",
       "      <th>dv</th>\n",
       "      <th>err</th>\n",
       "    </tr>\n",
       "  </thead>\n",
       "  <tbody>\n",
       "    <tr>\n",
       "      <th>count</th>\n",
       "      <td>55.000000</td>\n",
       "      <td>55.000000</td>\n",
       "      <td>55.000000</td>\n",
       "      <td>55.000000</td>\n",
       "    </tr>\n",
       "    <tr>\n",
       "      <th>mean</th>\n",
       "      <td>205.853182</td>\n",
       "      <td>226.079255</td>\n",
       "      <td>55.034818</td>\n",
       "      <td>16.165855</td>\n",
       "    </tr>\n",
       "    <tr>\n",
       "      <th>std</th>\n",
       "      <td>415.523904</td>\n",
       "      <td>42.799892</td>\n",
       "      <td>49.254792</td>\n",
       "      <td>14.876951</td>\n",
       "    </tr>\n",
       "    <tr>\n",
       "      <th>min</th>\n",
       "      <td>0.100000</td>\n",
       "      <td>121.974000</td>\n",
       "      <td>0.000000</td>\n",
       "      <td>0.000000</td>\n",
       "    </tr>\n",
       "    <tr>\n",
       "      <th>25%</th>\n",
       "      <td>1.177000</td>\n",
       "      <td>208.894500</td>\n",
       "      <td>11.945500</td>\n",
       "      <td>3.224000</td>\n",
       "    </tr>\n",
       "    <tr>\n",
       "      <th>50%</th>\n",
       "      <td>13.737000</td>\n",
       "      <td>229.124000</td>\n",
       "      <td>30.697000</td>\n",
       "      <td>12.065000</td>\n",
       "    </tr>\n",
       "    <tr>\n",
       "      <th>75%</th>\n",
       "      <td>161.675000</td>\n",
       "      <td>244.102500</td>\n",
       "      <td>99.980000</td>\n",
       "      <td>23.641000</td>\n",
       "    </tr>\n",
       "    <tr>\n",
       "      <th>max</th>\n",
       "      <td>1887.071000</td>\n",
       "      <td>414.942000</td>\n",
       "      <td>147.835000</td>\n",
       "      <td>54.110000</td>\n",
       "    </tr>\n",
       "  </tbody>\n",
       "</table>\n",
       "</div>"
      ],
      "text/plain": [
       "                 r           v          dv        err\n",
       "count    55.000000   55.000000   55.000000  55.000000\n",
       "mean    205.853182  226.079255   55.034818  16.165855\n",
       "std     415.523904   42.799892   49.254792  14.876951\n",
       "min       0.100000  121.974000    0.000000   0.000000\n",
       "25%       1.177000  208.894500   11.945500   3.224000\n",
       "50%      13.737000  229.124000   30.697000  12.065000\n",
       "75%     161.675000  244.102500   99.980000  23.641000\n",
       "max    1887.071000  414.942000  147.835000  54.110000"
      ]
     },
     "execution_count": 9,
     "metadata": {},
     "output_type": "execute_result"
    }
   ],
   "source": [
    "m31.describe()"
   ]
  },
  {
   "cell_type": "markdown",
   "metadata": {
    "id": "0pDL7U26UcQ6"
   },
   "source": [
    "from https://en.wikipedia.org/wiki/Andromeda_Galaxy get the extent of the luminous component of M31 (Andromeda). The distance of the Galaxy multiplied by the angular size will give you this information from basic trigonometry (make sure you convert the units properly, using astropy). Make sure you include the uncertainties! uncertainties in the distance will give you the uncertainty in the size"
   ]
  },
  {
   "cell_type": "code",
   "execution_count": 10,
   "metadata": {
    "id": "vw0fzV6mSMmU"
   },
   "outputs": [],
   "source": [
    "m31angS = 3.167*u.deg #deg\n",
    "disM31 = 765*u.kpc #kpc \n",
    "disM31_err = 28*u.kpc #kpc"
   ]
  },
  {
   "cell_type": "code",
   "execution_count": 11,
   "metadata": {
    "colab": {
     "base_uri": "https://localhost:8080/"
    },
    "id": "19vmpfMiVFoK",
    "outputId": "ccb076aa-7f82-4546-8bdd-489fffcde444"
   },
   "outputs": [
    {
     "name": "stdout",
     "output_type": "stream",
     "text": [
      "Angular Size of the visible component of Andromeda: 0.06 rad\n"
     ]
    }
   ],
   "source": [
    "print(\"Angular Size of the visible component of Andromeda: {:.2f}\".format(m31angS.to(u.rad)  ))"
   ]
  },
  {
   "cell_type": "code",
   "execution_count": 12,
   "metadata": {
    "colab": {
     "base_uri": "https://localhost:8080/"
    },
    "id": "Iy4_w9p0W_Ha",
    "outputId": "53af62fc-d65c-4ab1-8f62-75315f19ba05"
   },
   "outputs": [
    {
     "name": "stdout",
     "output_type": "stream",
     "text": [
      "Distance of Andromeda: 765.0 kpc +/- 28.0 kpc\n"
     ]
    }
   ],
   "source": [
    "print(\"Distance of Andromeda: {:.1f} +/- {:.1f}\".format(disM31, disM31_err))   #ref https://arxiv.org/abs/1110.3769"
   ]
  },
  {
   "cell_type": "code",
   "execution_count": 13,
   "metadata": {
    "colab": {
     "base_uri": "https://localhost:8080/"
    },
    "id": "Do3enJl8ZdsM",
    "outputId": "07ba64f3-b8f2-4e67-b027-50cd583cabfa"
   },
   "outputs": [
    {
     "name": "stdout",
     "output_type": "stream",
     "text": [
      "Size of the visible component of Andromeda 42.29 +/- 1.55 kpc\n"
     ]
    }
   ],
   "source": [
    "print(\"Size of the visible component of Andromeda {:.2f} +/- {:.2f} kpc\".format((disM31 * m31angS.to(u.rad)).value, (disM31_err * m31angS.to(u.rad)).value))"
   ]
  },
  {
   "cell_type": "markdown",
   "metadata": {
    "id": "2vR5EDMGhgxV"
   },
   "source": [
    "### find the first measurement  in your data table that includes all the luminous mass. \n",
    "\n",
    "What is the smallest radius in your data where the luminous mass is completely included and what is the veolcity at that radius?\n",
    "You can do it by broadcasting (see homework 3)"
   ]
  },
  {
   "cell_type": "markdown",
   "metadata": {
    "id": "3hDmKa5thyR1"
   },
   "source": [
    "We expect the velocity to decrease as 1/r if all mass is included: the velocity at a radius twice as far as the radius that includes all the mass should be a factor 2 slower, three times as far a factor 3 slower. "
   ]
  },
  {
   "cell_type": "markdown",
   "metadata": {
    "id": "LJXyUvKqh6Bd"
   },
   "source": [
    "write a function that \n",
    "\n",
    "1. finds the smallest radius in the dataset that is at least N times the radius of the visible galaxy, \n",
    "\n",
    "2. takes as arguments:\n",
    "    - the data and \n",
    "    - N \n",
    "    - the size of the luminous component of the galaxy\n",
    " \n",
    "2. Returns the value of the radius and its uncertainty and the velocity and its uncertainty"
   ]
  },
  {
   "cell_type": "code",
   "execution_count": 14,
   "metadata": {
    "id": "dN81GOCzjudO"
   },
   "outputs": [],
   "source": [
    "def smallest_radius(data, N, sizelum):\n",
    "  '''\n",
    "  This function takes data as dataframe\n",
    "  N as integer, which defines the number of time the size of luminous radius\n",
    "  sizelum, this defines the physical size (diameter) of luminous part of galaxy \n",
    "  '''\n",
    "  radlum = sizelum.value / 2.  # radius of luminous mass\n",
    "  Radius = data[data.r >= N*radlum].iloc[0]\n",
    "  return Radius\n",
    "\n"
   ]
  },
  {
   "cell_type": "code",
   "execution_count": 15,
   "metadata": {
    "colab": {
     "base_uri": "https://localhost:8080/"
    },
    "id": "Qo9w-rY5A3uR",
    "outputId": "efeb68f8-c4a3-4218-b0f8-e944fa5d15a4"
   },
   "outputs": [
    {
     "name": "stdout",
     "output_type": "stream",
     "text": [
      "Smallest radius and velocity is 23.74, 236.51 respectively, where the luminous mass is complelety included\n"
     ]
    }
   ],
   "source": [
    "sizelum = disM31 * m31angS.to(u.rad) # physical size of luminous mass\n",
    "RadVel = smallest_radius(m31,1,sizelum)\n",
    "print(\"Smallest radius and velocity is {:.2f}, {:.2f} respectively, where the luminous mass is complelety included\".format(RadVel.r, RadVel.v))"
   ]
  },
  {
   "cell_type": "code",
   "execution_count": 16,
   "metadata": {
    "id": "2MJalIINx-Os"
   },
   "outputs": [],
   "source": [
    "def plot_GalRot(data, N, sizelum, ax=None):\n",
    "  if ax == None:\n",
    "    fig,ax = plt.subplots(figsize=(12,8))\n",
    "  else:\n",
    "    ax = ax\n",
    "\n",
    "  ax.errorbar(x=data.r, y=data.v, yerr=data.err, color='blue', alpha=0.7, elinewidth=4, label='v, err = std err')\n",
    "  ax.errorbar(x=data.r, y=data.v, yerr=data.dv, color='blue', alpha=0.4, elinewidth=2, label='v, err = std deviation')\n",
    "  color=['orange', 'green', 'red', 'magenta', 'yellow']\n",
    "  for i in range(0,int(N)):\n",
    "    SR = smallest_radius(data,i+1,sizelum)\n",
    "  #print(SR)\n",
    "    ax.errorbar(SR.r, SR.v, SR.dv, color=color[i], label='{} x radius'.format(i+1))\n",
    "    ax.text(x=SR.r, y=SR.v-1.15*SR.dv, s = \"{:.1f}\".format(SR.v), ha='center', va='bottom', weight='bold', fontsize=12)\n",
    "    ax.text(x=SR.r, y=SR.v-1.15*SR.dv, s = \"({:.1f}, {:.1f})\".format(SR.dv, SR.err), ha='center', va='top', weight='bold',fontsize=12)\n",
    "\n",
    "  ax.set_xlim(0,85)\n",
    "  ax.set_xlabel('radius (kpc)', fontsize=12)\n",
    "  ax.set_ylabel('velocity (km/s)', fontsize=12)\n",
    "  ax.legend();\n",
    "\n",
    "  \n"
   ]
  },
  {
   "cell_type": "code",
   "execution_count": 17,
   "metadata": {
    "colab": {
     "base_uri": "https://localhost:8080/",
     "height": 500
    },
    "id": "0O_jlN_izjoN",
    "outputId": "637db1eb-3d3f-4338-a691-f7d0300d5fdc"
   },
   "outputs": [
    {
     "data": {
      "image/png": "[encoded data removed]",
      "text/plain": [
       "<Figure size 864x576 with 1 Axes>"
      ]
     },
     "metadata": {
      "needs_background": "light"
     },
     "output_type": "display_data"
    }
   ],
   "source": [
    "#Let us plot the velocity as a function of velocity\n",
    "plot_GalRot(data=m31,N=3,sizelum=sizelum)"
   ]
  },
  {
   "cell_type": "markdown",
   "metadata": {
    "id": "tgxoxUry47ll"
   },
   "source": [
    "**M31 rotational curve:** Above plot shows the velocity of satellite galaxies and globular clusters as a function of radius from the center of the M31. Orange(1), green(2) and red(3) lines highlight the value of velocities and associated errors as a multiple of minimum distance containing luminous size of M31 "
   ]
  },
  {
   "cell_type": "code",
   "execution_count": 18,
   "metadata": {
    "id": "Th2oI7pVkRcq"
   },
   "outputs": [],
   "source": [
    "def vratios(data, N, sizelum, err='dv'):\n",
    "  '''\n",
    "  Function ot calculate the ratio of radius and ratio of velocity from the observed data with uncertainties\n",
    "  It also calculate the ratio of velocity vs ratio of radius for the expected results (Newton's law) v2/v1 = sqrt(r1/r2)\n",
    "  '''\n",
    "  df_radius_1 = smallest_radius(data, 1, sizelum)\n",
    "  df_radius_N = smallest_radius(data, N, sizelum)\n",
    "  ratio_radius = df_radius_N.r / df_radius_1.r\n",
    "  ratio_velocity = df_radius_N.v / df_radius_1.v\n",
    "  if err == 'dv':\n",
    "    ratio_velocity_err = abs(df_radius_N.v / df_radius_1.v) * np.sqrt((df_radius_N.dv / df_radius_N.v)**2 + (df_radius_1.dv / df_radius_1.v)**2)\n",
    "  elif err == 'err':\n",
    "    ratio_velocity_err = abs(df_radius_N.v / df_radius_1.v) * np.sqrt((df_radius_N.err / df_radius_N.v)**2 + (df_radius_1.err / df_radius_1.v)**2)\n",
    "  expected_velocity_ratio = np.sqrt(df_radius_1.r / df_radius_N.r)\n",
    "\n",
    "  return ratio_radius, ratio_velocity, ratio_velocity_err, expected_velocity_ratio"
   ]
  },
  {
   "cell_type": "code",
   "execution_count": 19,
   "metadata": {
    "id": "ovesTjDUz0Rr"
   },
   "outputs": [],
   "source": [
    "def plot_vratios(data, N, sizelum, sigma_err = 2):\n",
    "  fig,axes = plt.subplots(1,2,figsize=(15,6))\n",
    "  for i in range(1,N):\n",
    "    data_dv = vratios(data,i,sizelum, err='dv')\n",
    "    data_err = vratios(data,i,sizelum, err='err')\n",
    "    axes[0].errorbar(data_dv[0], data_dv[1], yerr=sigma_err*data_dv[2], marker='o', color='blue', label=\"observed\" if i == 1 else \"\")\n",
    "    axes[0].plot(data_dv[0], data_dv[3], marker='s', linestyle='', color='green', label='expected' if i == 1 else \"\" )\n",
    "\n",
    "    axes[1].errorbar(data_err[0], data_err[1], yerr=sigma_err*data_err[2], marker='o', color='blue', label=\"observed\" if i == 1 else \"\")\n",
    "    axes[1].plot(data_err[0], data_err[3], marker='s', linestyle='', color='green', label='expected' if i == 1 else \"\" )\n",
    "\n",
    "\n",
    "\n",
    "  axes[0].legend(loc='lower left')\n",
    "  axes[0].set_xlabel('Ratio of Radius [N*r/r]')\n",
    "  axes[0].set_ylabel('Ratio of velocities')\n",
    "  axes[0].set_title('Using {} sigma Standard deviation err'.format(sigma_err))\n",
    "\n",
    "\n",
    "  axes[1].legend(loc='lower left')\n",
    "  axes[1].set_xlabel('Ratio of Radius [N*r/r]')\n",
    "  axes[1].set_ylabel('Ratio of velocities');\n",
    "  axes[1].set_title('Using {} sigma err'.format(sigma_err));\n",
    "  #plt.title('M31 galaxy');\n",
    "\n"
   ]
  },
  {
   "cell_type": "code",
   "execution_count": 20,
   "metadata": {
    "colab": {
     "base_uri": "https://localhost:8080/",
     "height": 404
    },
    "id": "0F7AMA-c0IoV",
    "outputId": "36a2ccff-f431-4644-980a-d499b0454811"
   },
   "outputs": [
    {
     "data": {
      "image/png": "[encoded data removed]",
      "text/plain": [
       "<Figure size 1080x432 with 2 Axes>"
      ]
     },
     "metadata": {
      "needs_background": "light"
     },
     "output_type": "display_data"
    }
   ],
   "source": [
    "plot_vratios(m31,8,sizelum,sigma_err=2)"
   ]
  },
  {
   "cell_type": "markdown",
   "metadata": {
    "id": "p_XxyMdDwMp-"
   },
   "source": [
    "**M31**:Above plot shows the ratio of velocities as a function of ratio of radius for both observed and expected (Newton's law) results. The errors on the observed points (blue points) are 2 sigma error. Left plot shows when I use standard deviation as error and right plot shows when I use error around mean in that bin (std / sqrt(bin_count)). Clearly the expected points (green points) on the left plot are consistent within 2 sigma errors with the observation points, whereas the expected points on the right plots are inconsistent within 2 sigma errors with observational data. Therefore, there must be more mass than the mass in the luminous size to have larger velocity ratio than expected. This is the first indirect proof of existence of dark matter. Therefore, Newton's law can be excluded at 2 sigma significance. "
   ]
  },
  {
   "cell_type": "markdown",
   "metadata": {
    "id": "IaRVY8po09YI"
   },
   "source": [
    "# Similar calculations for milkyway galaxy"
   ]
  },
  {
   "cell_type": "code",
   "execution_count": 21,
   "metadata": {
    "id": "qZdhDCNN2yyc"
   },
   "outputs": [],
   "source": [
    "mw = pd.read_csv('https://raw.githubusercontent.com/skumarudel/DSPS_SKumar/master/HW4/mw.csv', comment='#', skiprows=[1], names=['r', 'v', 'dv', 'err'])"
   ]
  },
  {
   "cell_type": "code",
   "execution_count": 22,
   "metadata": {
    "colab": {
     "base_uri": "https://localhost:8080/",
     "height": 206
    },
    "id": "XiZmZFzX25pe",
    "outputId": "63e474e8-24e1-4898-d03c-9b157be0bc26"
   },
   "outputs": [
    {
     "data": {
      "text/html": [
       "<div>\n",
       "<style scoped>\n",
       "    .dataframe tbody tr th:only-of-type {\n",
       "        vertical-align: middle;\n",
       "    }\n",
       "\n",
       "    .dataframe tbody tr th {\n",
       "        vertical-align: top;\n",
       "    }\n",
       "\n",
       "    .dataframe thead th {\n",
       "        text-align: right;\n",
       "    }\n",
       "</style>\n",
       "<table border=\"1\" class=\"dataframe\">\n",
       "  <thead>\n",
       "    <tr style=\"text-align: right;\">\n",
       "      <th></th>\n",
       "      <th>r</th>\n",
       "      <th>v</th>\n",
       "      <th>dv</th>\n",
       "      <th>err</th>\n",
       "    </tr>\n",
       "  </thead>\n",
       "  <tbody>\n",
       "    <tr>\n",
       "      <th>0</th>\n",
       "      <td>0.010</td>\n",
       "      <td>119.061</td>\n",
       "      <td>41.832</td>\n",
       "      <td>32.714</td>\n",
       "    </tr>\n",
       "    <tr>\n",
       "      <th>1</th>\n",
       "      <td>0.012</td>\n",
       "      <td>115.268</td>\n",
       "      <td>35.199</td>\n",
       "      <td>17.100</td>\n",
       "    </tr>\n",
       "    <tr>\n",
       "      <th>2</th>\n",
       "      <td>0.014</td>\n",
       "      <td>117.392</td>\n",
       "      <td>35.152</td>\n",
       "      <td>14.429</td>\n",
       "    </tr>\n",
       "    <tr>\n",
       "      <th>3</th>\n",
       "      <td>0.017</td>\n",
       "      <td>118.475</td>\n",
       "      <td>35.252</td>\n",
       "      <td>14.870</td>\n",
       "    </tr>\n",
       "    <tr>\n",
       "      <th>4</th>\n",
       "      <td>0.021</td>\n",
       "      <td>110.386</td>\n",
       "      <td>33.817</td>\n",
       "      <td>14.427</td>\n",
       "    </tr>\n",
       "  </tbody>\n",
       "</table>\n",
       "</div>"
      ],
      "text/plain": [
       "       r        v      dv     err\n",
       "0  0.010  119.061  41.832  32.714\n",
       "1  0.012  115.268  35.199  17.100\n",
       "2  0.014  117.392  35.152  14.429\n",
       "3  0.017  118.475  35.252  14.870\n",
       "4  0.021  110.386  33.817  14.427"
      ]
     },
     "execution_count": 22,
     "metadata": {},
     "output_type": "execute_result"
    }
   ],
   "source": [
    "mw.head()"
   ]
  },
  {
   "cell_type": "code",
   "execution_count": 23,
   "metadata": {
    "id": "3GINHepN28Jp"
   },
   "outputs": [],
   "source": [
    "#stellar disk size is 185 +/- 15 klyr       ----> ref https://en.wikipedia.org/wiki/Milky_Way\n",
    "mw_size = 185 *u.klyr.to(u.kpc) * u.kpc\n",
    "mw_size_err = 15 *u.klyr.to(u.kpc) * u.kpc\n"
   ]
  },
  {
   "cell_type": "code",
   "execution_count": 24,
   "metadata": {
    "colab": {
     "base_uri": "https://localhost:8080/"
    },
    "id": "5Ypb2bTfBNHA",
    "outputId": "ad9533b7-9dbd-4fb9-ee63-5cb2913da214"
   },
   "outputs": [
    {
     "name": "stdout",
     "output_type": "stream",
     "text": [
      "Size of the visible component of Milky way 56.72 kpc +/- 4.60 kpc\n"
     ]
    }
   ],
   "source": [
    "print(\"Size of the visible component of Milky way {:.2f} +/- {:.2f}\".format(mw_size, mw_size_err))"
   ]
  },
  {
   "cell_type": "code",
   "execution_count": 25,
   "metadata": {
    "colab": {
     "base_uri": "https://localhost:8080/",
     "height": 500
    },
    "id": "BEKt9WdOBx4p",
    "outputId": "2117c6d6-d29f-4623-f46f-462acd9d8293"
   },
   "outputs": [
    {
     "data": {
      "image/png": "[encoded data removed]",
      "text/plain": [
       "<Figure size 864x576 with 1 Axes>"
      ]
     },
     "metadata": {
      "needs_background": "light"
     },
     "output_type": "display_data"
    }
   ],
   "source": [
    "fig,ax = plt.subplots(figsize=(12,8))\n",
    "plot_GalRot(data=mw, N=3, sizelum=mw_size,ax=ax)\n",
    "ax.set_xlim(0,100);"
   ]
  },
  {
   "cell_type": "markdown",
   "metadata": {
    "id": "xU0nmuQiIOtU"
   },
   "source": [
    "**Milky way rotational curve:** Above plot shows the velocity of satellite galaxies and globular clusters as a function of radius from the center of the M31. Orange(1), green(2) and red(3) lines highlight the value of velocities and associated errors as a multiple of minimum distance containing luminous size of Milky way"
   ]
  },
  {
   "cell_type": "code",
   "execution_count": 26,
   "metadata": {
    "colab": {
     "base_uri": "https://localhost:8080/",
     "height": 404
    },
    "id": "2kUsxYxDDPLy",
    "outputId": "e23b383b-77ed-4f17-dd00-e5f25ecdf952"
   },
   "outputs": [
    {
     "data": {
      "image/png": "[encoded data removed]",
      "text/plain": [
       "<Figure size 1080x432 with 2 Axes>"
      ]
     },
     "metadata": {
      "needs_background": "light"
     },
     "output_type": "display_data"
    }
   ],
   "source": [
    "plot_vratios(mw,8,sizelum=mw_size,sigma_err=2)"
   ]
  },
  {
   "cell_type": "markdown",
   "metadata": {
    "id": "BmQt03cxFjLP"
   },
   "source": [
    "**Milky way:** Above plot shows the ratio of velocities as a function of ratio of radius for both observed and expected (Newton's law) results. The errors on the observed points (blue points) are 2 sigma error. Left plot shows when I use standard deviation as error and right plot shows when I use error around mean in that bin (std/sqrt(bin count)). Clearly the expected points (green points) on the left and right plot are consistent within 2 sigma errors with the observation points. Therefore, we can not exclude the Newton's law to explain the observations. "
   ]
  },
  {
   "cell_type": "markdown",
   "metadata": {},
   "source": [
    "---"
   ]
  },
  {
   "cell_type": "markdown",
   "metadata": {},
   "source": [
    "<h1 style=\"color:red\"> Awesome !</h1>\n"
   ]
  }
 ],
 "metadata": {
  "colab": {
   "include_colab_link": true,
   "name": "GalRotation.ipynb",
   "provenance": []
  },
  "kernelspec": {
   "display_name": "Python 3",
   "language": "python",
   "name": "python3"
  },
  "language_info": {
   "codemirror_mode": {
    "name": "ipython",
    "version": 3
   },
   "file_extension": ".py",
   "mimetype": "text/x-python",
   "name": "python",
   "nbconvert_exporter": "python",
   "pygments_lexer": "ipython3",
   "version": "3.6.8"
  }
 },
 "nbformat": 4,
 "nbformat_minor": 1
}
