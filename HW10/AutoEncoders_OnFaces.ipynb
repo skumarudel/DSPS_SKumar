{
  "nbformat": 4,
  "nbformat_minor": 0,
  "metadata": {
    "colab": {
      "name": "AutoEncoders_OnFaces.ipynb",
      "provenance": [],
      "authorship_tag": "ABX9TyPyg8vzJ8qJJfn6p1llEKtG",
      "include_colab_link": true
    },
    "kernelspec": {
      "name": "python3",
      "display_name": "Python 3"
    },
    "language_info": {
      "name": "python"
    }
  },
  "cells": [
    {
      "cell_type": "markdown",
      "metadata": {
        "id": "view-in-github",
        "colab_type": "text"
      },
      "source": [
        "<a href=\"https://colab.research.google.com/github/skumarudel/DSPS_SKumar/blob/master/HW10/AutoEncoders_OnFaces.ipynb\" target=\"_parent\"><img src=\"https://colab.research.google.com/assets/colab-badge.svg\" alt=\"Open In Colab\"/></a>"
      ]
    },
    {
      "cell_type": "code",
      "metadata": {
        "id": "HgiHehyEQmvS"
      },
      "source": [
        "from keras.models import Sequential\n",
        "from keras.layers import Dense#, Dropout, Flatten\n",
        "#from keras.layers import Conv2D, MaxPooling2D\n",
        "from keras import backend as K\n",
        "import glob\n",
        "import h5py\n",
        "from PIL import Image\n",
        "import numpy as np\n",
        "import pylab as pl\n",
        "import matplotlib.pyplot as plt\n",
        "%matplotlib inline"
      ],
      "execution_count": 4,
      "outputs": []
    },
    {
      "cell_type": "code",
      "metadata": {
        "colab": {
          "base_uri": "https://localhost:8080/"
        },
        "id": "R3Gg472TQRAr",
        "outputId": "69cd94bb-9d93-48d8-97d9-4cc87a9ef421"
      },
      "source": [
        "from google.colab import drive\n",
        "\n",
        "drive.mount(\"/content/gdrive\")"
      ],
      "execution_count": 1,
      "outputs": [
        {
          "output_type": "stream",
          "name": "stdout",
          "text": [
            "Mounted at /content/gdrive\n"
          ]
        }
      ]
    },
    {
      "cell_type": "code",
      "metadata": {
        "colab": {
          "base_uri": "https://localhost:8080/"
        },
        "id": "A5CPO_IyQTVD",
        "outputId": "9c7b4b2c-bdeb-4070-9396-b6a199a6462a"
      },
      "source": [
        "cd /content/gdrive/Shareddrives/DSPS2021"
      ],
      "execution_count": 6,
      "outputs": [
        {
          "output_type": "stream",
          "name": "stdout",
          "text": [
            "/content/gdrive/Shareddrives/DSPS2021\n"
          ]
        }
      ]
    },
    {
      "cell_type": "code",
      "metadata": {
        "colab": {
          "base_uri": "https://localhost:8080/"
        },
        "id": "Ik_dqfJOQdgR",
        "outputId": "7c98462c-f60d-413c-aa7b-3e442c11e591"
      },
      "source": [
        "!ls"
      ],
      "execution_count": 7,
      "outputs": [
        {
          "output_type": "stream",
          "name": "stdout",
          "text": [
            "10802534_761689917241346_821292660_n.jpg  galaxies.npy\n",
            "ak0.png\t\t\t\t\t  higgsb\n",
            "ak1.png\t\t\t\t\t  images_test_rev1.zip\n",
            "ak2.png\t\t\t\t\t  images_training_rev1\n",
            "ak3.png\t\t\t\t\t  images_training_rev1.zip\n",
            "ak4.png\t\t\t\t\t  kaggleTitanic\n",
            "all_ones_benchmark.zip\t\t\t  nyzipcodes\n",
            "all_zeros_benchmark.zip\t\t\t  training_solutions_rev1.csv\n",
            "central_pixel_benchmark.zip\t\t  training_solutions_rev1.zip\n",
            "data\t\t\t\t\t  uo_img.jpg\n"
          ]
        }
      ]
    },
    {
      "cell_type": "code",
      "metadata": {
        "id": "3aMl4MQSQelh"
      },
      "source": [
        ""
      ],
      "execution_count": null,
      "outputs": []
    }
  ]
}