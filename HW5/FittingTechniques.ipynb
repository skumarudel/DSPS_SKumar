{
  "nbformat": 4,
  "nbformat_minor": 0,
  "metadata": {
    "colab": {
      "name": "FittingTechniques.ipynb",
      "provenance": [],
      "include_colab_link": true
    },
    "kernelspec": {
      "name": "python3",
      "display_name": "Python 3"
    },
    "language_info": {
      "name": "python"
    }
  },
  "cells": [
    {
      "cell_type": "markdown",
      "metadata": {
        "id": "view-in-github",
        "colab_type": "text"
      },
      "source": [
        "<a href=\"https://colab.research.google.com/github/skumarudel/DSPS_SKumar/blob/master/HW5/FittingTechniques.ipynb\" target=\"_parent\"><img src=\"https://colab.research.google.com/assets/colab-badge.svg\" alt=\"Open In Colab\"/></a>"
      ]
    },
    {
      "cell_type": "code",
      "metadata": {
        "id": "DVd2OPDhYriU"
      },
      "source": [
        "import pandas as pd\n",
        "import numpy as np\n",
        "import matplotlib.pyplot as plt\n",
        "import pandas as pd\n",
        "%matplotlib inline"
      ],
      "execution_count": 1,
      "outputs": []
    },
    {
      "cell_type": "code",
      "metadata": {
        "colab": {
          "base_uri": "https://localhost:8080/",
          "height": 206
        },
        "id": "9-3su2VMWuRt",
        "outputId": "6189016d-122b-4777-ca64-2cedbe8da407"
      },
      "source": [
        "df_data = pd.read_csv('https://raw.githubusercontent.com/skumarudel/DSPS_SKumar/master/HW5/hbl2017.csv', comment='#', sep=',', header=None, names=['ID', 'x', 'y', 'sigmay', 'sigmax', 'rhoxy'])\n",
        "df_data.head()"
      ],
      "execution_count": 2,
      "outputs": [
        {
          "output_type": "execute_result",
          "data": {
            "text/html": [
              "<div>\n",
              "<style scoped>\n",
              "    .dataframe tbody tr th:only-of-type {\n",
              "        vertical-align: middle;\n",
              "    }\n",
              "\n",
              "    .dataframe tbody tr th {\n",
              "        vertical-align: top;\n",
              "    }\n",
              "\n",
              "    .dataframe thead th {\n",
              "        text-align: right;\n",
              "    }\n",
              "</style>\n",
              "<table border=\"1\" class=\"dataframe\">\n",
              "  <thead>\n",
              "    <tr style=\"text-align: right;\">\n",
              "      <th></th>\n",
              "      <th>ID</th>\n",
              "      <th>x</th>\n",
              "      <th>y</th>\n",
              "      <th>sigmay</th>\n",
              "      <th>sigmax</th>\n",
              "      <th>rhoxy</th>\n",
              "    </tr>\n",
              "  </thead>\n",
              "  <tbody>\n",
              "    <tr>\n",
              "      <th>0</th>\n",
              "      <td>1</td>\n",
              "      <td>201</td>\n",
              "      <td>592</td>\n",
              "      <td>61</td>\n",
              "      <td>9</td>\n",
              "      <td>-0.84</td>\n",
              "    </tr>\n",
              "    <tr>\n",
              "      <th>1</th>\n",
              "      <td>2</td>\n",
              "      <td>244</td>\n",
              "      <td>401</td>\n",
              "      <td>25</td>\n",
              "      <td>4</td>\n",
              "      <td>0.31</td>\n",
              "    </tr>\n",
              "    <tr>\n",
              "      <th>2</th>\n",
              "      <td>3</td>\n",
              "      <td>47</td>\n",
              "      <td>583</td>\n",
              "      <td>38</td>\n",
              "      <td>11</td>\n",
              "      <td>0.64</td>\n",
              "    </tr>\n",
              "    <tr>\n",
              "      <th>3</th>\n",
              "      <td>4</td>\n",
              "      <td>287</td>\n",
              "      <td>402</td>\n",
              "      <td>15</td>\n",
              "      <td>7</td>\n",
              "      <td>-0.27</td>\n",
              "    </tr>\n",
              "    <tr>\n",
              "      <th>4</th>\n",
              "      <td>5</td>\n",
              "      <td>203</td>\n",
              "      <td>495</td>\n",
              "      <td>21</td>\n",
              "      <td>5</td>\n",
              "      <td>-0.33</td>\n",
              "    </tr>\n",
              "  </tbody>\n",
              "</table>\n",
              "</div>"
            ],
            "text/plain": [
              "   ID    x    y  sigmay  sigmax  rhoxy\n",
              "0   1  201  592      61       9  -0.84\n",
              "1   2  244  401      25       4   0.31\n",
              "2   3   47  583      38      11   0.64\n",
              "3   4  287  402      15       7  -0.27\n",
              "4   5  203  495      21       5  -0.33"
            ]
          },
          "metadata": {},
          "execution_count": 2
        }
      ]
    },
    {
      "cell_type": "code",
      "metadata": {
        "id": "iJAhyWYg6iNb"
      },
      "source": [
        "def line(x,parameters):\n",
        "  '''\n",
        "  function to fit line of any degree to the data,\n",
        "  if parameters = 2, line fit\n",
        "  if parameteres = 3, polynomial fit of second degree\n",
        "  '''\n",
        "  par_deg = len(parameters)\n",
        "\n",
        "  func = 0\n",
        "  for i in range(par_deg):\n",
        "    func += parameters[i] * x**i\n",
        "  return func"
      ],
      "execution_count": 3,
      "outputs": []
    },
    {
      "cell_type": "code",
      "metadata": {
        "id": "I6i4prZE930a"
      },
      "source": [
        "def plot_line(data, data_range, degree):\n",
        "  '''\n",
        "  This function takes data as dataframe\n",
        "  you can also select the range of data you want to use using data_range, for example by giving range(4,20), range(10,20) etc\n",
        "  you can also define the degree of polynomial fit using degree parameter, where degree=1 means line fit and degree=2 mean polynomial fit of second degree\n",
        "  '''\n",
        "  df = data.iloc[data_range]\n",
        "  x = df.x.values\n",
        "  dictt = {'0': np.ones(len(x))}\n",
        "  for i in range(int(degree)):\n",
        "    dictt[str(i+1)] = df.x**(i+1)\n",
        "\n",
        "  A = np.column_stack(tuple(dictt.values()))\n",
        "  Y = (np.array(df.y.values)).reshape(-1,1)\n",
        "  C = np.diag(df.sigmay.values**2)\n",
        "  X = np.dot(np.linalg.inv(np.dot(A.T, np.dot(np.linalg.inv(C), A))), np.dot(A.T, np.dot(np.linalg.inv(C), Y)))\n",
        "  Covariance = np.linalg.inv(np.dot(A.T, np.dot(np.linalg.inv(C), A)))\n",
        "  parameters = X.flatten()\n",
        "  variances = np.diagonal(Covariance)\n",
        "  \n",
        "  xx = np.linspace(0,300,20)\n",
        "  fig,axes = plt.subplots(figsize=(6,6))\n",
        "  axes.errorbar(df.x, df.y, yerr=df.sigmay, linestyle='', marker='o', capsize=3, color='black')\n",
        "  axes.plot(xx, line(xx, parameters = parameters), color='black')\n",
        "  if degree == 1:\n",
        "    text_label = \"$y = ({:.2f} \\pm {:.2f})x + ({:.0f} \\pm {:.0f})$\".format(parameters[1],np.sqrt(variances[1]), parameters[0],np.sqrt(variances[0]))\n",
        "    axes.text(100,100, s = text_label, fontsize=11, fontweight='bold')\n",
        "  elif degree == 2:\n",
        "    text_label = \"$y = ({param2:.4f} \\pm {err2:.4f})x^{{2}} + ({param1:.2f} \\pm {err1:.2f})x +({param0:.0f} \\pm {err0:.0f})$\".format(param2=parameters[2], err2=np.sqrt(variances[2]), param1=parameters[1], err1=np.sqrt(variances[1]), param0=parameters[0], err0=np.sqrt(variances[0]))\n",
        "    axes.text(40,100, s = text_label, fontsize=11, fontweight='bold')\n",
        "  axes.text(50,50, s = \"Standard uncertainty variance on m = {:.3f}\".format(variances[1]), fontsize=10, fontweight='bold')\n",
        "  plt.xlim(0,300)\n",
        "  plt.ylim(0,700)\n",
        "  plt.xlabel('x')\n",
        "  plt.ylabel('y')\n",
        "  #print(parameters, np.sqrt(variances))\n"
      ],
      "execution_count": 4,
      "outputs": []
    },
    {
      "cell_type": "markdown",
      "metadata": {
        "id": "bT2JmuPtyQmn"
      },
      "source": [
        "#Excercise 1     [Reference Paper](https://cosmo.nyu.edu/hogg/research/2010/08/17/straightline.pdf)"
      ]
    },
    {
      "cell_type": "code",
      "metadata": {
        "colab": {
          "base_uri": "https://localhost:8080/",
          "height": 392
        },
        "id": "JIvW5Ghc209b",
        "outputId": "47561ef2-02bb-4fbc-db89-61a48696beaf"
      },
      "source": [
        "plot_line(data=df_data, data_range=range(4,20), degree=1)"
      ],
      "execution_count": 5,
      "outputs": [
        {
          "output_type": "display_data",
          "data": {
            "image/png": "[encoded data removed]",
            "text/plain": [
              "<Figure size 432x432 with 1 Axes>"
            ]
          },
          "metadata": {
            "needs_background": "light"
          }
        }
      ]
    },
    {
      "cell_type": "markdown",
      "metadata": {
        "id": "_mdlLf7vZnVp"
      },
      "source": [
        "Above plot shows the demonstration of fitting a line to data points from 5 to 20 in the data frame (df_data) using the matrix algebra.Standard uncertainity on the varince is given by the diagonal element of the covarinace matrix and is annotated on the plot (m = 0.012)"
      ]
    },
    {
      "cell_type": "markdown",
      "metadata": {
        "id": "RB5pVVNu6I1S"
      },
      "source": [
        "#Excercise 2     [Reference Paper](https://cosmo.nyu.edu/hogg/research/2010/08/17/straightline.pdf)"
      ]
    },
    {
      "cell_type": "code",
      "metadata": {
        "colab": {
          "base_uri": "https://localhost:8080/",
          "height": 392
        },
        "id": "4H3o2lgW618S",
        "outputId": "38733910-8403-4e78-a7aa-24ae6bc99d7c"
      },
      "source": [
        "plot_line(data=df_data, data_range=range(0,20), degree=1)"
      ],
      "execution_count": 6,
      "outputs": [
        {
          "output_type": "display_data",
          "data": {
            "image/png": "[encoded data removed]",
            "text/plain": [
              "<Figure size 432x432 with 1 Axes>"
            ]
          },
          "metadata": {
            "needs_background": "light"
          }
        }
      ]
    },
    {
      "cell_type": "markdown",
      "metadata": {
        "id": "TGtZMWGcaaSQ"
      },
      "source": [
        "Above plot shows the demonstration of fitting a line to all the data points in the data frame (df_data) using the matrix algebra. Standard uncertainity on the varince is given by the diagonal element of the covarinace matrix and is annotated on the plot (m = 0.006). You can also see that adding 4 more points pull the line at the higher end to lower side and to the lower end to higher side. This is because the points which are to far away from the line (kind of outliers) dominate the sum-of-the-squares calculation in chi2 formula (equ 7 in paper), and lead to a different slope (misleading results)."
      ]
    },
    {
      "cell_type": "markdown",
      "metadata": {
        "id": "J_hVd_ktHSZK"
      },
      "source": [
        "#Excercise 3     [Reference Paper](https://cosmo.nyu.edu/hogg/research/2010/08/17/straightline.pdf)"
      ]
    },
    {
      "cell_type": "code",
      "metadata": {
        "colab": {
          "base_uri": "https://localhost:8080/",
          "height": 392
        },
        "id": "MUqE6bKMOf5h",
        "outputId": "5143f441-7b19-42ac-ddca-04a1d7b8e9db"
      },
      "source": [
        "plot_line(data=df_data, data_range=range(4,20), degree=2)"
      ],
      "execution_count": 7,
      "outputs": [
        {
          "output_type": "display_data",
          "data": {
            "image/png": "[encoded data removed]",
            "text/plain": [
              "<Figure size 432x432 with 1 Axes>"
            ]
          },
          "metadata": {
            "needs_background": "light"
          }
        }
      ]
    },
    {
      "cell_type": "markdown",
      "metadata": {
        "id": "qPr9dItzboLi"
      },
      "source": [
        "Results of fitting a second order polynomial to the data points from 5 to 20 in the data frame (df_data). You can see that the coefficients of the quadratic term (x sqaure) are pretty small and not very significant looking at the coef/coef_err ratio"
      ]
    },
    {
      "cell_type": "markdown",
      "metadata": {
        "id": "5HQmNO7lnR6L"
      },
      "source": [
        "#Excercise 4     [Reference Paper](https://cosmo.nyu.edu/hogg/research/2010/08/17/straightline.pdf)\n",
        "\n",
        "* Likelihood function \n",
        "* Maximizing Likelihood function with respect to parameteres we want to find"
      ]
    },
    {
      "cell_type": "markdown",
      "metadata": {
        "id": "O9acbsERoXSz"
      },
      "source": [
        "Here we will use the classical maximum liklihood approach to find the parameter of interest(T).Given a single observation $t_{i}$, we can compute the probability of this measurement given it is generated from a Gaussian model having a mean of T (parameter of interest) and errors on measurements $\\sigma_{ti}$:\n",
        "\\begin{equation}\n",
        "P(t_{i}| T) = \\frac{1}{\\sqrt{2\\pi \\sigma_{ti}^2}}\\exp\\Big[\\frac{-(t_{i} - T)^2}{2\\sigma_{ti}^2}\\Big]\n",
        "\\end{equation}\n",
        "\n",
        "We construct the likelihood function by computing the product of the probabilities for each data point:\n",
        "\n",
        "\\begin{equation}\n",
        "L(D|T) = \\prod\\limits_{i=1}^n P(t_{i} | T)\n",
        "\\end{equation}\n",
        "Here D represents the entire set of measurements ($t_{1}$, $t_{2}$ ..$t_{n}$).Because the value of the likelihood can become very small, it is often more convenient to instead compute the log-likelihood. Combining the previous two equations and computing the log\n",
        "\n",
        "\\begin{equation}\n",
        "\\log L = -\\frac{1}{2} \\sum\\limits_{i=1}^n \\Big[ \\log(2\\pi \\sigma_{ti}^2) + \\frac {(t_{i} - T)^2}{\\sigma_{ti}^2}\\Big]\n",
        "\\end{equation}\n",
        "\n",
        "\n",
        "What we'd like to do is determine $T$ by maximizing the log-likelihood. For this simple problem, the maximization can be done numerically or analytically. I will use analytical method here.\n",
        "\n",
        "First term from last equation will be zero since it does not depend upon T\n",
        "\n",
        "\\begin{equation}\n",
        "\\frac{d logL}{dT} = \\sum\\limits_{i=1}^n \\frac{(t_{i} - T)}{\\sigma_{ti}^{2}}\n",
        "\\end{equation}\n",
        "\n",
        "For maximizing, equate the derivative to zero:\n",
        "\n",
        "\\begin{equation}\n",
        "\\frac{d logL}{dT} = 0\n",
        "\\end{equation}\n",
        "\n",
        "\\begin{equation}\n",
        " \\sum\\limits_{i=1}^n \\frac{(t_{i} - T)}{\\sigma_{ti}^{2}} = 0\n",
        "\\end{equation}\n",
        "\n",
        "\\begin{equation}\n",
        " \\sum\\limits_{i=1}^n \\frac{t_{i}}{\\sigma_{ti}^{2}} = T \\sum\\limits_{i=1}^n \\frac{1}{\\sigma_{ti}^{2}}\n",
        "\\end{equation}\n",
        "\n",
        "\n",
        "Rearrange and using simple algebra:\n",
        "\n",
        "\\begin{equation}\n",
        " T = \\frac{\\sum\\limits_{i=1}^n \\frac{t_{i}}{\\sigma_{ti}^{2}}}{\\sum\\limits_{i=1}^n \\frac{1}{\\sigma_{ti}^{2}}}\n",
        "\\end{equation}\n",
        "\n",
        "define $$w_{i} = \\frac{1}{\\sigma_{ti}^2}$$\n",
        "\n",
        "\\begin{equation}\n",
        " T = \\frac{\\sum\\limits_{i=1}^n w_{i}t_{i}}{\\sum\\limits_{i=1}^n w_{i}}\n",
        "\\end{equation}\n",
        "\n",
        "**Equation of weighted mean**. Hence proved\n",
        "\n"
      ]
    },
    {
      "cell_type": "code",
      "metadata": {
        "id": "17UaP9C5vWPV"
      },
      "source": [
        ""
      ],
      "execution_count": null,
      "outputs": []
    }
  ]
}