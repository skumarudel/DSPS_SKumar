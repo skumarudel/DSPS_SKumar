{
  "nbformat": 4,
  "nbformat_minor": 0,
  "metadata": {
    "colab": {
      "name": "DSPS2021_FinalExam_SajanKumar.ipynb",
      "provenance": [],
      "collapsed_sections": [],
      "authorship_tag": "ABX9TyP1GXx3sVTnrqU/+lznXjns",
      "include_colab_link": true
    },
    "kernelspec": {
      "name": "python3",
      "display_name": "Python 3"
    },
    "language_info": {
      "name": "python"
    }
  },
  "cells": [
    {
      "cell_type": "markdown",
      "metadata": {
        "id": "view-in-github",
        "colab_type": "text"
      },
      "source": [
        "<a href=\"https://colab.research.google.com/github/skumarudel/DSPS_SKumar/blob/master/FinalExam/DSPS2021_FinalExam_SajanKumar.ipynb\" target=\"_parent\"><img src=\"https://colab.research.google.com/assets/colab-badge.svg\" alt=\"Open In Colab\"/></a>"
      ]
    },
    {
      "cell_type": "markdown",
      "source": [
        "@ Final exam from Sajan Kumar"
      ],
      "metadata": {
        "id": "4iRWrAYdyYAa"
      }
    },
    {
      "cell_type": "code",
      "source": [
        "from google.colab import drive\n",
        "drive.mount(\"/content/drive\")"
      ],
      "metadata": {
        "colab": {
          "base_uri": "https://localhost:8080/"
        },
        "id": "L5FdxE6nyVuB",
        "outputId": "ede52753-a5c2-4124-d854-6c888f0319a4"
      },
      "execution_count": 1,
      "outputs": [
        {
          "output_type": "stream",
          "name": "stdout",
          "text": [
            "Mounted at /content/drive\n"
          ]
        }
      ]
    },
    {
      "cell_type": "code",
      "source": [
        "cd \"/content/drive/MyDrive/DSPSFinalExam\""
      ],
      "metadata": {
        "colab": {
          "base_uri": "https://localhost:8080/"
        },
        "id": "-jt7nsSFzUH0",
        "outputId": "cc4c045f-1dcd-43c6-c755-afbb11c3b761"
      },
      "execution_count": 2,
      "outputs": [
        {
          "output_type": "stream",
          "name": "stdout",
          "text": [
            "/content/drive/MyDrive/DSPSFinalExam\n"
          ]
        }
      ]
    },
    {
      "cell_type": "code",
      "source": [
        "#hide\n",
        "import pandas as pd\n",
        "import numpy as np\n",
        "import matplotlib.pyplot as plt\n",
        "import seaborn as sns\n",
        "from scipy import stats\n",
        "import statsmodels.api as sm\n",
        "from collections import OrderedDict\n",
        "from sklearn import preprocessing\n",
        "from sklearn.preprocessing import PolynomialFeatures\n",
        "from functools import reduce\n",
        "from sklearn.model_selection import train_test_split \n",
        "from sklearn.ensemble import RandomForestClassifier, RandomForestRegressor\n",
        "from sklearn.ensemble import GradientBoostingClassifier, GradientBoostingRegressor\n",
        "from sklearn.model_selection import RandomizedSearchCV\n",
        "from sklearn.metrics import classification_report, roc_auc_score, accuracy_score, confusion_matrix, mean_squared_error\n",
        "from sklearn.preprocessing import LabelEncoder\n",
        "from sklearn.preprocessing import scale\n",
        "%matplotlib inline"
      ],
      "metadata": {
        "id": "2YKHlsMPxLdo"
      },
      "execution_count": 113,
      "outputs": []
    },
    {
      "cell_type": "markdown",
      "source": [
        "# Task I - Data Acquisition code\n",
        "- Download data from kaggle using api (see the commented code below)\n",
        "- Save the data in directory DSPSFinalExam on my drive\n",
        "- However training metadata was different on kaggle as compared to one shown in the exam. So I decided to download the metadata from another source https://zenodo.org/record/2539456#.YbZ0hrtOlH5"
      ],
      "metadata": {
        "id": "lwJLjNEqrdCk"
      }
    },
    {
      "cell_type": "code",
      "source": [
        "#!mkdir .kaggle\n",
        "#!mv kaggle.json .kaggle/\n",
        "#!chmod 600 .kaggle/kaggle.json\n",
        "#!ls .kaggle\n",
        "\n",
        "\n",
        "#import json\n",
        "#envs = json.load(open(\".kaggle/kaggle.json\", \"r\"))\n",
        "#import os\n",
        "#os.environ[\"KAGGLE_USERNAME\"] = envs[\"username\"]\n",
        "#os.environ[\"KAGGLE_KEY\"] = envs[\"key\"]\n",
        "\n",
        "#!pip install kaggle\n",
        "\n",
        "#!kaggle competitions download PLAsTiCC-2018 -f training_set.csv\n",
        "#!kaggle competitions download PLAsTiCC-2018 -f training_set_metadata.csv\n",
        "\n"
      ],
      "metadata": {
        "id": "rnclgxISzyjG"
      },
      "execution_count": 4,
      "outputs": []
    },
    {
      "cell_type": "code",
      "source": [
        "# load the data\n",
        "lcvs = pd.read_csv(\"training_set.csv.zip\", compression='zip')"
      ],
      "metadata": {
        "id": "Kg1KIsOt5PLw"
      },
      "execution_count": 5,
      "outputs": []
    },
    {
      "cell_type": "code",
      "source": [
        "print(\"The dataset contains: (observations, columns)\", lcvs.shape)"
      ],
      "metadata": {
        "colab": {
          "base_uri": "https://localhost:8080/"
        },
        "id": "nHrXXgDC56NA",
        "outputId": "6073367f-6735-4b8f-8080-840b3d68f1f6"
      },
      "execution_count": 6,
      "outputs": [
        {
          "output_type": "stream",
          "name": "stdout",
          "text": [
            "The dataset contains: (observations, columns) (1421705, 6)\n"
          ]
        }
      ]
    },
    {
      "cell_type": "code",
      "source": [
        "lcvs.head()"
      ],
      "metadata": {
        "colab": {
          "base_uri": "https://localhost:8080/",
          "height": 206
        },
        "id": "44AEGl1v5-q1",
        "outputId": "f2e244c1-a1e6-4e85-fb6d-5422d42b0c9f"
      },
      "execution_count": 7,
      "outputs": [
        {
          "output_type": "execute_result",
          "data": {
            "text/html": [
              "<div>\n",
              "<style scoped>\n",
              "    .dataframe tbody tr th:only-of-type {\n",
              "        vertical-align: middle;\n",
              "    }\n",
              "\n",
              "    .dataframe tbody tr th {\n",
              "        vertical-align: top;\n",
              "    }\n",
              "\n",
              "    .dataframe thead th {\n",
              "        text-align: right;\n",
              "    }\n",
              "</style>\n",
              "<table border=\"1\" class=\"dataframe\">\n",
              "  <thead>\n",
              "    <tr style=\"text-align: right;\">\n",
              "      <th></th>\n",
              "      <th>object_id</th>\n",
              "      <th>mjd</th>\n",
              "      <th>passband</th>\n",
              "      <th>flux</th>\n",
              "      <th>flux_err</th>\n",
              "      <th>detected</th>\n",
              "    </tr>\n",
              "  </thead>\n",
              "  <tbody>\n",
              "    <tr>\n",
              "      <th>0</th>\n",
              "      <td>615</td>\n",
              "      <td>59750.4229</td>\n",
              "      <td>2</td>\n",
              "      <td>-544.810303</td>\n",
              "      <td>3.622952</td>\n",
              "      <td>1</td>\n",
              "    </tr>\n",
              "    <tr>\n",
              "      <th>1</th>\n",
              "      <td>615</td>\n",
              "      <td>59750.4306</td>\n",
              "      <td>1</td>\n",
              "      <td>-816.434326</td>\n",
              "      <td>5.553370</td>\n",
              "      <td>1</td>\n",
              "    </tr>\n",
              "    <tr>\n",
              "      <th>2</th>\n",
              "      <td>615</td>\n",
              "      <td>59750.4383</td>\n",
              "      <td>3</td>\n",
              "      <td>-471.385529</td>\n",
              "      <td>3.801213</td>\n",
              "      <td>1</td>\n",
              "    </tr>\n",
              "    <tr>\n",
              "      <th>3</th>\n",
              "      <td>615</td>\n",
              "      <td>59750.4450</td>\n",
              "      <td>4</td>\n",
              "      <td>-388.984985</td>\n",
              "      <td>11.395031</td>\n",
              "      <td>1</td>\n",
              "    </tr>\n",
              "    <tr>\n",
              "      <th>4</th>\n",
              "      <td>615</td>\n",
              "      <td>59752.4070</td>\n",
              "      <td>2</td>\n",
              "      <td>-681.858887</td>\n",
              "      <td>4.041204</td>\n",
              "      <td>1</td>\n",
              "    </tr>\n",
              "  </tbody>\n",
              "</table>\n",
              "</div>"
            ],
            "text/plain": [
              "   object_id         mjd  passband        flux   flux_err  detected\n",
              "0        615  59750.4229         2 -544.810303   3.622952         1\n",
              "1        615  59750.4306         1 -816.434326   5.553370         1\n",
              "2        615  59750.4383         3 -471.385529   3.801213         1\n",
              "3        615  59750.4450         4 -388.984985  11.395031         1\n",
              "4        615  59752.4070         2 -681.858887   4.041204         1"
            ]
          },
          "metadata": {},
          "execution_count": 7
        }
      ]
    },
    {
      "cell_type": "code",
      "source": [
        "lcvs.dtypes"
      ],
      "metadata": {
        "colab": {
          "base_uri": "https://localhost:8080/"
        },
        "id": "ecWb84X7u1yy",
        "outputId": "f5cbee70-3714-475c-b705-7b1927f5abd4"
      },
      "execution_count": 8,
      "outputs": [
        {
          "output_type": "execute_result",
          "data": {
            "text/plain": [
              "object_id      int64\n",
              "mjd          float64\n",
              "passband       int64\n",
              "flux         float64\n",
              "flux_err     float64\n",
              "detected       int64\n",
              "dtype: object"
            ]
          },
          "metadata": {},
          "execution_count": 8
        }
      ]
    },
    {
      "cell_type": "code",
      "source": [
        "lcvs.isnull().values.any()"
      ],
      "metadata": {
        "colab": {
          "base_uri": "https://localhost:8080/"
        },
        "id": "AqmowjxANgx_",
        "outputId": "7e391685-d1c6-41d9-dc1a-9ab99fb805be"
      },
      "execution_count": 9,
      "outputs": [
        {
          "output_type": "execute_result",
          "data": {
            "text/plain": [
              "False"
            ]
          },
          "metadata": {},
          "execution_count": 9
        }
      ]
    },
    {
      "cell_type": "markdown",
      "source": [
        "There are no missing values in the dataframe"
      ],
      "metadata": {
        "id": "t0bRTQCxNzny"
      }
    },
    {
      "cell_type": "markdown",
      "source": [
        "For each object there are 6 time series in 6 different passbands (see overview.) "
      ],
      "metadata": {
        "id": "CJwB-Iijs1b5"
      }
    },
    {
      "cell_type": "code",
      "source": [
        "bands = lcvs[\"passband\"].unique()\n",
        "print(\"Passbands (filter) identifiers:\", bands)"
      ],
      "metadata": {
        "colab": {
          "base_uri": "https://localhost:8080/"
        },
        "id": "6q3Exr6j6ATz",
        "outputId": "b01ab985-314e-4b06-8ed5-5c66fcda9eec"
      },
      "execution_count": 10,
      "outputs": [
        {
          "output_type": "stream",
          "name": "stdout",
          "text": [
            "Passbands (filter) identifiers: [2 1 3 4 5 0]\n"
          ]
        }
      ]
    },
    {
      "cell_type": "code",
      "source": [
        "objects = lcvs[\"object_id\"].unique()\n",
        "print(\"There are {} astrophysical simulated objects in my dataset\".format(objects.shape[0]))"
      ],
      "metadata": {
        "colab": {
          "base_uri": "https://localhost:8080/"
        },
        "id": "4AWXJk-es7Pl",
        "outputId": "b2a78992-e83f-4387-a42e-1b4d6637b47f"
      },
      "execution_count": 11,
      "outputs": [
        {
          "output_type": "stream",
          "name": "stdout",
          "text": [
            "There are 7848 astrophysical simulated objects in my dataset\n"
          ]
        }
      ]
    },
    {
      "cell_type": "code",
      "source": [
        "#metadata = pd.read_csv(\"training_set_metadata.csv\")   # this is downloaded from kaggle\n",
        "# it has the shape of (7848,12)\n",
        "# However, the shape in the exam was (7848,26)\n",
        "# Therefore I decided to download the data from another source https://zenodo.org/record/2539456#.YbZ0hrtOlH5 \n",
        "#metadata.head()\n",
        "#metadata.shape\n",
        "#metadata.columns\n"
      ],
      "metadata": {
        "id": "uEnSe4sKtACI"
      },
      "execution_count": 12,
      "outputs": []
    },
    {
      "cell_type": "markdown",
      "source": [
        "Fron now on, I will be using the below metadata downloeded from different source to match what is given in the exam\n",
        "https://zenodo.org/record/2539456#.YbZ0hrtOlH5"
      ],
      "metadata": {
        "id": "YCqDuTcPvbyF"
      }
    },
    {
      "cell_type": "code",
      "source": [
        "metadata = pd.read_csv(\"/content/drive/MyDrive/DSPSFinalExam/plasticc_train_metadata.csv.gz\") # this one is downloaded from https://zenodo.org/record/2539456#.YbZ0hrtOlH5\n",
        "metadata.head()"
      ],
      "metadata": {
        "colab": {
          "base_uri": "https://localhost:8080/",
          "height": 226
        },
        "id": "symCV1kktTye",
        "outputId": "96e68ce1-fd51-4d61-8e5b-b37c5fbbce67"
      },
      "execution_count": 13,
      "outputs": [
        {
          "output_type": "execute_result",
          "data": {
            "text/html": [
              "<div>\n",
              "<style scoped>\n",
              "    .dataframe tbody tr th:only-of-type {\n",
              "        vertical-align: middle;\n",
              "    }\n",
              "\n",
              "    .dataframe tbody tr th {\n",
              "        vertical-align: top;\n",
              "    }\n",
              "\n",
              "    .dataframe thead th {\n",
              "        text-align: right;\n",
              "    }\n",
              "</style>\n",
              "<table border=\"1\" class=\"dataframe\">\n",
              "  <thead>\n",
              "    <tr style=\"text-align: right;\">\n",
              "      <th></th>\n",
              "      <th>object_id</th>\n",
              "      <th>ra</th>\n",
              "      <th>decl</th>\n",
              "      <th>ddf_bool</th>\n",
              "      <th>hostgal_specz</th>\n",
              "      <th>hostgal_photoz</th>\n",
              "      <th>hostgal_photoz_err</th>\n",
              "      <th>distmod</th>\n",
              "      <th>mwebv</th>\n",
              "      <th>target</th>\n",
              "      <th>true_target</th>\n",
              "      <th>true_submodel</th>\n",
              "      <th>true_z</th>\n",
              "      <th>true_distmod</th>\n",
              "      <th>true_lensdmu</th>\n",
              "      <th>true_vpec</th>\n",
              "      <th>true_rv</th>\n",
              "      <th>true_av</th>\n",
              "      <th>true_peakmjd</th>\n",
              "      <th>libid_cadence</th>\n",
              "      <th>tflux_u</th>\n",
              "      <th>tflux_g</th>\n",
              "      <th>tflux_r</th>\n",
              "      <th>tflux_i</th>\n",
              "      <th>tflux_z</th>\n",
              "      <th>tflux_y</th>\n",
              "    </tr>\n",
              "  </thead>\n",
              "  <tbody>\n",
              "    <tr>\n",
              "      <th>0</th>\n",
              "      <td>615</td>\n",
              "      <td>349.0461</td>\n",
              "      <td>-61.9438</td>\n",
              "      <td>1</td>\n",
              "      <td>0.000</td>\n",
              "      <td>0.000</td>\n",
              "      <td>0.000</td>\n",
              "      <td>-9.000</td>\n",
              "      <td>0.017</td>\n",
              "      <td>92</td>\n",
              "      <td>92</td>\n",
              "      <td>1</td>\n",
              "      <td>0.000</td>\n",
              "      <td>0.000</td>\n",
              "      <td>0.000</td>\n",
              "      <td>0.0</td>\n",
              "      <td>0.0</td>\n",
              "      <td>0.0</td>\n",
              "      <td>59570.000</td>\n",
              "      <td>69</td>\n",
              "      <td>484.7</td>\n",
              "      <td>3286.7</td>\n",
              "      <td>3214.1</td>\n",
              "      <td>3039.7</td>\n",
              "      <td>2854.5</td>\n",
              "      <td>2837.0</td>\n",
              "    </tr>\n",
              "    <tr>\n",
              "      <th>1</th>\n",
              "      <td>713</td>\n",
              "      <td>53.0859</td>\n",
              "      <td>-27.7844</td>\n",
              "      <td>1</td>\n",
              "      <td>1.818</td>\n",
              "      <td>1.627</td>\n",
              "      <td>0.255</td>\n",
              "      <td>45.406</td>\n",
              "      <td>0.007</td>\n",
              "      <td>88</td>\n",
              "      <td>88</td>\n",
              "      <td>1</td>\n",
              "      <td>1.817</td>\n",
              "      <td>45.703</td>\n",
              "      <td>0.000</td>\n",
              "      <td>0.0</td>\n",
              "      <td>0.0</td>\n",
              "      <td>0.0</td>\n",
              "      <td>59570.000</td>\n",
              "      <td>34</td>\n",
              "      <td>108.7</td>\n",
              "      <td>117.7</td>\n",
              "      <td>119.9</td>\n",
              "      <td>149.6</td>\n",
              "      <td>147.9</td>\n",
              "      <td>150.5</td>\n",
              "    </tr>\n",
              "    <tr>\n",
              "      <th>2</th>\n",
              "      <td>730</td>\n",
              "      <td>33.5742</td>\n",
              "      <td>-6.5796</td>\n",
              "      <td>1</td>\n",
              "      <td>0.232</td>\n",
              "      <td>0.226</td>\n",
              "      <td>0.016</td>\n",
              "      <td>40.256</td>\n",
              "      <td>0.021</td>\n",
              "      <td>42</td>\n",
              "      <td>42</td>\n",
              "      <td>2</td>\n",
              "      <td>0.233</td>\n",
              "      <td>40.328</td>\n",
              "      <td>0.004</td>\n",
              "      <td>4.5</td>\n",
              "      <td>0.0</td>\n",
              "      <td>0.0</td>\n",
              "      <td>60444.379</td>\n",
              "      <td>9</td>\n",
              "      <td>0.0</td>\n",
              "      <td>0.0</td>\n",
              "      <td>0.0</td>\n",
              "      <td>0.0</td>\n",
              "      <td>0.0</td>\n",
              "      <td>0.0</td>\n",
              "    </tr>\n",
              "    <tr>\n",
              "      <th>3</th>\n",
              "      <td>745</td>\n",
              "      <td>0.1899</td>\n",
              "      <td>-45.5867</td>\n",
              "      <td>1</td>\n",
              "      <td>0.304</td>\n",
              "      <td>0.281</td>\n",
              "      <td>1.152</td>\n",
              "      <td>40.795</td>\n",
              "      <td>0.007</td>\n",
              "      <td>90</td>\n",
              "      <td>90</td>\n",
              "      <td>1</td>\n",
              "      <td>0.301</td>\n",
              "      <td>40.969</td>\n",
              "      <td>-0.004</td>\n",
              "      <td>257.7</td>\n",
              "      <td>0.0</td>\n",
              "      <td>0.0</td>\n",
              "      <td>60130.453</td>\n",
              "      <td>38</td>\n",
              "      <td>0.0</td>\n",
              "      <td>0.0</td>\n",
              "      <td>0.0</td>\n",
              "      <td>0.0</td>\n",
              "      <td>0.0</td>\n",
              "      <td>0.0</td>\n",
              "    </tr>\n",
              "    <tr>\n",
              "      <th>4</th>\n",
              "      <td>1124</td>\n",
              "      <td>352.7113</td>\n",
              "      <td>-63.8237</td>\n",
              "      <td>1</td>\n",
              "      <td>0.193</td>\n",
              "      <td>0.241</td>\n",
              "      <td>0.018</td>\n",
              "      <td>40.417</td>\n",
              "      <td>0.024</td>\n",
              "      <td>90</td>\n",
              "      <td>90</td>\n",
              "      <td>1</td>\n",
              "      <td>0.193</td>\n",
              "      <td>39.866</td>\n",
              "      <td>-0.002</td>\n",
              "      <td>-368.8</td>\n",
              "      <td>0.0</td>\n",
              "      <td>0.0</td>\n",
              "      <td>60452.641</td>\n",
              "      <td>1</td>\n",
              "      <td>0.0</td>\n",
              "      <td>0.0</td>\n",
              "      <td>0.0</td>\n",
              "      <td>0.0</td>\n",
              "      <td>0.0</td>\n",
              "      <td>0.0</td>\n",
              "    </tr>\n",
              "  </tbody>\n",
              "</table>\n",
              "</div>"
            ],
            "text/plain": [
              "   object_id        ra     decl  ddf_bool  ...  tflux_r  tflux_i  tflux_z  tflux_y\n",
              "0        615  349.0461 -61.9438         1  ...   3214.1   3039.7   2854.5   2837.0\n",
              "1        713   53.0859 -27.7844         1  ...    119.9    149.6    147.9    150.5\n",
              "2        730   33.5742  -6.5796         1  ...      0.0      0.0      0.0      0.0\n",
              "3        745    0.1899 -45.5867         1  ...      0.0      0.0      0.0      0.0\n",
              "4       1124  352.7113 -63.8237         1  ...      0.0      0.0      0.0      0.0\n",
              "\n",
              "[5 rows x 26 columns]"
            ]
          },
          "metadata": {},
          "execution_count": 13
        }
      ]
    },
    {
      "cell_type": "code",
      "source": [
        "metadata.shape"
      ],
      "metadata": {
        "colab": {
          "base_uri": "https://localhost:8080/"
        },
        "id": "_OILpHiJuLV3",
        "outputId": "2c82eaf6-460d-483f-e6f8-10253700e71d"
      },
      "execution_count": 14,
      "outputs": [
        {
          "output_type": "execute_result",
          "data": {
            "text/plain": [
              "(7848, 26)"
            ]
          },
          "metadata": {},
          "execution_count": 14
        }
      ]
    },
    {
      "cell_type": "code",
      "source": [
        "metadata.columns"
      ],
      "metadata": {
        "colab": {
          "base_uri": "https://localhost:8080/"
        },
        "id": "n8zLWoFbvRum",
        "outputId": "74b6e001-c495-4811-bcc5-ef4cce042996"
      },
      "execution_count": 15,
      "outputs": [
        {
          "output_type": "execute_result",
          "data": {
            "text/plain": [
              "Index(['object_id', 'ra', 'decl', 'ddf_bool', 'hostgal_specz',\n",
              "       'hostgal_photoz', 'hostgal_photoz_err', 'distmod', 'mwebv', 'target',\n",
              "       'true_target', 'true_submodel', 'true_z', 'true_distmod',\n",
              "       'true_lensdmu', 'true_vpec', 'true_rv', 'true_av', 'true_peakmjd',\n",
              "       'libid_cadence', 'tflux_u', 'tflux_g', 'tflux_r', 'tflux_i', 'tflux_z',\n",
              "       'tflux_y'],\n",
              "      dtype='object')"
            ]
          },
          "metadata": {},
          "execution_count": 15
        }
      ]
    },
    {
      "cell_type": "code",
      "source": [
        "print(\"The metadata dataset contains more information for each time series: (time-series, columns)\", metadata.shape)"
      ],
      "metadata": {
        "colab": {
          "base_uri": "https://localhost:8080/"
        },
        "id": "8ra7O3G3vTzu",
        "outputId": "cda71660-4a7a-4e35-a70f-841e803bd57c"
      },
      "execution_count": 16,
      "outputs": [
        {
          "output_type": "stream",
          "name": "stdout",
          "text": [
            "The metadata dataset contains more information for each time series: (time-series, columns) (7848, 26)\n"
          ]
        }
      ]
    },
    {
      "cell_type": "markdown",
      "source": [
        "# TASK II : data exploration and visualization - plot some time series - 3 points\n",
        "### 1) You always need to visualize your data to get a sense of what we are working with. The challenge is that here you have 6 photometric bands (6 filters that cover different waelength ranges) for each object. (2 points)\n",
        "\n",
        "**Include object 84716**\n"
      ],
      "metadata": {
        "id": "2ndYBekPxyUB"
      }
    },
    {
      "cell_type": "code",
      "source": [
        "class LightCurve(object):\n",
        "  def __init__(self, dataframe):\n",
        "    self._passband = OrderedDict([(0,'C4'),\\\n",
        "                              (1,'C2'),\\\n",
        "                              (2,'C3'),\\\n",
        "                              (3,'C1'),\\\n",
        "                              (4,'k'),\\\n",
        "                              (5,'C5')])\n",
        "    self._pbnames = ['u','g','r','i','z','y']\n",
        "    self.df = dataframe\n",
        "\n",
        "  def plot(self, object_id, ax = None):\n",
        "    if ax == None:\n",
        "      fig,ax = plt.subplots(figsize=(8,6))\n",
        "    else:\n",
        "      ax = ax\n",
        "    object_id = int(object_id)\n",
        "    df_object = self.df[self.df['object_id'] == object_id]\n",
        "\n",
        "    for key in self._passband:\n",
        "      features = df_object[[\"mjd\", \"flux\", \"flux_err\"]][df_object['passband'] == key]\n",
        "      features = features.to_numpy()\n",
        "      ax.errorbar(x=features[:,0], y=features[:,1], yerr=features[:,2], label=self._pbnames[key], color=self._passband[key], \n",
        "                  marker='o',linestyle='')\n",
        "\n",
        "    ax.legend(ncol=6)\n",
        "    ax.set_xlabel('mjd', weight='bold', fontsize=12)\n",
        "    ax.set_ylabel('flux', weight='bold', fontsize=12)\n"
      ],
      "metadata": {
        "id": "7t_Dd0ZSFEvU"
      },
      "execution_count": 17,
      "outputs": []
    },
    {
      "cell_type": "code",
      "source": [
        "id = 84716\n",
        "LightCurve(dataframe=lcvs).plot(object_id=id)\n",
        "plt.title('Object id = {}'.format(id));"
      ],
      "metadata": {
        "colab": {
          "base_uri": "https://localhost:8080/",
          "height": 407
        },
        "id": "zTTQRC2cU1oe",
        "outputId": "c40bd03e-dd4e-4d27-cb2f-242e939e24a7"
      },
      "execution_count": 18,
      "outputs": [
        {
          "output_type": "display_data",
          "data": {
            "image/png": "[encoded data removed]",
            "text/plain": [
              "<Figure size 576x432 with 1 Axes>"
            ]
          },
          "metadata": {
            "needs_background": "light"
          }
        }
      ]
    },
    {
      "cell_type": "markdown",
      "source": [
        "**Figure 1:** Above figure shows the example of light curve from an object with an id of 84716. It is defined as a variation of flux as a function of time (in MJD). From the figure, it is clear that for most of the time, source is quite or at the base level, and then suddenly around 60300 mjd,  the flux rises like in a flare and then it comes back to its base value again. This type of flaring activitiy generally can be seen in Active Galactic Neuclei "
      ],
      "metadata": {
        "id": "fmN9La4OHQXq"
      }
    },
    {
      "cell_type": "code",
      "source": [
        "# select 12 object randomly from list of objects\n",
        "np.random.seed(12)\n",
        "objects = np.random.choice(lcvs.object_id.unique(), size=12, replace=False)\n",
        "fig,axes = plt.subplots(4,3, figsize=(15,12))\n",
        "axes = axes.flatten()\n",
        "for i in range(len(axes)):\n",
        "  LightCurve(dataframe=lcvs).plot(object_id=objects[i], ax = axes[i])\n",
        "  axes[i].set_title('Object ID = {}'.format(objects[i]))\n",
        "  axes[i].get_legend().remove()  # this is to remove indiviual legend\n",
        "  \n",
        "lines, labels = fig.axes[-1].get_legend_handles_labels()  # this is to do one legend for all the figures\n",
        "fig.legend(lines, labels, loc='center right', fontsize='xx-large')\n",
        "plt.subplots_adjust(hspace=0.5) ;\n",
        "plt.subplots_adjust(wspace=0.3)\n",
        "\n"
      ],
      "metadata": {
        "colab": {
          "base_uri": "https://localhost:8080/",
          "height": 733
        },
        "id": "eAZ4hINDKFO1",
        "outputId": "a55e3b5c-2195-485e-ef7a-d4c919771201"
      },
      "execution_count": 19,
      "outputs": [
        {
          "output_type": "display_data",
          "data": {
            "image/png": "[encoded data removed]",
            "text/plain": [
              "<Figure size 1080x864 with 12 Axes>"
            ]
          },
          "metadata": {
            "needs_background": "light"
          }
        }
      ]
    },
    {
      "cell_type": "markdown",
      "source": [
        "**Figure 2:** Here is the plot of 12 objects selected randomly from a list of 7848 objects. Mostly the light curves resemble like flaring events. However, some objects are different as well. For example, last object (ID=105891238), looks non transient. Similary object with an ID of 289969, looks like a supernova type of event, that occurs and then gone. Lastly, object 294059 looks like a periodic variation like we can see in binary systems. Rest of the objects looks flaring objects"
      ],
      "metadata": {
        "id": "G4QFdKSdI8hm"
      }
    },
    {
      "cell_type": "markdown",
      "source": [
        "## Visualize the distribution of each of the feature of the metadata"
      ],
      "metadata": {
        "id": "nOJU29rj_Y7C"
      }
    },
    {
      "cell_type": "code",
      "source": [
        "metadata.hist(figsize=(12,15), grid=False, layout=(7,4), color='C3', alpha=0.5, bins=20)\n",
        "plt.subplots_adjust(hspace=0.5) ;"
      ],
      "metadata": {
        "colab": {
          "base_uri": "https://localhost:8080/",
          "height": 879
        },
        "id": "5S9c08kb3BIY",
        "outputId": "b440960c-cb30-4e9f-ab78-25c9ffd037fa"
      },
      "execution_count": 80,
      "outputs": [
        {
          "output_type": "display_data",
          "data": {
            "image/png": "[encoded data removed]",
            "text/plain": [
              "<Figure size 864x1080 with 28 Axes>"
            ]
          },
          "metadata": {
            "needs_background": "light"
          }
        }
      ]
    },
    {
      "cell_type": "markdown",
      "source": [
        "**Figure 3:** Distribution of all the features in metadata. Distributions looks like powerlaw distriibutions for lot of features specailly the ones having name `flux` in it Ra and Dec distribution looks more or less like uniform."
      ],
      "metadata": {
        "id": "pmrOF3TXKK5H"
      }
    },
    {
      "cell_type": "markdown",
      "source": [
        "# TASK III: Extract features - 5 points\n",
        "\n",
        "### Feature extraction refers to the extraction of statistical features of the datapoints or the generation of low dimensional representations of the data points that can then be passed to a classifier/regression\n",
        "\n",
        "### * **Minimum Deliverable** Extract at least 4 featues if you are taking PHYS461 and at least 6 if you are taking PHYS661 features including at least 1 feature from all three category below\n",
        "\n",
        "The code that won the callenge did a number of smart things, of course (it was a feature based classification scheme, which included Gaussian Processes in the preprocessing for interpolation). The feature extraction part of the code is here. https://github.com/kboone/avocado/blob/master/avocado/plasticc.py\n",
        "\n",
        "\n",
        "Examples of features you can extract:\n",
        "\n",
        "- **from the original lightcurve**: \n",
        "    - mean, \n",
        "    - standard deviation, \n",
        "    - skewness, \n",
        "    - kurthosis, \n",
        "    - minimum \n",
        "    - maximmum,\n",
        "    - error on the minimum and \n",
        "    - error on the maximum, \n",
        "- **from the standardized lightcurve**:\n",
        "    - median \n",
        "    - slope of a line fit\n",
        "    - intercept of a line fit\n",
        "    - likelihood of the line fit\n",
        "    - likelihood of a quadratic fit\n",
        "    - sign of the quadratic parameter\n",
        "\n",
        "- **from the metadata file**:\n",
        "    - decl; this is one of the positions in the sky variables: important because the position on the sky may determin if it is a galactic or extragalactic object\n",
        "    - ddf_bool ; the kind of survey i.e. the data collection scheme that lead to the time series\n",
        "    - hostgal_photoz\n",
        "    - hostgal_photoz_err\n",
        "    "
      ],
      "metadata": {
        "id": "NfAD7fjkZO_R"
      }
    },
    {
      "cell_type": "markdown",
      "source": [
        "### TASK III.2 extract some features from the raw lightcurve (`lcvs`). List of features i am planning to extract from raw light curve are\n",
        "- mean value of light curve of each object at each filter\n",
        "- Standard deviation\n",
        "- minimum value\n",
        "- Maximum value\n",
        "- Central moments m2, m3 and m4\n",
        "\n",
        "All of above are continous variables\n",
        "\n",
        "Mean can have a good sepearating power in model. For example, the mean value of flux for non-transient sources will be same as compared of transient events where mean can be different becasue of one flare (think of it as outlier which will skew the mean towards it). \n",
        "\n",
        "Similary minimum and maximum value for non-transient sources will be same even for binary systems. However, flaring objects can flare at different strenght which change the maximum value of flux. "
      ],
      "metadata": {
        "id": "aL82ecLU0D2j"
      }
    },
    {
      "cell_type": "code",
      "source": [
        "means = lcvs.groupby([\"object_id\", \"passband\"])[[\"flux\"]].mean().rename({\"flux\":\"mean\"}, axis=1)\n",
        "stds = lcvs.groupby([\"object_id\", \"passband\"])[[\"flux\"]].std(ddof=1).rename({\"flux\":\"std\"}, axis=1)\n",
        "minimum = lcvs.groupby([\"object_id\", \"passband\"])[[\"flux\"]].min().rename({\"flux\":\"min\"}, axis=1)\n",
        "maximum = lcvs.groupby([\"object_id\", \"passband\"])[[\"flux\"]].max().rename({\"flux\":\"max\"}, axis=1)\n",
        "m2 = pd.DataFrame(lcvs.groupby([\"object_id\", \"passband\"])[\"flux\"].apply(lambda x: stats.moment(x, moment=2))).rename({\"flux\":\"m2\"}, axis=1)\n",
        "m3 = pd.DataFrame(lcvs.groupby([\"object_id\", \"passband\"])[\"flux\"].apply(lambda x: stats.moment(x, moment=3))).rename({\"flux\":\"m3\"}, axis=1)\n",
        "m4 = pd.DataFrame(lcvs.groupby([\"object_id\", \"passband\"])[\"flux\"].apply(lambda x: stats.moment(x, moment=4))).rename({\"flux\":\"m4\"}, axis=1)\n"
      ],
      "metadata": {
        "id": "Uw4UrPThJNBm"
      },
      "execution_count": 163,
      "outputs": []
    },
    {
      "cell_type": "markdown",
      "source": [
        "### Task III.3 Normalize flux and create new dataframe (`lcvs_norm`)\n",
        "- Median  ( continous variable)\n",
        "- slope of line fit ( continuous variable)\n",
        "- intercept of line fit (continuous)\n",
        "- log-likehood of line fit (Again continous)\n",
        "- log-likehood of quadfit (same)\n",
        "\n",
        "Slope of line fit will change depending upon if we are fitting a line to nontransient source vs transient source. Also the value of goodness of fit (proxy is log-likehood) can also be used as a powerful feature to separate different set of classes."
      ],
      "metadata": {
        "id": "bcVuVramEOTD"
      }
    },
    {
      "cell_type": "code",
      "source": [
        "lcvs_norm = lcvs.copy() \n",
        "lcvs_norm[\"flux_normed\"] = lcvs_norm.groupby(['object_id', 'passband'])[\"flux\"].apply(lambda x: (x - x.mean()) / x.std())\n",
        "medians = pd.DataFrame(lcvs_norm.groupby(['object_id', 'passband'])[\"flux_normed\"].apply(lambda x: x.median())).rename({\"flux_normed\": \"median\"}, axis=1)"
      ],
      "metadata": {
        "id": "23Jx2QXPECeL"
      },
      "execution_count": 17,
      "outputs": []
    },
    {
      "cell_type": "code",
      "source": [
        "lcvs_norm.head()"
      ],
      "metadata": {
        "colab": {
          "base_uri": "https://localhost:8080/",
          "height": 206
        },
        "id": "2TpsnQzwFBgE",
        "outputId": "74bb097f-9e3b-46f5-9918-04fd188aa678"
      },
      "execution_count": 18,
      "outputs": [
        {
          "output_type": "execute_result",
          "data": {
            "text/html": [
              "<div>\n",
              "<style scoped>\n",
              "    .dataframe tbody tr th:only-of-type {\n",
              "        vertical-align: middle;\n",
              "    }\n",
              "\n",
              "    .dataframe tbody tr th {\n",
              "        vertical-align: top;\n",
              "    }\n",
              "\n",
              "    .dataframe thead th {\n",
              "        text-align: right;\n",
              "    }\n",
              "</style>\n",
              "<table border=\"1\" class=\"dataframe\">\n",
              "  <thead>\n",
              "    <tr style=\"text-align: right;\">\n",
              "      <th></th>\n",
              "      <th>object_id</th>\n",
              "      <th>mjd</th>\n",
              "      <th>passband</th>\n",
              "      <th>flux</th>\n",
              "      <th>flux_err</th>\n",
              "      <th>detected</th>\n",
              "      <th>flux_normed</th>\n",
              "    </tr>\n",
              "  </thead>\n",
              "  <tbody>\n",
              "    <tr>\n",
              "      <th>0</th>\n",
              "      <td>615</td>\n",
              "      <td>59750.4229</td>\n",
              "      <td>2</td>\n",
              "      <td>-544.810303</td>\n",
              "      <td>3.622952</td>\n",
              "      <td>1</td>\n",
              "      <td>-0.902317</td>\n",
              "    </tr>\n",
              "    <tr>\n",
              "      <th>1</th>\n",
              "      <td>615</td>\n",
              "      <td>59750.4306</td>\n",
              "      <td>1</td>\n",
              "      <td>-816.434326</td>\n",
              "      <td>5.553370</td>\n",
              "      <td>1</td>\n",
              "      <td>-0.715759</td>\n",
              "    </tr>\n",
              "    <tr>\n",
              "      <th>2</th>\n",
              "      <td>615</td>\n",
              "      <td>59750.4383</td>\n",
              "      <td>3</td>\n",
              "      <td>-471.385529</td>\n",
              "      <td>3.801213</td>\n",
              "      <td>1</td>\n",
              "      <td>-1.044293</td>\n",
              "    </tr>\n",
              "    <tr>\n",
              "      <th>3</th>\n",
              "      <td>615</td>\n",
              "      <td>59750.4450</td>\n",
              "      <td>4</td>\n",
              "      <td>-388.984985</td>\n",
              "      <td>11.395031</td>\n",
              "      <td>1</td>\n",
              "      <td>-1.141283</td>\n",
              "    </tr>\n",
              "    <tr>\n",
              "      <th>4</th>\n",
              "      <td>615</td>\n",
              "      <td>59752.4070</td>\n",
              "      <td>2</td>\n",
              "      <td>-681.858887</td>\n",
              "      <td>4.041204</td>\n",
              "      <td>1</td>\n",
              "      <td>-1.203442</td>\n",
              "    </tr>\n",
              "  </tbody>\n",
              "</table>\n",
              "</div>"
            ],
            "text/plain": [
              "   object_id         mjd  passband  ...   flux_err  detected  flux_normed\n",
              "0        615  59750.4229         2  ...   3.622952         1    -0.902317\n",
              "1        615  59750.4306         1  ...   5.553370         1    -0.715759\n",
              "2        615  59750.4383         3  ...   3.801213         1    -1.044293\n",
              "3        615  59750.4450         4  ...  11.395031         1    -1.141283\n",
              "4        615  59752.4070         2  ...   4.041204         1    -1.203442\n",
              "\n",
              "[5 rows x 7 columns]"
            ]
          },
          "metadata": {},
          "execution_count": 18
        }
      ]
    },
    {
      "cell_type": "code",
      "source": [
        "def linfit(df):\n",
        "    '''\n",
        "    fits a line to a lightcurve and returns the parameters:\n",
        "    input:\n",
        "      lc: the array containing the lightcurve datapoints\n",
        "    output:\n",
        "      slope\n",
        "      intercept\n",
        "      '''\n",
        "    \n",
        "    polynomial_features= PolynomialFeatures(degree=1)\n",
        "    X = df['mjd'].to_numpy()\n",
        "    X = X - X[0]\n",
        "    xp = polynomial_features.fit_transform(X.reshape(-1,1))\n",
        "    Y = df[\"flux_normed\"].to_numpy().reshape(-1,1)\n",
        "\n",
        "   # X = sm.add_constant(X) #adding a constant\n",
        "    model = sm.OLS(Y, xp).fit()\n",
        "    pars = model.params\n",
        "    return np.append(pars, model.llf)\n",
        "\n",
        "def quadfit(df):\n",
        "    \"\"\"\n",
        "    Fit a polynomial of degree 2\n",
        "    b0 + b1*X + b2*X**2\n",
        "    \"\"\"\n",
        "    polynomial_features= PolynomialFeatures(degree=2)\n",
        "    X = df['mjd'].to_numpy()\n",
        "    X = X - X[0]\n",
        "    xp = polynomial_features.fit_transform(X.reshape(-1,1))\n",
        "    Y = df[\"flux_normed\"].to_numpy().reshape(-1,1)\n",
        "    model = sm.OLS(Y, xp).fit()\n",
        "    return model.llf\n",
        "\n"
      ],
      "metadata": {
        "id": "XU_wbuWfDBl0"
      },
      "execution_count": 164,
      "outputs": []
    },
    {
      "cell_type": "code",
      "source": [
        "linfits = pd.DataFrame(lcvs_norm.groupby([\"object_id\", \"passband\"]).apply(linfit))\n",
        "linfits[\"intercept\"] = [linfits[0].to_numpy()[i][0] for i in range(len(linfits[0]))]\n",
        "linfits[\"slope\"] = [linfits[0].to_numpy()[i][1] for i in range(len(linfits[0]))]\n",
        "linfits[\"ll1\"] = [linfits[0].to_numpy()[i][2] for i in range(len(linfits[0]))]\n",
        "linfits = linfits.drop([0], axis=1)\n",
        "#linfits[['intercept','slope', 'll1']] = pd.DataFrame(linfits['0'].tolist(), index= linfits.index)"
      ],
      "metadata": {
        "id": "Mc1k8FBK84zV"
      },
      "execution_count": 165,
      "outputs": []
    },
    {
      "cell_type": "code",
      "source": [
        "quadfits = pd.DataFrame(lcvs_norm.groupby([\"object_id\", \"passband\"]).apply(quadfit)).rename({0: \"ll2\"}, axis=1)"
      ],
      "metadata": {
        "id": "DT_nsQmZLk0B"
      },
      "execution_count": 166,
      "outputs": []
    },
    {
      "cell_type": "markdown",
      "source": [
        "### Combine all the dataframe calculated above"
      ],
      "metadata": {
        "id": "Mq6qO2eRStod"
      }
    },
    {
      "cell_type": "code",
      "source": [
        "data_frames = [means, stds, minimum, maximum, m2, m3, m4, medians, linfits, quadfits]\n",
        "\n",
        "df_merged = reduce(lambda  left,right: pd.merge(left,right,on=['object_id', 'passband'],\n",
        "                                            how='inner'), data_frames)"
      ],
      "metadata": {
        "id": "dsiccNEMkLWL"
      },
      "execution_count": 168,
      "outputs": []
    },
    {
      "cell_type": "code",
      "source": [
        "df_merged.head()"
      ],
      "metadata": {
        "colab": {
          "base_uri": "https://localhost:8080/",
          "height": 237
        },
        "id": "-kuj6CluM0z_",
        "outputId": "186ede58-e549-4960-dd76-e786f868fffd"
      },
      "execution_count": 190,
      "outputs": [
        {
          "output_type": "execute_result",
          "data": {
            "text/html": [
              "<div>\n",
              "<style scoped>\n",
              "    .dataframe tbody tr th:only-of-type {\n",
              "        vertical-align: middle;\n",
              "    }\n",
              "\n",
              "    .dataframe tbody tr th {\n",
              "        vertical-align: top;\n",
              "    }\n",
              "\n",
              "    .dataframe thead th {\n",
              "        text-align: right;\n",
              "    }\n",
              "</style>\n",
              "<table border=\"1\" class=\"dataframe\">\n",
              "  <thead>\n",
              "    <tr style=\"text-align: right;\">\n",
              "      <th></th>\n",
              "      <th></th>\n",
              "      <th>mean</th>\n",
              "      <th>std</th>\n",
              "      <th>min</th>\n",
              "      <th>max</th>\n",
              "      <th>m2</th>\n",
              "      <th>m3</th>\n",
              "      <th>m4</th>\n",
              "      <th>median</th>\n",
              "      <th>intercept</th>\n",
              "      <th>slope</th>\n",
              "      <th>ll1</th>\n",
              "      <th>ll2</th>\n",
              "    </tr>\n",
              "    <tr>\n",
              "      <th>object_id</th>\n",
              "      <th>passband</th>\n",
              "      <th></th>\n",
              "      <th></th>\n",
              "      <th></th>\n",
              "      <th></th>\n",
              "      <th></th>\n",
              "      <th></th>\n",
              "      <th></th>\n",
              "      <th></th>\n",
              "      <th></th>\n",
              "      <th></th>\n",
              "      <th></th>\n",
              "      <th></th>\n",
              "    </tr>\n",
              "  </thead>\n",
              "  <tbody>\n",
              "    <tr>\n",
              "      <th rowspan=\"5\" valign=\"top\">615</th>\n",
              "      <th>0</th>\n",
              "      <td>-3.254554</td>\n",
              "      <td>83.944735</td>\n",
              "      <td>-116.913223</td>\n",
              "      <td>125.182808</td>\n",
              "      <td>6934.865833</td>\n",
              "      <td>7.266579e+04</td>\n",
              "      <td>7.433032e+07</td>\n",
              "      <td>-0.080537</td>\n",
              "      <td>-0.240792</td>\n",
              "      <td>0.000524</td>\n",
              "      <td>-88.218652</td>\n",
              "      <td>-84.013092</td>\n",
              "    </tr>\n",
              "    <tr>\n",
              "      <th>1</th>\n",
              "      <td>-385.699911</td>\n",
              "      <td>601.787302</td>\n",
              "      <td>-1100.440063</td>\n",
              "      <td>660.626343</td>\n",
              "      <td>355904.026224</td>\n",
              "      <td>8.593916e+07</td>\n",
              "      <td>2.215166e+11</td>\n",
              "      <td>-0.170090</td>\n",
              "      <td>-0.237681</td>\n",
              "      <td>0.000559</td>\n",
              "      <td>-80.869998</td>\n",
              "      <td>-80.867915</td>\n",
              "    </tr>\n",
              "    <tr>\n",
              "      <th>2</th>\n",
              "      <td>-134.146566</td>\n",
              "      <td>455.121346</td>\n",
              "      <td>-681.858887</td>\n",
              "      <td>611.984558</td>\n",
              "      <td>203564.138816</td>\n",
              "      <td>3.040627e+07</td>\n",
              "      <td>6.659406e+10</td>\n",
              "      <td>-0.289021</td>\n",
              "      <td>-0.318807</td>\n",
              "      <td>0.000750</td>\n",
              "      <td>-80.109763</td>\n",
              "      <td>-80.092803</td>\n",
              "    </tr>\n",
              "    <tr>\n",
              "      <th>3</th>\n",
              "      <td>-121.103501</td>\n",
              "      <td>335.425053</td>\n",
              "      <td>-530.644592</td>\n",
              "      <td>445.737061</td>\n",
              "      <td>110570.138947</td>\n",
              "      <td>1.049664e+07</td>\n",
              "      <td>1.919999e+10</td>\n",
              "      <td>-0.122434</td>\n",
              "      <td>-0.386015</td>\n",
              "      <td>0.000908</td>\n",
              "      <td>-79.290039</td>\n",
              "      <td>-79.226482</td>\n",
              "    </tr>\n",
              "    <tr>\n",
              "      <th>4</th>\n",
              "      <td>-55.954592</td>\n",
              "      <td>291.803449</td>\n",
              "      <td>-422.184509</td>\n",
              "      <td>381.953735</td>\n",
              "      <td>83681.162283</td>\n",
              "      <td>4.717542e+06</td>\n",
              "      <td>1.036570e+10</td>\n",
              "      <td>-0.163078</td>\n",
              "      <td>-0.441033</td>\n",
              "      <td>0.001037</td>\n",
              "      <td>-78.480261</td>\n",
              "      <td>-78.160027</td>\n",
              "    </tr>\n",
              "  </tbody>\n",
              "</table>\n",
              "</div>"
            ],
            "text/plain": [
              "                          mean         std  ...        ll1        ll2\n",
              "object_id passband                          ...                      \n",
              "615       0          -3.254554   83.944735  ... -88.218652 -84.013092\n",
              "          1        -385.699911  601.787302  ... -80.869998 -80.867915\n",
              "          2        -134.146566  455.121346  ... -80.109763 -80.092803\n",
              "          3        -121.103501  335.425053  ... -79.290039 -79.226482\n",
              "          4         -55.954592  291.803449  ... -78.480261 -78.160027\n",
              "\n",
              "[5 rows x 12 columns]"
            ]
          },
          "metadata": {},
          "execution_count": 190
        }
      ]
    },
    {
      "cell_type": "code",
      "source": [
        "metadata.head()"
      ],
      "metadata": {
        "colab": {
          "base_uri": "https://localhost:8080/",
          "height": 226
        },
        "id": "JU9S5F3oOj4M",
        "outputId": "4ba258f3-e4b8-4dda-edc5-a637da9771d1"
      },
      "execution_count": 170,
      "outputs": [
        {
          "output_type": "execute_result",
          "data": {
            "text/html": [
              "<div>\n",
              "<style scoped>\n",
              "    .dataframe tbody tr th:only-of-type {\n",
              "        vertical-align: middle;\n",
              "    }\n",
              "\n",
              "    .dataframe tbody tr th {\n",
              "        vertical-align: top;\n",
              "    }\n",
              "\n",
              "    .dataframe thead th {\n",
              "        text-align: right;\n",
              "    }\n",
              "</style>\n",
              "<table border=\"1\" class=\"dataframe\">\n",
              "  <thead>\n",
              "    <tr style=\"text-align: right;\">\n",
              "      <th></th>\n",
              "      <th>object_id</th>\n",
              "      <th>ra</th>\n",
              "      <th>decl</th>\n",
              "      <th>ddf_bool</th>\n",
              "      <th>hostgal_specz</th>\n",
              "      <th>hostgal_photoz</th>\n",
              "      <th>hostgal_photoz_err</th>\n",
              "      <th>distmod</th>\n",
              "      <th>mwebv</th>\n",
              "      <th>target</th>\n",
              "      <th>true_target</th>\n",
              "      <th>true_submodel</th>\n",
              "      <th>true_z</th>\n",
              "      <th>true_distmod</th>\n",
              "      <th>true_lensdmu</th>\n",
              "      <th>true_vpec</th>\n",
              "      <th>true_rv</th>\n",
              "      <th>true_av</th>\n",
              "      <th>true_peakmjd</th>\n",
              "      <th>libid_cadence</th>\n",
              "      <th>tflux_u</th>\n",
              "      <th>tflux_g</th>\n",
              "      <th>tflux_r</th>\n",
              "      <th>tflux_i</th>\n",
              "      <th>tflux_z</th>\n",
              "      <th>tflux_y</th>\n",
              "    </tr>\n",
              "  </thead>\n",
              "  <tbody>\n",
              "    <tr>\n",
              "      <th>0</th>\n",
              "      <td>615</td>\n",
              "      <td>349.0461</td>\n",
              "      <td>-61.9438</td>\n",
              "      <td>1</td>\n",
              "      <td>0.000</td>\n",
              "      <td>0.000</td>\n",
              "      <td>0.000</td>\n",
              "      <td>-9.000</td>\n",
              "      <td>0.017</td>\n",
              "      <td>92</td>\n",
              "      <td>92</td>\n",
              "      <td>1</td>\n",
              "      <td>0.000</td>\n",
              "      <td>0.000</td>\n",
              "      <td>0.000</td>\n",
              "      <td>0.0</td>\n",
              "      <td>0.0</td>\n",
              "      <td>0.0</td>\n",
              "      <td>59570.000</td>\n",
              "      <td>69</td>\n",
              "      <td>484.7</td>\n",
              "      <td>3286.7</td>\n",
              "      <td>3214.1</td>\n",
              "      <td>3039.7</td>\n",
              "      <td>2854.5</td>\n",
              "      <td>2837.0</td>\n",
              "    </tr>\n",
              "    <tr>\n",
              "      <th>1</th>\n",
              "      <td>713</td>\n",
              "      <td>53.0859</td>\n",
              "      <td>-27.7844</td>\n",
              "      <td>1</td>\n",
              "      <td>1.818</td>\n",
              "      <td>1.627</td>\n",
              "      <td>0.255</td>\n",
              "      <td>45.406</td>\n",
              "      <td>0.007</td>\n",
              "      <td>88</td>\n",
              "      <td>88</td>\n",
              "      <td>1</td>\n",
              "      <td>1.817</td>\n",
              "      <td>45.703</td>\n",
              "      <td>0.000</td>\n",
              "      <td>0.0</td>\n",
              "      <td>0.0</td>\n",
              "      <td>0.0</td>\n",
              "      <td>59570.000</td>\n",
              "      <td>34</td>\n",
              "      <td>108.7</td>\n",
              "      <td>117.7</td>\n",
              "      <td>119.9</td>\n",
              "      <td>149.6</td>\n",
              "      <td>147.9</td>\n",
              "      <td>150.5</td>\n",
              "    </tr>\n",
              "    <tr>\n",
              "      <th>2</th>\n",
              "      <td>730</td>\n",
              "      <td>33.5742</td>\n",
              "      <td>-6.5796</td>\n",
              "      <td>1</td>\n",
              "      <td>0.232</td>\n",
              "      <td>0.226</td>\n",
              "      <td>0.016</td>\n",
              "      <td>40.256</td>\n",
              "      <td>0.021</td>\n",
              "      <td>42</td>\n",
              "      <td>42</td>\n",
              "      <td>2</td>\n",
              "      <td>0.233</td>\n",
              "      <td>40.328</td>\n",
              "      <td>0.004</td>\n",
              "      <td>4.5</td>\n",
              "      <td>0.0</td>\n",
              "      <td>0.0</td>\n",
              "      <td>60444.379</td>\n",
              "      <td>9</td>\n",
              "      <td>0.0</td>\n",
              "      <td>0.0</td>\n",
              "      <td>0.0</td>\n",
              "      <td>0.0</td>\n",
              "      <td>0.0</td>\n",
              "      <td>0.0</td>\n",
              "    </tr>\n",
              "    <tr>\n",
              "      <th>3</th>\n",
              "      <td>745</td>\n",
              "      <td>0.1899</td>\n",
              "      <td>-45.5867</td>\n",
              "      <td>1</td>\n",
              "      <td>0.304</td>\n",
              "      <td>0.281</td>\n",
              "      <td>1.152</td>\n",
              "      <td>40.795</td>\n",
              "      <td>0.007</td>\n",
              "      <td>90</td>\n",
              "      <td>90</td>\n",
              "      <td>1</td>\n",
              "      <td>0.301</td>\n",
              "      <td>40.969</td>\n",
              "      <td>-0.004</td>\n",
              "      <td>257.7</td>\n",
              "      <td>0.0</td>\n",
              "      <td>0.0</td>\n",
              "      <td>60130.453</td>\n",
              "      <td>38</td>\n",
              "      <td>0.0</td>\n",
              "      <td>0.0</td>\n",
              "      <td>0.0</td>\n",
              "      <td>0.0</td>\n",
              "      <td>0.0</td>\n",
              "      <td>0.0</td>\n",
              "    </tr>\n",
              "    <tr>\n",
              "      <th>4</th>\n",
              "      <td>1124</td>\n",
              "      <td>352.7113</td>\n",
              "      <td>-63.8237</td>\n",
              "      <td>1</td>\n",
              "      <td>0.193</td>\n",
              "      <td>0.241</td>\n",
              "      <td>0.018</td>\n",
              "      <td>40.417</td>\n",
              "      <td>0.024</td>\n",
              "      <td>90</td>\n",
              "      <td>90</td>\n",
              "      <td>1</td>\n",
              "      <td>0.193</td>\n",
              "      <td>39.866</td>\n",
              "      <td>-0.002</td>\n",
              "      <td>-368.8</td>\n",
              "      <td>0.0</td>\n",
              "      <td>0.0</td>\n",
              "      <td>60452.641</td>\n",
              "      <td>1</td>\n",
              "      <td>0.0</td>\n",
              "      <td>0.0</td>\n",
              "      <td>0.0</td>\n",
              "      <td>0.0</td>\n",
              "      <td>0.0</td>\n",
              "      <td>0.0</td>\n",
              "    </tr>\n",
              "  </tbody>\n",
              "</table>\n",
              "</div>"
            ],
            "text/plain": [
              "   object_id        ra     decl  ddf_bool  ...  tflux_r  tflux_i  tflux_z  tflux_y\n",
              "0        615  349.0461 -61.9438         1  ...   3214.1   3039.7   2854.5   2837.0\n",
              "1        713   53.0859 -27.7844         1  ...    119.9    149.6    147.9    150.5\n",
              "2        730   33.5742  -6.5796         1  ...      0.0      0.0      0.0      0.0\n",
              "3        745    0.1899 -45.5867         1  ...      0.0      0.0      0.0      0.0\n",
              "4       1124  352.7113 -63.8237         1  ...      0.0      0.0      0.0      0.0\n",
              "\n",
              "[5 rows x 26 columns]"
            ]
          },
          "metadata": {},
          "execution_count": 170
        }
      ]
    },
    {
      "cell_type": "code",
      "source": [
        "# unstack will do the trick ... !!!make sure you save a copy of your features before maniulating them!!! in vase something goes wrong.\n",
        "features = df_merged.reset_index().set_index(['object_id','passband']).stack().unstack([1,2])\n"
      ],
      "metadata": {
        "id": "CIJqNeVNO3zU"
      },
      "execution_count": 171,
      "outputs": []
    },
    {
      "cell_type": "code",
      "source": [
        "features.head()"
      ],
      "metadata": {
        "colab": {
          "base_uri": "https://localhost:8080/",
          "height": 289
        },
        "id": "MN_3COpDPUZe",
        "outputId": "bd758378-a4f2-4591-a74d-dd2718143271"
      },
      "execution_count": 191,
      "outputs": [
        {
          "output_type": "execute_result",
          "data": {
            "text/html": [
              "<div>\n",
              "<style scoped>\n",
              "    .dataframe tbody tr th:only-of-type {\n",
              "        vertical-align: middle;\n",
              "    }\n",
              "\n",
              "    .dataframe tbody tr th {\n",
              "        vertical-align: top;\n",
              "    }\n",
              "\n",
              "    .dataframe thead tr th {\n",
              "        text-align: left;\n",
              "    }\n",
              "\n",
              "    .dataframe thead tr:last-of-type th {\n",
              "        text-align: right;\n",
              "    }\n",
              "</style>\n",
              "<table border=\"1\" class=\"dataframe\">\n",
              "  <thead>\n",
              "    <tr>\n",
              "      <th>passband</th>\n",
              "      <th colspan=\"12\" halign=\"left\">0</th>\n",
              "      <th colspan=\"12\" halign=\"left\">1</th>\n",
              "      <th colspan=\"12\" halign=\"left\">2</th>\n",
              "      <th colspan=\"12\" halign=\"left\">3</th>\n",
              "      <th colspan=\"12\" halign=\"left\">4</th>\n",
              "      <th colspan=\"12\" halign=\"left\">5</th>\n",
              "    </tr>\n",
              "    <tr>\n",
              "      <th></th>\n",
              "      <th>mean</th>\n",
              "      <th>std</th>\n",
              "      <th>min</th>\n",
              "      <th>max</th>\n",
              "      <th>m2</th>\n",
              "      <th>m3</th>\n",
              "      <th>m4</th>\n",
              "      <th>median</th>\n",
              "      <th>intercept</th>\n",
              "      <th>slope</th>\n",
              "      <th>ll1</th>\n",
              "      <th>ll2</th>\n",
              "      <th>mean</th>\n",
              "      <th>std</th>\n",
              "      <th>min</th>\n",
              "      <th>max</th>\n",
              "      <th>m2</th>\n",
              "      <th>m3</th>\n",
              "      <th>m4</th>\n",
              "      <th>median</th>\n",
              "      <th>intercept</th>\n",
              "      <th>slope</th>\n",
              "      <th>ll1</th>\n",
              "      <th>ll2</th>\n",
              "      <th>mean</th>\n",
              "      <th>std</th>\n",
              "      <th>min</th>\n",
              "      <th>max</th>\n",
              "      <th>m2</th>\n",
              "      <th>m3</th>\n",
              "      <th>m4</th>\n",
              "      <th>median</th>\n",
              "      <th>intercept</th>\n",
              "      <th>slope</th>\n",
              "      <th>ll1</th>\n",
              "      <th>ll2</th>\n",
              "      <th>mean</th>\n",
              "      <th>std</th>\n",
              "      <th>min</th>\n",
              "      <th>max</th>\n",
              "      <th>m2</th>\n",
              "      <th>m3</th>\n",
              "      <th>m4</th>\n",
              "      <th>median</th>\n",
              "      <th>intercept</th>\n",
              "      <th>slope</th>\n",
              "      <th>ll1</th>\n",
              "      <th>ll2</th>\n",
              "      <th>mean</th>\n",
              "      <th>std</th>\n",
              "      <th>min</th>\n",
              "      <th>max</th>\n",
              "      <th>m2</th>\n",
              "      <th>m3</th>\n",
              "      <th>m4</th>\n",
              "      <th>median</th>\n",
              "      <th>intercept</th>\n",
              "      <th>slope</th>\n",
              "      <th>ll1</th>\n",
              "      <th>ll2</th>\n",
              "      <th>mean</th>\n",
              "      <th>std</th>\n",
              "      <th>min</th>\n",
              "      <th>max</th>\n",
              "      <th>m2</th>\n",
              "      <th>m3</th>\n",
              "      <th>m4</th>\n",
              "      <th>median</th>\n",
              "      <th>intercept</th>\n",
              "      <th>slope</th>\n",
              "      <th>ll1</th>\n",
              "      <th>ll2</th>\n",
              "    </tr>\n",
              "    <tr>\n",
              "      <th>object_id</th>\n",
              "      <th></th>\n",
              "      <th></th>\n",
              "      <th></th>\n",
              "      <th></th>\n",
              "      <th></th>\n",
              "      <th></th>\n",
              "      <th></th>\n",
              "      <th></th>\n",
              "      <th></th>\n",
              "      <th></th>\n",
              "      <th></th>\n",
              "      <th></th>\n",
              "      <th></th>\n",
              "      <th></th>\n",
              "      <th></th>\n",
              "      <th></th>\n",
              "      <th></th>\n",
              "      <th></th>\n",
              "      <th></th>\n",
              "      <th></th>\n",
              "      <th></th>\n",
              "      <th></th>\n",
              "      <th></th>\n",
              "      <th></th>\n",
              "      <th></th>\n",
              "      <th></th>\n",
              "      <th></th>\n",
              "      <th></th>\n",
              "      <th></th>\n",
              "      <th></th>\n",
              "      <th></th>\n",
              "      <th></th>\n",
              "      <th></th>\n",
              "      <th></th>\n",
              "      <th></th>\n",
              "      <th></th>\n",
              "      <th></th>\n",
              "      <th></th>\n",
              "      <th></th>\n",
              "      <th></th>\n",
              "      <th></th>\n",
              "      <th></th>\n",
              "      <th></th>\n",
              "      <th></th>\n",
              "      <th></th>\n",
              "      <th></th>\n",
              "      <th></th>\n",
              "      <th></th>\n",
              "      <th></th>\n",
              "      <th></th>\n",
              "      <th></th>\n",
              "      <th></th>\n",
              "      <th></th>\n",
              "      <th></th>\n",
              "      <th></th>\n",
              "      <th></th>\n",
              "      <th></th>\n",
              "      <th></th>\n",
              "      <th></th>\n",
              "      <th></th>\n",
              "      <th></th>\n",
              "      <th></th>\n",
              "      <th></th>\n",
              "      <th></th>\n",
              "      <th></th>\n",
              "      <th></th>\n",
              "      <th></th>\n",
              "      <th></th>\n",
              "      <th></th>\n",
              "      <th></th>\n",
              "      <th></th>\n",
              "      <th></th>\n",
              "    </tr>\n",
              "  </thead>\n",
              "  <tbody>\n",
              "    <tr>\n",
              "      <th>615</th>\n",
              "      <td>-3.254554</td>\n",
              "      <td>83.944735</td>\n",
              "      <td>-116.913223</td>\n",
              "      <td>125.182808</td>\n",
              "      <td>6934.865833</td>\n",
              "      <td>72665.792850</td>\n",
              "      <td>7.433032e+07</td>\n",
              "      <td>-0.080537</td>\n",
              "      <td>-0.240792</td>\n",
              "      <td>0.000524</td>\n",
              "      <td>-88.218652</td>\n",
              "      <td>-84.013092</td>\n",
              "      <td>-385.699911</td>\n",
              "      <td>601.787302</td>\n",
              "      <td>-1100.440063</td>\n",
              "      <td>660.626343</td>\n",
              "      <td>355904.026224</td>\n",
              "      <td>8.593916e+07</td>\n",
              "      <td>2.215166e+11</td>\n",
              "      <td>-0.170090</td>\n",
              "      <td>-0.237681</td>\n",
              "      <td>0.000559</td>\n",
              "      <td>-80.869998</td>\n",
              "      <td>-80.867915</td>\n",
              "      <td>-134.146566</td>\n",
              "      <td>455.121346</td>\n",
              "      <td>-681.858887</td>\n",
              "      <td>611.984558</td>\n",
              "      <td>203564.138816</td>\n",
              "      <td>3.040627e+07</td>\n",
              "      <td>6.659406e+10</td>\n",
              "      <td>-0.289021</td>\n",
              "      <td>-0.318807</td>\n",
              "      <td>0.000750</td>\n",
              "      <td>-80.109763</td>\n",
              "      <td>-80.092803</td>\n",
              "      <td>-121.103501</td>\n",
              "      <td>335.425053</td>\n",
              "      <td>-530.644592</td>\n",
              "      <td>445.737061</td>\n",
              "      <td>110570.138947</td>\n",
              "      <td>1.049664e+07</td>\n",
              "      <td>1.919999e+10</td>\n",
              "      <td>-0.122434</td>\n",
              "      <td>-0.386015</td>\n",
              "      <td>0.000908</td>\n",
              "      <td>-79.290039</td>\n",
              "      <td>-79.226482</td>\n",
              "      <td>-55.954592</td>\n",
              "      <td>291.803449</td>\n",
              "      <td>-422.184509</td>\n",
              "      <td>381.953735</td>\n",
              "      <td>83681.162283</td>\n",
              "      <td>4.717542e+06</td>\n",
              "      <td>1.036570e+10</td>\n",
              "      <td>-0.163078</td>\n",
              "      <td>-0.441033</td>\n",
              "      <td>0.001037</td>\n",
              "      <td>-78.480261</td>\n",
              "      <td>-78.160027</td>\n",
              "      <td>-47.449847</td>\n",
              "      <td>294.779522</td>\n",
              "      <td>-422.815094</td>\n",
              "      <td>378.188141</td>\n",
              "      <td>85370.493377</td>\n",
              "      <td>3.041829e+06</td>\n",
              "      <td>1.049535e+10</td>\n",
              "      <td>-0.129163</td>\n",
              "      <td>-0.432144</td>\n",
              "      <td>0.001003</td>\n",
              "      <td>-77.386461</td>\n",
              "      <td>-76.917754</td>\n",
              "    </tr>\n",
              "    <tr>\n",
              "      <th>713</th>\n",
              "      <td>-2.720398</td>\n",
              "      <td>7.113509</td>\n",
              "      <td>-14.735178</td>\n",
              "      <td>14.509829</td>\n",
              "      <td>49.879128</td>\n",
              "      <td>89.634243</td>\n",
              "      <td>4.907398e+03</td>\n",
              "      <td>-0.052914</td>\n",
              "      <td>1.328605</td>\n",
              "      <td>-0.002859</td>\n",
              "      <td>-49.801325</td>\n",
              "      <td>-45.801483</td>\n",
              "      <td>-1.019804</td>\n",
              "      <td>5.712334</td>\n",
              "      <td>-11.715749</td>\n",
              "      <td>9.129021</td>\n",
              "      <td>32.048070</td>\n",
              "      <td>-1.551087e+01</td>\n",
              "      <td>1.944373e+03</td>\n",
              "      <td>0.080189</td>\n",
              "      <td>1.166349</td>\n",
              "      <td>-0.002799</td>\n",
              "      <td>-38.161170</td>\n",
              "      <td>-36.052358</td>\n",
              "      <td>-0.794238</td>\n",
              "      <td>5.770738</td>\n",
              "      <td>-10.067919</td>\n",
              "      <td>10.529041</td>\n",
              "      <td>32.706748</td>\n",
              "      <td>-4.127475e+00</td>\n",
              "      <td>1.935955e+03</td>\n",
              "      <td>0.117188</td>\n",
              "      <td>1.181665</td>\n",
              "      <td>-0.002836</td>\n",
              "      <td>-35.611095</td>\n",
              "      <td>-34.410798</td>\n",
              "      <td>-0.986966</td>\n",
              "      <td>6.450413</td>\n",
              "      <td>-12.394593</td>\n",
              "      <td>11.330316</td>\n",
              "      <td>40.864832</td>\n",
              "      <td>-4.249286e+01</td>\n",
              "      <td>3.091660e+03</td>\n",
              "      <td>0.141552</td>\n",
              "      <td>1.145128</td>\n",
              "      <td>-0.002748</td>\n",
              "      <td>-41.302700</td>\n",
              "      <td>-38.701863</td>\n",
              "      <td>-0.900262</td>\n",
              "      <td>6.406989</td>\n",
              "      <td>-12.286801</td>\n",
              "      <td>9.827934</td>\n",
              "      <td>40.316483</td>\n",
              "      <td>-1.597455e+01</td>\n",
              "      <td>2.938985e+03</td>\n",
              "      <td>0.016870</td>\n",
              "      <td>1.117370</td>\n",
              "      <td>-0.002681</td>\n",
              "      <td>-44.870314</td>\n",
              "      <td>-44.424807</td>\n",
              "      <td>-1.794175</td>\n",
              "      <td>7.094073</td>\n",
              "      <td>-14.211164</td>\n",
              "      <td>14.770886</td>\n",
              "      <td>49.427194</td>\n",
              "      <td>7.377121e+01</td>\n",
              "      <td>5.294322e+03</td>\n",
              "      <td>-0.094281</td>\n",
              "      <td>0.824426</td>\n",
              "      <td>-0.001978</td>\n",
              "      <td>-65.424297</td>\n",
              "      <td>-65.167686</td>\n",
              "    </tr>\n",
              "    <tr>\n",
              "      <th>730</th>\n",
              "      <td>-0.048080</td>\n",
              "      <td>1.828872</td>\n",
              "      <td>-3.459960</td>\n",
              "      <td>5.942166</td>\n",
              "      <td>3.298318</td>\n",
              "      <td>2.093148</td>\n",
              "      <td>3.655013e+01</td>\n",
              "      <td>0.039463</td>\n",
              "      <td>0.051958</td>\n",
              "      <td>-0.000121</td>\n",
              "      <td>-101.606902</td>\n",
              "      <td>-101.249926</td>\n",
              "      <td>0.141057</td>\n",
              "      <td>1.807229</td>\n",
              "      <td>-3.393080</td>\n",
              "      <td>5.693109</td>\n",
              "      <td>3.203266</td>\n",
              "      <td>2.623669e+00</td>\n",
              "      <td>3.870188e+01</td>\n",
              "      <td>0.016754</td>\n",
              "      <td>-0.140403</td>\n",
              "      <td>0.000337</td>\n",
              "      <td>-73.012277</td>\n",
              "      <td>-72.910038</td>\n",
              "      <td>2.400870</td>\n",
              "      <td>5.559483</td>\n",
              "      <td>-2.848838</td>\n",
              "      <td>20.994711</td>\n",
              "      <td>30.313471</td>\n",
              "      <td>3.864890e+02</td>\n",
              "      <td>6.926529e+03</td>\n",
              "      <td>-0.343392</td>\n",
              "      <td>-0.717286</td>\n",
              "      <td>0.001724</td>\n",
              "      <td>-65.193298</td>\n",
              "      <td>-63.777334</td>\n",
              "      <td>3.236164</td>\n",
              "      <td>8.191987</td>\n",
              "      <td>-5.435799</td>\n",
              "      <td>33.572102</td>\n",
              "      <td>65.818099</td>\n",
              "      <td>1.380135e+03</td>\n",
              "      <td>4.048490e+04</td>\n",
              "      <td>-0.314425</td>\n",
              "      <td>-0.656739</td>\n",
              "      <td>0.001578</td>\n",
              "      <td>-66.683538</td>\n",
              "      <td>-66.369632</td>\n",
              "      <td>4.308728</td>\n",
              "      <td>10.710344</td>\n",
              "      <td>-5.836310</td>\n",
              "      <td>41.159981</td>\n",
              "      <td>112.462234</td>\n",
              "      <td>2.936931e+03</td>\n",
              "      <td>1.060595e+05</td>\n",
              "      <td>-0.308522</td>\n",
              "      <td>-0.615831</td>\n",
              "      <td>0.001477</td>\n",
              "      <td>-66.161110</td>\n",
              "      <td>-65.239486</td>\n",
              "      <td>4.539396</td>\n",
              "      <td>13.332758</td>\n",
              "      <td>-19.159811</td>\n",
              "      <td>47.310059</td>\n",
              "      <td>174.276892</td>\n",
              "      <td>3.751336e+03</td>\n",
              "      <td>1.860606e+05</td>\n",
              "      <td>-0.149763</td>\n",
              "      <td>-0.524711</td>\n",
              "      <td>0.001259</td>\n",
              "      <td>-67.853917</td>\n",
              "      <td>-66.518080</td>\n",
              "    </tr>\n",
              "    <tr>\n",
              "      <th>745</th>\n",
              "      <td>1.797523</td>\n",
              "      <td>4.374445</td>\n",
              "      <td>-3.874349</td>\n",
              "      <td>18.014029</td>\n",
              "      <td>18.869993</td>\n",
              "      <td>162.368381</td>\n",
              "      <td>2.575248e+03</td>\n",
              "      <td>-0.169349</td>\n",
              "      <td>0.300509</td>\n",
              "      <td>-0.000700</td>\n",
              "      <td>-100.184915</td>\n",
              "      <td>-88.423048</td>\n",
              "      <td>5.717394</td>\n",
              "      <td>25.964659</td>\n",
              "      <td>-3.618410</td>\n",
              "      <td>192.244293</td>\n",
              "      <td>662.124902</td>\n",
              "      <td>1.161627e+05</td>\n",
              "      <td>2.162844e+07</td>\n",
              "      <td>-0.185994</td>\n",
              "      <td>0.038537</td>\n",
              "      <td>-0.000092</td>\n",
              "      <td>-78.932796</td>\n",
              "      <td>-76.313623</td>\n",
              "      <td>9.711532</td>\n",
              "      <td>31.957997</td>\n",
              "      <td>-2.159753</td>\n",
              "      <td>220.795212</td>\n",
              "      <td>1003.075853</td>\n",
              "      <td>1.758302e+05</td>\n",
              "      <td>3.606109e+07</td>\n",
              "      <td>-0.290606</td>\n",
              "      <td>0.033903</td>\n",
              "      <td>-0.000081</td>\n",
              "      <td>-78.938052</td>\n",
              "      <td>-72.846380</td>\n",
              "      <td>14.412924</td>\n",
              "      <td>34.967698</td>\n",
              "      <td>-4.944036</td>\n",
              "      <td>203.250702</td>\n",
              "      <td>1200.905234</td>\n",
              "      <td>1.519142e+05</td>\n",
              "      <td>2.575691e+07</td>\n",
              "      <td>-0.373246</td>\n",
              "      <td>0.026106</td>\n",
              "      <td>-0.000062</td>\n",
              "      <td>-78.945375</td>\n",
              "      <td>-67.105516</td>\n",
              "      <td>13.134436</td>\n",
              "      <td>33.069053</td>\n",
              "      <td>-15.494463</td>\n",
              "      <td>183.633118</td>\n",
              "      <td>1074.034376</td>\n",
              "      <td>1.190633e+05</td>\n",
              "      <td>1.781661e+07</td>\n",
              "      <td>-0.358773</td>\n",
              "      <td>0.045135</td>\n",
              "      <td>-0.000108</td>\n",
              "      <td>-78.924149</td>\n",
              "      <td>-67.067827</td>\n",
              "      <td>10.746138</td>\n",
              "      <td>26.060130</td>\n",
              "      <td>-10.249387</td>\n",
              "      <td>141.513290</td>\n",
              "      <td>666.782529</td>\n",
              "      <td>5.309464e+04</td>\n",
              "      <td>6.203072e+06</td>\n",
              "      <td>-0.306851</td>\n",
              "      <td>-0.001092</td>\n",
              "      <td>0.000003</td>\n",
              "      <td>-77.536999</td>\n",
              "      <td>-64.783463</td>\n",
              "    </tr>\n",
              "    <tr>\n",
              "      <th>1124</th>\n",
              "      <td>0.660948</td>\n",
              "      <td>2.360084</td>\n",
              "      <td>-6.804703</td>\n",
              "      <td>5.330927</td>\n",
              "      <td>5.481586</td>\n",
              "      <td>-4.160853</td>\n",
              "      <td>1.101222e+02</td>\n",
              "      <td>-0.033864</td>\n",
              "      <td>-0.567576</td>\n",
              "      <td>0.001234</td>\n",
              "      <td>-84.969286</td>\n",
              "      <td>-84.959510</td>\n",
              "      <td>4.634637</td>\n",
              "      <td>8.107525</td>\n",
              "      <td>-2.622109</td>\n",
              "      <td>37.170177</td>\n",
              "      <td>64.598653</td>\n",
              "      <td>1.202103e+03</td>\n",
              "      <td>3.545471e+04</td>\n",
              "      <td>-0.429236</td>\n",
              "      <td>-0.793184</td>\n",
              "      <td>0.001865</td>\n",
              "      <td>-69.333715</td>\n",
              "      <td>-67.527468</td>\n",
              "      <td>10.243968</td>\n",
              "      <td>21.319854</td>\n",
              "      <td>-2.084535</td>\n",
              "      <td>106.671692</td>\n",
              "      <td>446.699339</td>\n",
              "      <td>2.827915e+04</td>\n",
              "      <td>2.468546e+06</td>\n",
              "      <td>-0.438785</td>\n",
              "      <td>-0.713211</td>\n",
              "      <td>0.001677</td>\n",
              "      <td>-72.170872</td>\n",
              "      <td>-71.247906</td>\n",
              "      <td>11.086555</td>\n",
              "      <td>26.270649</td>\n",
              "      <td>-2.800270</td>\n",
              "      <td>139.818405</td>\n",
              "      <td>678.247892</td>\n",
              "      <td>6.198814e+04</td>\n",
              "      <td>7.271993e+06</td>\n",
              "      <td>-0.383411</td>\n",
              "      <td>-0.617699</td>\n",
              "      <td>0.001452</td>\n",
              "      <td>-74.891133</td>\n",
              "      <td>-74.498916</td>\n",
              "      <td>9.906102</td>\n",
              "      <td>26.865913</td>\n",
              "      <td>-16.543753</td>\n",
              "      <td>143.600189</td>\n",
              "      <td>709.332831</td>\n",
              "      <td>7.183273e+04</td>\n",
              "      <td>9.005039e+06</td>\n",
              "      <td>-0.303771</td>\n",
              "      <td>-0.571549</td>\n",
              "      <td>0.001344</td>\n",
              "      <td>-75.991223</td>\n",
              "      <td>-75.898716</td>\n",
              "      <td>6.896742</td>\n",
              "      <td>21.434627</td>\n",
              "      <td>-10.860540</td>\n",
              "      <td>109.157585</td>\n",
              "      <td>451.382820</td>\n",
              "      <td>3.414365e+04</td>\n",
              "      <td>3.279413e+06</td>\n",
              "      <td>-0.229697</td>\n",
              "      <td>-0.478402</td>\n",
              "      <td>0.001110</td>\n",
              "      <td>-76.666778</td>\n",
              "      <td>-76.526495</td>\n",
              "    </tr>\n",
              "  </tbody>\n",
              "</table>\n",
              "</div>"
            ],
            "text/plain": [
              "passband          0                         ...         5                      \n",
              "               mean        std         min  ...     slope        ll1        ll2\n",
              "object_id                                   ...                                \n",
              "615       -3.254554  83.944735 -116.913223  ...  0.001003 -77.386461 -76.917754\n",
              "713       -2.720398   7.113509  -14.735178  ... -0.001978 -65.424297 -65.167686\n",
              "730       -0.048080   1.828872   -3.459960  ...  0.001259 -67.853917 -66.518080\n",
              "745        1.797523   4.374445   -3.874349  ...  0.000003 -77.536999 -64.783463\n",
              "1124       0.660948   2.360084   -6.804703  ...  0.001110 -76.666778 -76.526495\n",
              "\n",
              "[5 rows x 72 columns]"
            ]
          },
          "metadata": {},
          "execution_count": 191
        }
      ]
    },
    {
      "cell_type": "markdown",
      "source": [
        "### Merge feature dataframe with metadata frame on `object_id`"
      ],
      "metadata": {
        "id": "sX49op3pS2XB"
      }
    },
    {
      "cell_type": "code",
      "source": [
        "cols = ['object_id', 'decl', 'ddf_bool', 'hostgal_photoz', 'hostgal_photoz_err', 'target']\n",
        "final_features = pd.merge(features,metadata[cols],on=['object_id'], how='inner')"
      ],
      "metadata": {
        "colab": {
          "base_uri": "https://localhost:8080/"
        },
        "id": "zylQvHW9PVqn",
        "outputId": "fb23a899-f3fe-4b7a-8258-061664d8ff47"
      },
      "execution_count": 245,
      "outputs": [
        {
          "output_type": "stream",
          "name": "stderr",
          "text": [
            "/usr/local/lib/python3.7/dist-packages/pandas/core/reshape/merge.py:643: UserWarning: merging between different levels can give an unintended result (2 levels on the left,1 on the right)\n",
            "  warnings.warn(msg, UserWarning)\n"
          ]
        }
      ]
    },
    {
      "cell_type": "code",
      "source": [
        "final_features.head()"
      ],
      "metadata": {
        "colab": {
          "base_uri": "https://localhost:8080/",
          "height": 243
        },
        "id": "jTkwdtxWP7Ez",
        "outputId": "21b4059d-c85b-44d3-e92e-7e647729e448"
      },
      "execution_count": 246,
      "outputs": [
        {
          "output_type": "execute_result",
          "data": {
            "text/html": [
              "<div>\n",
              "<style scoped>\n",
              "    .dataframe tbody tr th:only-of-type {\n",
              "        vertical-align: middle;\n",
              "    }\n",
              "\n",
              "    .dataframe tbody tr th {\n",
              "        vertical-align: top;\n",
              "    }\n",
              "\n",
              "    .dataframe thead th {\n",
              "        text-align: right;\n",
              "    }\n",
              "</style>\n",
              "<table border=\"1\" class=\"dataframe\">\n",
              "  <thead>\n",
              "    <tr style=\"text-align: right;\">\n",
              "      <th></th>\n",
              "      <th>object_id</th>\n",
              "      <th>(0, mean)</th>\n",
              "      <th>(0, std)</th>\n",
              "      <th>(0, min)</th>\n",
              "      <th>(0, max)</th>\n",
              "      <th>(0, m2)</th>\n",
              "      <th>(0, m3)</th>\n",
              "      <th>(0, m4)</th>\n",
              "      <th>(0, median)</th>\n",
              "      <th>(0, intercept)</th>\n",
              "      <th>(0, slope)</th>\n",
              "      <th>(0, ll1)</th>\n",
              "      <th>(0, ll2)</th>\n",
              "      <th>(1, mean)</th>\n",
              "      <th>(1, std)</th>\n",
              "      <th>(1, min)</th>\n",
              "      <th>(1, max)</th>\n",
              "      <th>(1, m2)</th>\n",
              "      <th>(1, m3)</th>\n",
              "      <th>(1, m4)</th>\n",
              "      <th>(1, median)</th>\n",
              "      <th>(1, intercept)</th>\n",
              "      <th>(1, slope)</th>\n",
              "      <th>(1, ll1)</th>\n",
              "      <th>(1, ll2)</th>\n",
              "      <th>(2, mean)</th>\n",
              "      <th>(2, std)</th>\n",
              "      <th>(2, min)</th>\n",
              "      <th>(2, max)</th>\n",
              "      <th>(2, m2)</th>\n",
              "      <th>(2, m3)</th>\n",
              "      <th>(2, m4)</th>\n",
              "      <th>(2, median)</th>\n",
              "      <th>(2, intercept)</th>\n",
              "      <th>(2, slope)</th>\n",
              "      <th>(2, ll1)</th>\n",
              "      <th>(2, ll2)</th>\n",
              "      <th>(3, mean)</th>\n",
              "      <th>(3, std)</th>\n",
              "      <th>(3, min)</th>\n",
              "      <th>(3, max)</th>\n",
              "      <th>(3, m2)</th>\n",
              "      <th>(3, m3)</th>\n",
              "      <th>(3, m4)</th>\n",
              "      <th>(3, median)</th>\n",
              "      <th>(3, intercept)</th>\n",
              "      <th>(3, slope)</th>\n",
              "      <th>(3, ll1)</th>\n",
              "      <th>(3, ll2)</th>\n",
              "      <th>(4, mean)</th>\n",
              "      <th>(4, std)</th>\n",
              "      <th>(4, min)</th>\n",
              "      <th>(4, max)</th>\n",
              "      <th>(4, m2)</th>\n",
              "      <th>(4, m3)</th>\n",
              "      <th>(4, m4)</th>\n",
              "      <th>(4, median)</th>\n",
              "      <th>(4, intercept)</th>\n",
              "      <th>(4, slope)</th>\n",
              "      <th>(4, ll1)</th>\n",
              "      <th>(4, ll2)</th>\n",
              "      <th>(5, mean)</th>\n",
              "      <th>(5, std)</th>\n",
              "      <th>(5, min)</th>\n",
              "      <th>(5, max)</th>\n",
              "      <th>(5, m2)</th>\n",
              "      <th>(5, m3)</th>\n",
              "      <th>(5, m4)</th>\n",
              "      <th>(5, median)</th>\n",
              "      <th>(5, intercept)</th>\n",
              "      <th>(5, slope)</th>\n",
              "      <th>(5, ll1)</th>\n",
              "      <th>(5, ll2)</th>\n",
              "      <th>decl</th>\n",
              "      <th>ddf_bool</th>\n",
              "      <th>hostgal_photoz</th>\n",
              "      <th>hostgal_photoz_err</th>\n",
              "      <th>target</th>\n",
              "    </tr>\n",
              "  </thead>\n",
              "  <tbody>\n",
              "    <tr>\n",
              "      <th>0</th>\n",
              "      <td>615</td>\n",
              "      <td>-3.254554</td>\n",
              "      <td>83.944735</td>\n",
              "      <td>-116.913223</td>\n",
              "      <td>125.182808</td>\n",
              "      <td>6934.865833</td>\n",
              "      <td>72665.792850</td>\n",
              "      <td>7.433032e+07</td>\n",
              "      <td>-0.080537</td>\n",
              "      <td>-0.240792</td>\n",
              "      <td>0.000524</td>\n",
              "      <td>-88.218652</td>\n",
              "      <td>-84.013092</td>\n",
              "      <td>-385.699911</td>\n",
              "      <td>601.787302</td>\n",
              "      <td>-1100.440063</td>\n",
              "      <td>660.626343</td>\n",
              "      <td>355904.026224</td>\n",
              "      <td>8.593916e+07</td>\n",
              "      <td>2.215166e+11</td>\n",
              "      <td>-0.170090</td>\n",
              "      <td>-0.237681</td>\n",
              "      <td>0.000559</td>\n",
              "      <td>-80.869998</td>\n",
              "      <td>-80.867915</td>\n",
              "      <td>-134.146566</td>\n",
              "      <td>455.121346</td>\n",
              "      <td>-681.858887</td>\n",
              "      <td>611.984558</td>\n",
              "      <td>203564.138816</td>\n",
              "      <td>3.040627e+07</td>\n",
              "      <td>6.659406e+10</td>\n",
              "      <td>-0.289021</td>\n",
              "      <td>-0.318807</td>\n",
              "      <td>0.000750</td>\n",
              "      <td>-80.109763</td>\n",
              "      <td>-80.092803</td>\n",
              "      <td>-121.103501</td>\n",
              "      <td>335.425053</td>\n",
              "      <td>-530.644592</td>\n",
              "      <td>445.737061</td>\n",
              "      <td>110570.138947</td>\n",
              "      <td>1.049664e+07</td>\n",
              "      <td>1.919999e+10</td>\n",
              "      <td>-0.122434</td>\n",
              "      <td>-0.386015</td>\n",
              "      <td>0.000908</td>\n",
              "      <td>-79.290039</td>\n",
              "      <td>-79.226482</td>\n",
              "      <td>-55.954592</td>\n",
              "      <td>291.803449</td>\n",
              "      <td>-422.184509</td>\n",
              "      <td>381.953735</td>\n",
              "      <td>83681.162283</td>\n",
              "      <td>4.717542e+06</td>\n",
              "      <td>1.036570e+10</td>\n",
              "      <td>-0.163078</td>\n",
              "      <td>-0.441033</td>\n",
              "      <td>0.001037</td>\n",
              "      <td>-78.480261</td>\n",
              "      <td>-78.160027</td>\n",
              "      <td>-47.449847</td>\n",
              "      <td>294.779522</td>\n",
              "      <td>-422.815094</td>\n",
              "      <td>378.188141</td>\n",
              "      <td>85370.493377</td>\n",
              "      <td>3.041829e+06</td>\n",
              "      <td>1.049535e+10</td>\n",
              "      <td>-0.129163</td>\n",
              "      <td>-0.432144</td>\n",
              "      <td>0.001003</td>\n",
              "      <td>-77.386461</td>\n",
              "      <td>-76.917754</td>\n",
              "      <td>-61.9438</td>\n",
              "      <td>1</td>\n",
              "      <td>0.000</td>\n",
              "      <td>0.000</td>\n",
              "      <td>92</td>\n",
              "    </tr>\n",
              "    <tr>\n",
              "      <th>1</th>\n",
              "      <td>713</td>\n",
              "      <td>-2.720398</td>\n",
              "      <td>7.113509</td>\n",
              "      <td>-14.735178</td>\n",
              "      <td>14.509829</td>\n",
              "      <td>49.879128</td>\n",
              "      <td>89.634243</td>\n",
              "      <td>4.907398e+03</td>\n",
              "      <td>-0.052914</td>\n",
              "      <td>1.328605</td>\n",
              "      <td>-0.002859</td>\n",
              "      <td>-49.801325</td>\n",
              "      <td>-45.801483</td>\n",
              "      <td>-1.019804</td>\n",
              "      <td>5.712334</td>\n",
              "      <td>-11.715749</td>\n",
              "      <td>9.129021</td>\n",
              "      <td>32.048070</td>\n",
              "      <td>-1.551087e+01</td>\n",
              "      <td>1.944373e+03</td>\n",
              "      <td>0.080189</td>\n",
              "      <td>1.166349</td>\n",
              "      <td>-0.002799</td>\n",
              "      <td>-38.161170</td>\n",
              "      <td>-36.052358</td>\n",
              "      <td>-0.794238</td>\n",
              "      <td>5.770738</td>\n",
              "      <td>-10.067919</td>\n",
              "      <td>10.529041</td>\n",
              "      <td>32.706748</td>\n",
              "      <td>-4.127475e+00</td>\n",
              "      <td>1.935955e+03</td>\n",
              "      <td>0.117188</td>\n",
              "      <td>1.181665</td>\n",
              "      <td>-0.002836</td>\n",
              "      <td>-35.611095</td>\n",
              "      <td>-34.410798</td>\n",
              "      <td>-0.986966</td>\n",
              "      <td>6.450413</td>\n",
              "      <td>-12.394593</td>\n",
              "      <td>11.330316</td>\n",
              "      <td>40.864832</td>\n",
              "      <td>-4.249286e+01</td>\n",
              "      <td>3.091660e+03</td>\n",
              "      <td>0.141552</td>\n",
              "      <td>1.145128</td>\n",
              "      <td>-0.002748</td>\n",
              "      <td>-41.302700</td>\n",
              "      <td>-38.701863</td>\n",
              "      <td>-0.900262</td>\n",
              "      <td>6.406989</td>\n",
              "      <td>-12.286801</td>\n",
              "      <td>9.827934</td>\n",
              "      <td>40.316483</td>\n",
              "      <td>-1.597455e+01</td>\n",
              "      <td>2.938985e+03</td>\n",
              "      <td>0.016870</td>\n",
              "      <td>1.117370</td>\n",
              "      <td>-0.002681</td>\n",
              "      <td>-44.870314</td>\n",
              "      <td>-44.424807</td>\n",
              "      <td>-1.794175</td>\n",
              "      <td>7.094073</td>\n",
              "      <td>-14.211164</td>\n",
              "      <td>14.770886</td>\n",
              "      <td>49.427194</td>\n",
              "      <td>7.377121e+01</td>\n",
              "      <td>5.294322e+03</td>\n",
              "      <td>-0.094281</td>\n",
              "      <td>0.824426</td>\n",
              "      <td>-0.001978</td>\n",
              "      <td>-65.424297</td>\n",
              "      <td>-65.167686</td>\n",
              "      <td>-27.7844</td>\n",
              "      <td>1</td>\n",
              "      <td>1.627</td>\n",
              "      <td>0.255</td>\n",
              "      <td>88</td>\n",
              "    </tr>\n",
              "    <tr>\n",
              "      <th>2</th>\n",
              "      <td>730</td>\n",
              "      <td>-0.048080</td>\n",
              "      <td>1.828872</td>\n",
              "      <td>-3.459960</td>\n",
              "      <td>5.942166</td>\n",
              "      <td>3.298318</td>\n",
              "      <td>2.093148</td>\n",
              "      <td>3.655013e+01</td>\n",
              "      <td>0.039463</td>\n",
              "      <td>0.051958</td>\n",
              "      <td>-0.000121</td>\n",
              "      <td>-101.606902</td>\n",
              "      <td>-101.249926</td>\n",
              "      <td>0.141057</td>\n",
              "      <td>1.807229</td>\n",
              "      <td>-3.393080</td>\n",
              "      <td>5.693109</td>\n",
              "      <td>3.203266</td>\n",
              "      <td>2.623669e+00</td>\n",
              "      <td>3.870188e+01</td>\n",
              "      <td>0.016754</td>\n",
              "      <td>-0.140403</td>\n",
              "      <td>0.000337</td>\n",
              "      <td>-73.012277</td>\n",
              "      <td>-72.910038</td>\n",
              "      <td>2.400870</td>\n",
              "      <td>5.559483</td>\n",
              "      <td>-2.848838</td>\n",
              "      <td>20.994711</td>\n",
              "      <td>30.313471</td>\n",
              "      <td>3.864890e+02</td>\n",
              "      <td>6.926529e+03</td>\n",
              "      <td>-0.343392</td>\n",
              "      <td>-0.717286</td>\n",
              "      <td>0.001724</td>\n",
              "      <td>-65.193298</td>\n",
              "      <td>-63.777334</td>\n",
              "      <td>3.236164</td>\n",
              "      <td>8.191987</td>\n",
              "      <td>-5.435799</td>\n",
              "      <td>33.572102</td>\n",
              "      <td>65.818099</td>\n",
              "      <td>1.380135e+03</td>\n",
              "      <td>4.048490e+04</td>\n",
              "      <td>-0.314425</td>\n",
              "      <td>-0.656739</td>\n",
              "      <td>0.001578</td>\n",
              "      <td>-66.683538</td>\n",
              "      <td>-66.369632</td>\n",
              "      <td>4.308728</td>\n",
              "      <td>10.710344</td>\n",
              "      <td>-5.836310</td>\n",
              "      <td>41.159981</td>\n",
              "      <td>112.462234</td>\n",
              "      <td>2.936931e+03</td>\n",
              "      <td>1.060595e+05</td>\n",
              "      <td>-0.308522</td>\n",
              "      <td>-0.615831</td>\n",
              "      <td>0.001477</td>\n",
              "      <td>-66.161110</td>\n",
              "      <td>-65.239486</td>\n",
              "      <td>4.539396</td>\n",
              "      <td>13.332758</td>\n",
              "      <td>-19.159811</td>\n",
              "      <td>47.310059</td>\n",
              "      <td>174.276892</td>\n",
              "      <td>3.751336e+03</td>\n",
              "      <td>1.860606e+05</td>\n",
              "      <td>-0.149763</td>\n",
              "      <td>-0.524711</td>\n",
              "      <td>0.001259</td>\n",
              "      <td>-67.853917</td>\n",
              "      <td>-66.518080</td>\n",
              "      <td>-6.5796</td>\n",
              "      <td>1</td>\n",
              "      <td>0.226</td>\n",
              "      <td>0.016</td>\n",
              "      <td>42</td>\n",
              "    </tr>\n",
              "    <tr>\n",
              "      <th>3</th>\n",
              "      <td>745</td>\n",
              "      <td>1.797523</td>\n",
              "      <td>4.374445</td>\n",
              "      <td>-3.874349</td>\n",
              "      <td>18.014029</td>\n",
              "      <td>18.869993</td>\n",
              "      <td>162.368381</td>\n",
              "      <td>2.575248e+03</td>\n",
              "      <td>-0.169349</td>\n",
              "      <td>0.300509</td>\n",
              "      <td>-0.000700</td>\n",
              "      <td>-100.184915</td>\n",
              "      <td>-88.423048</td>\n",
              "      <td>5.717394</td>\n",
              "      <td>25.964659</td>\n",
              "      <td>-3.618410</td>\n",
              "      <td>192.244293</td>\n",
              "      <td>662.124902</td>\n",
              "      <td>1.161627e+05</td>\n",
              "      <td>2.162844e+07</td>\n",
              "      <td>-0.185994</td>\n",
              "      <td>0.038537</td>\n",
              "      <td>-0.000092</td>\n",
              "      <td>-78.932796</td>\n",
              "      <td>-76.313623</td>\n",
              "      <td>9.711532</td>\n",
              "      <td>31.957997</td>\n",
              "      <td>-2.159753</td>\n",
              "      <td>220.795212</td>\n",
              "      <td>1003.075853</td>\n",
              "      <td>1.758302e+05</td>\n",
              "      <td>3.606109e+07</td>\n",
              "      <td>-0.290606</td>\n",
              "      <td>0.033903</td>\n",
              "      <td>-0.000081</td>\n",
              "      <td>-78.938052</td>\n",
              "      <td>-72.846380</td>\n",
              "      <td>14.412924</td>\n",
              "      <td>34.967698</td>\n",
              "      <td>-4.944036</td>\n",
              "      <td>203.250702</td>\n",
              "      <td>1200.905234</td>\n",
              "      <td>1.519142e+05</td>\n",
              "      <td>2.575691e+07</td>\n",
              "      <td>-0.373246</td>\n",
              "      <td>0.026106</td>\n",
              "      <td>-0.000062</td>\n",
              "      <td>-78.945375</td>\n",
              "      <td>-67.105516</td>\n",
              "      <td>13.134436</td>\n",
              "      <td>33.069053</td>\n",
              "      <td>-15.494463</td>\n",
              "      <td>183.633118</td>\n",
              "      <td>1074.034376</td>\n",
              "      <td>1.190633e+05</td>\n",
              "      <td>1.781661e+07</td>\n",
              "      <td>-0.358773</td>\n",
              "      <td>0.045135</td>\n",
              "      <td>-0.000108</td>\n",
              "      <td>-78.924149</td>\n",
              "      <td>-67.067827</td>\n",
              "      <td>10.746138</td>\n",
              "      <td>26.060130</td>\n",
              "      <td>-10.249387</td>\n",
              "      <td>141.513290</td>\n",
              "      <td>666.782529</td>\n",
              "      <td>5.309464e+04</td>\n",
              "      <td>6.203072e+06</td>\n",
              "      <td>-0.306851</td>\n",
              "      <td>-0.001092</td>\n",
              "      <td>0.000003</td>\n",
              "      <td>-77.536999</td>\n",
              "      <td>-64.783463</td>\n",
              "      <td>-45.5867</td>\n",
              "      <td>1</td>\n",
              "      <td>0.281</td>\n",
              "      <td>1.152</td>\n",
              "      <td>90</td>\n",
              "    </tr>\n",
              "    <tr>\n",
              "      <th>4</th>\n",
              "      <td>1124</td>\n",
              "      <td>0.660948</td>\n",
              "      <td>2.360084</td>\n",
              "      <td>-6.804703</td>\n",
              "      <td>5.330927</td>\n",
              "      <td>5.481586</td>\n",
              "      <td>-4.160853</td>\n",
              "      <td>1.101222e+02</td>\n",
              "      <td>-0.033864</td>\n",
              "      <td>-0.567576</td>\n",
              "      <td>0.001234</td>\n",
              "      <td>-84.969286</td>\n",
              "      <td>-84.959510</td>\n",
              "      <td>4.634637</td>\n",
              "      <td>8.107525</td>\n",
              "      <td>-2.622109</td>\n",
              "      <td>37.170177</td>\n",
              "      <td>64.598653</td>\n",
              "      <td>1.202103e+03</td>\n",
              "      <td>3.545471e+04</td>\n",
              "      <td>-0.429236</td>\n",
              "      <td>-0.793184</td>\n",
              "      <td>0.001865</td>\n",
              "      <td>-69.333715</td>\n",
              "      <td>-67.527468</td>\n",
              "      <td>10.243968</td>\n",
              "      <td>21.319854</td>\n",
              "      <td>-2.084535</td>\n",
              "      <td>106.671692</td>\n",
              "      <td>446.699339</td>\n",
              "      <td>2.827915e+04</td>\n",
              "      <td>2.468546e+06</td>\n",
              "      <td>-0.438785</td>\n",
              "      <td>-0.713211</td>\n",
              "      <td>0.001677</td>\n",
              "      <td>-72.170872</td>\n",
              "      <td>-71.247906</td>\n",
              "      <td>11.086555</td>\n",
              "      <td>26.270649</td>\n",
              "      <td>-2.800270</td>\n",
              "      <td>139.818405</td>\n",
              "      <td>678.247892</td>\n",
              "      <td>6.198814e+04</td>\n",
              "      <td>7.271993e+06</td>\n",
              "      <td>-0.383411</td>\n",
              "      <td>-0.617699</td>\n",
              "      <td>0.001452</td>\n",
              "      <td>-74.891133</td>\n",
              "      <td>-74.498916</td>\n",
              "      <td>9.906102</td>\n",
              "      <td>26.865913</td>\n",
              "      <td>-16.543753</td>\n",
              "      <td>143.600189</td>\n",
              "      <td>709.332831</td>\n",
              "      <td>7.183273e+04</td>\n",
              "      <td>9.005039e+06</td>\n",
              "      <td>-0.303771</td>\n",
              "      <td>-0.571549</td>\n",
              "      <td>0.001344</td>\n",
              "      <td>-75.991223</td>\n",
              "      <td>-75.898716</td>\n",
              "      <td>6.896742</td>\n",
              "      <td>21.434627</td>\n",
              "      <td>-10.860540</td>\n",
              "      <td>109.157585</td>\n",
              "      <td>451.382820</td>\n",
              "      <td>3.414365e+04</td>\n",
              "      <td>3.279413e+06</td>\n",
              "      <td>-0.229697</td>\n",
              "      <td>-0.478402</td>\n",
              "      <td>0.001110</td>\n",
              "      <td>-76.666778</td>\n",
              "      <td>-76.526495</td>\n",
              "      <td>-63.8237</td>\n",
              "      <td>1</td>\n",
              "      <td>0.241</td>\n",
              "      <td>0.018</td>\n",
              "      <td>90</td>\n",
              "    </tr>\n",
              "  </tbody>\n",
              "</table>\n",
              "</div>"
            ],
            "text/plain": [
              "   object_id  (0, mean)   (0, std)  ...  hostgal_photoz  hostgal_photoz_err  target\n",
              "0        615  -3.254554  83.944735  ...           0.000               0.000      92\n",
              "1        713  -2.720398   7.113509  ...           1.627               0.255      88\n",
              "2        730  -0.048080   1.828872  ...           0.226               0.016      42\n",
              "3        745   1.797523   4.374445  ...           0.281               1.152      90\n",
              "4       1124   0.660948   2.360084  ...           0.241               0.018      90\n",
              "\n",
              "[5 rows x 78 columns]"
            ]
          },
          "metadata": {},
          "execution_count": 246
        }
      ]
    },
    {
      "cell_type": "markdown",
      "source": [
        "#### Rename column names for easy read"
      ],
      "metadata": {
        "id": "E3OSD1G4YKVL"
      }
    },
    {
      "cell_type": "code",
      "source": [
        "col_oldname = final_features.columns.to_numpy()\n",
        "col_rename = ['_'.join((str(i[0]), str(i[1]))) if type(i) == tuple else i for i in col_oldname]"
      ],
      "metadata": {
        "id": "p762_eJCRLfP"
      },
      "execution_count": 247,
      "outputs": []
    },
    {
      "cell_type": "code",
      "source": [
        "map_names = {}\n",
        "for A, B in zip(col_oldname, col_rename):\n",
        "    map_names[A] = B"
      ],
      "metadata": {
        "id": "qpxCj2t9UnlI"
      },
      "execution_count": 248,
      "outputs": []
    },
    {
      "cell_type": "code",
      "source": [
        "#final_features.rename(columns=map_names).to_csv('/content/drive/MyDrive/DSPSFinalExam/final_features.csv')"
      ],
      "metadata": {
        "id": "SkUQsiwHXiF5"
      },
      "execution_count": 249,
      "outputs": []
    },
    {
      "cell_type": "code",
      "source": [
        "final_features = final_features.rename(columns=map_names)"
      ],
      "metadata": {
        "id": "dVIBVpNXXi3O"
      },
      "execution_count": 250,
      "outputs": []
    },
    {
      "cell_type": "code",
      "source": [
        "final_features.head()"
      ],
      "metadata": {
        "colab": {
          "base_uri": "https://localhost:8080/",
          "height": 226
        },
        "id": "4ykg-0SvYzdf",
        "outputId": "1277ea77-1a6f-4774-d5ab-61c38802b86a"
      },
      "execution_count": 251,
      "outputs": [
        {
          "output_type": "execute_result",
          "data": {
            "text/html": [
              "<div>\n",
              "<style scoped>\n",
              "    .dataframe tbody tr th:only-of-type {\n",
              "        vertical-align: middle;\n",
              "    }\n",
              "\n",
              "    .dataframe tbody tr th {\n",
              "        vertical-align: top;\n",
              "    }\n",
              "\n",
              "    .dataframe thead th {\n",
              "        text-align: right;\n",
              "    }\n",
              "</style>\n",
              "<table border=\"1\" class=\"dataframe\">\n",
              "  <thead>\n",
              "    <tr style=\"text-align: right;\">\n",
              "      <th></th>\n",
              "      <th>object_id</th>\n",
              "      <th>0_mean</th>\n",
              "      <th>0_std</th>\n",
              "      <th>0_min</th>\n",
              "      <th>0_max</th>\n",
              "      <th>0_m2</th>\n",
              "      <th>0_m3</th>\n",
              "      <th>0_m4</th>\n",
              "      <th>0_median</th>\n",
              "      <th>0_intercept</th>\n",
              "      <th>0_slope</th>\n",
              "      <th>0_ll1</th>\n",
              "      <th>0_ll2</th>\n",
              "      <th>1_mean</th>\n",
              "      <th>1_std</th>\n",
              "      <th>1_min</th>\n",
              "      <th>1_max</th>\n",
              "      <th>1_m2</th>\n",
              "      <th>1_m3</th>\n",
              "      <th>1_m4</th>\n",
              "      <th>1_median</th>\n",
              "      <th>1_intercept</th>\n",
              "      <th>1_slope</th>\n",
              "      <th>1_ll1</th>\n",
              "      <th>1_ll2</th>\n",
              "      <th>2_mean</th>\n",
              "      <th>2_std</th>\n",
              "      <th>2_min</th>\n",
              "      <th>2_max</th>\n",
              "      <th>2_m2</th>\n",
              "      <th>2_m3</th>\n",
              "      <th>2_m4</th>\n",
              "      <th>2_median</th>\n",
              "      <th>2_intercept</th>\n",
              "      <th>2_slope</th>\n",
              "      <th>2_ll1</th>\n",
              "      <th>2_ll2</th>\n",
              "      <th>3_mean</th>\n",
              "      <th>3_std</th>\n",
              "      <th>3_min</th>\n",
              "      <th>3_max</th>\n",
              "      <th>3_m2</th>\n",
              "      <th>3_m3</th>\n",
              "      <th>3_m4</th>\n",
              "      <th>3_median</th>\n",
              "      <th>3_intercept</th>\n",
              "      <th>3_slope</th>\n",
              "      <th>3_ll1</th>\n",
              "      <th>3_ll2</th>\n",
              "      <th>4_mean</th>\n",
              "      <th>4_std</th>\n",
              "      <th>4_min</th>\n",
              "      <th>4_max</th>\n",
              "      <th>4_m2</th>\n",
              "      <th>4_m3</th>\n",
              "      <th>4_m4</th>\n",
              "      <th>4_median</th>\n",
              "      <th>4_intercept</th>\n",
              "      <th>4_slope</th>\n",
              "      <th>4_ll1</th>\n",
              "      <th>4_ll2</th>\n",
              "      <th>5_mean</th>\n",
              "      <th>5_std</th>\n",
              "      <th>5_min</th>\n",
              "      <th>5_max</th>\n",
              "      <th>5_m2</th>\n",
              "      <th>5_m3</th>\n",
              "      <th>5_m4</th>\n",
              "      <th>5_median</th>\n",
              "      <th>5_intercept</th>\n",
              "      <th>5_slope</th>\n",
              "      <th>5_ll1</th>\n",
              "      <th>5_ll2</th>\n",
              "      <th>decl</th>\n",
              "      <th>ddf_bool</th>\n",
              "      <th>hostgal_photoz</th>\n",
              "      <th>hostgal_photoz_err</th>\n",
              "      <th>target</th>\n",
              "    </tr>\n",
              "  </thead>\n",
              "  <tbody>\n",
              "    <tr>\n",
              "      <th>0</th>\n",
              "      <td>615</td>\n",
              "      <td>-3.254554</td>\n",
              "      <td>83.944735</td>\n",
              "      <td>-116.913223</td>\n",
              "      <td>125.182808</td>\n",
              "      <td>6934.865833</td>\n",
              "      <td>72665.792850</td>\n",
              "      <td>7.433032e+07</td>\n",
              "      <td>-0.080537</td>\n",
              "      <td>-0.240792</td>\n",
              "      <td>0.000524</td>\n",
              "      <td>-88.218652</td>\n",
              "      <td>-84.013092</td>\n",
              "      <td>-385.699911</td>\n",
              "      <td>601.787302</td>\n",
              "      <td>-1100.440063</td>\n",
              "      <td>660.626343</td>\n",
              "      <td>355904.026224</td>\n",
              "      <td>8.593916e+07</td>\n",
              "      <td>2.215166e+11</td>\n",
              "      <td>-0.170090</td>\n",
              "      <td>-0.237681</td>\n",
              "      <td>0.000559</td>\n",
              "      <td>-80.869998</td>\n",
              "      <td>-80.867915</td>\n",
              "      <td>-134.146566</td>\n",
              "      <td>455.121346</td>\n",
              "      <td>-681.858887</td>\n",
              "      <td>611.984558</td>\n",
              "      <td>203564.138816</td>\n",
              "      <td>3.040627e+07</td>\n",
              "      <td>6.659406e+10</td>\n",
              "      <td>-0.289021</td>\n",
              "      <td>-0.318807</td>\n",
              "      <td>0.000750</td>\n",
              "      <td>-80.109763</td>\n",
              "      <td>-80.092803</td>\n",
              "      <td>-121.103501</td>\n",
              "      <td>335.425053</td>\n",
              "      <td>-530.644592</td>\n",
              "      <td>445.737061</td>\n",
              "      <td>110570.138947</td>\n",
              "      <td>1.049664e+07</td>\n",
              "      <td>1.919999e+10</td>\n",
              "      <td>-0.122434</td>\n",
              "      <td>-0.386015</td>\n",
              "      <td>0.000908</td>\n",
              "      <td>-79.290039</td>\n",
              "      <td>-79.226482</td>\n",
              "      <td>-55.954592</td>\n",
              "      <td>291.803449</td>\n",
              "      <td>-422.184509</td>\n",
              "      <td>381.953735</td>\n",
              "      <td>83681.162283</td>\n",
              "      <td>4.717542e+06</td>\n",
              "      <td>1.036570e+10</td>\n",
              "      <td>-0.163078</td>\n",
              "      <td>-0.441033</td>\n",
              "      <td>0.001037</td>\n",
              "      <td>-78.480261</td>\n",
              "      <td>-78.160027</td>\n",
              "      <td>-47.449847</td>\n",
              "      <td>294.779522</td>\n",
              "      <td>-422.815094</td>\n",
              "      <td>378.188141</td>\n",
              "      <td>85370.493377</td>\n",
              "      <td>3.041829e+06</td>\n",
              "      <td>1.049535e+10</td>\n",
              "      <td>-0.129163</td>\n",
              "      <td>-0.432144</td>\n",
              "      <td>0.001003</td>\n",
              "      <td>-77.386461</td>\n",
              "      <td>-76.917754</td>\n",
              "      <td>-61.9438</td>\n",
              "      <td>1</td>\n",
              "      <td>0.000</td>\n",
              "      <td>0.000</td>\n",
              "      <td>92</td>\n",
              "    </tr>\n",
              "    <tr>\n",
              "      <th>1</th>\n",
              "      <td>713</td>\n",
              "      <td>-2.720398</td>\n",
              "      <td>7.113509</td>\n",
              "      <td>-14.735178</td>\n",
              "      <td>14.509829</td>\n",
              "      <td>49.879128</td>\n",
              "      <td>89.634243</td>\n",
              "      <td>4.907398e+03</td>\n",
              "      <td>-0.052914</td>\n",
              "      <td>1.328605</td>\n",
              "      <td>-0.002859</td>\n",
              "      <td>-49.801325</td>\n",
              "      <td>-45.801483</td>\n",
              "      <td>-1.019804</td>\n",
              "      <td>5.712334</td>\n",
              "      <td>-11.715749</td>\n",
              "      <td>9.129021</td>\n",
              "      <td>32.048070</td>\n",
              "      <td>-1.551087e+01</td>\n",
              "      <td>1.944373e+03</td>\n",
              "      <td>0.080189</td>\n",
              "      <td>1.166349</td>\n",
              "      <td>-0.002799</td>\n",
              "      <td>-38.161170</td>\n",
              "      <td>-36.052358</td>\n",
              "      <td>-0.794238</td>\n",
              "      <td>5.770738</td>\n",
              "      <td>-10.067919</td>\n",
              "      <td>10.529041</td>\n",
              "      <td>32.706748</td>\n",
              "      <td>-4.127475e+00</td>\n",
              "      <td>1.935955e+03</td>\n",
              "      <td>0.117188</td>\n",
              "      <td>1.181665</td>\n",
              "      <td>-0.002836</td>\n",
              "      <td>-35.611095</td>\n",
              "      <td>-34.410798</td>\n",
              "      <td>-0.986966</td>\n",
              "      <td>6.450413</td>\n",
              "      <td>-12.394593</td>\n",
              "      <td>11.330316</td>\n",
              "      <td>40.864832</td>\n",
              "      <td>-4.249286e+01</td>\n",
              "      <td>3.091660e+03</td>\n",
              "      <td>0.141552</td>\n",
              "      <td>1.145128</td>\n",
              "      <td>-0.002748</td>\n",
              "      <td>-41.302700</td>\n",
              "      <td>-38.701863</td>\n",
              "      <td>-0.900262</td>\n",
              "      <td>6.406989</td>\n",
              "      <td>-12.286801</td>\n",
              "      <td>9.827934</td>\n",
              "      <td>40.316483</td>\n",
              "      <td>-1.597455e+01</td>\n",
              "      <td>2.938985e+03</td>\n",
              "      <td>0.016870</td>\n",
              "      <td>1.117370</td>\n",
              "      <td>-0.002681</td>\n",
              "      <td>-44.870314</td>\n",
              "      <td>-44.424807</td>\n",
              "      <td>-1.794175</td>\n",
              "      <td>7.094073</td>\n",
              "      <td>-14.211164</td>\n",
              "      <td>14.770886</td>\n",
              "      <td>49.427194</td>\n",
              "      <td>7.377121e+01</td>\n",
              "      <td>5.294322e+03</td>\n",
              "      <td>-0.094281</td>\n",
              "      <td>0.824426</td>\n",
              "      <td>-0.001978</td>\n",
              "      <td>-65.424297</td>\n",
              "      <td>-65.167686</td>\n",
              "      <td>-27.7844</td>\n",
              "      <td>1</td>\n",
              "      <td>1.627</td>\n",
              "      <td>0.255</td>\n",
              "      <td>88</td>\n",
              "    </tr>\n",
              "    <tr>\n",
              "      <th>2</th>\n",
              "      <td>730</td>\n",
              "      <td>-0.048080</td>\n",
              "      <td>1.828872</td>\n",
              "      <td>-3.459960</td>\n",
              "      <td>5.942166</td>\n",
              "      <td>3.298318</td>\n",
              "      <td>2.093148</td>\n",
              "      <td>3.655013e+01</td>\n",
              "      <td>0.039463</td>\n",
              "      <td>0.051958</td>\n",
              "      <td>-0.000121</td>\n",
              "      <td>-101.606902</td>\n",
              "      <td>-101.249926</td>\n",
              "      <td>0.141057</td>\n",
              "      <td>1.807229</td>\n",
              "      <td>-3.393080</td>\n",
              "      <td>5.693109</td>\n",
              "      <td>3.203266</td>\n",
              "      <td>2.623669e+00</td>\n",
              "      <td>3.870188e+01</td>\n",
              "      <td>0.016754</td>\n",
              "      <td>-0.140403</td>\n",
              "      <td>0.000337</td>\n",
              "      <td>-73.012277</td>\n",
              "      <td>-72.910038</td>\n",
              "      <td>2.400870</td>\n",
              "      <td>5.559483</td>\n",
              "      <td>-2.848838</td>\n",
              "      <td>20.994711</td>\n",
              "      <td>30.313471</td>\n",
              "      <td>3.864890e+02</td>\n",
              "      <td>6.926529e+03</td>\n",
              "      <td>-0.343392</td>\n",
              "      <td>-0.717286</td>\n",
              "      <td>0.001724</td>\n",
              "      <td>-65.193298</td>\n",
              "      <td>-63.777334</td>\n",
              "      <td>3.236164</td>\n",
              "      <td>8.191987</td>\n",
              "      <td>-5.435799</td>\n",
              "      <td>33.572102</td>\n",
              "      <td>65.818099</td>\n",
              "      <td>1.380135e+03</td>\n",
              "      <td>4.048490e+04</td>\n",
              "      <td>-0.314425</td>\n",
              "      <td>-0.656739</td>\n",
              "      <td>0.001578</td>\n",
              "      <td>-66.683538</td>\n",
              "      <td>-66.369632</td>\n",
              "      <td>4.308728</td>\n",
              "      <td>10.710344</td>\n",
              "      <td>-5.836310</td>\n",
              "      <td>41.159981</td>\n",
              "      <td>112.462234</td>\n",
              "      <td>2.936931e+03</td>\n",
              "      <td>1.060595e+05</td>\n",
              "      <td>-0.308522</td>\n",
              "      <td>-0.615831</td>\n",
              "      <td>0.001477</td>\n",
              "      <td>-66.161110</td>\n",
              "      <td>-65.239486</td>\n",
              "      <td>4.539396</td>\n",
              "      <td>13.332758</td>\n",
              "      <td>-19.159811</td>\n",
              "      <td>47.310059</td>\n",
              "      <td>174.276892</td>\n",
              "      <td>3.751336e+03</td>\n",
              "      <td>1.860606e+05</td>\n",
              "      <td>-0.149763</td>\n",
              "      <td>-0.524711</td>\n",
              "      <td>0.001259</td>\n",
              "      <td>-67.853917</td>\n",
              "      <td>-66.518080</td>\n",
              "      <td>-6.5796</td>\n",
              "      <td>1</td>\n",
              "      <td>0.226</td>\n",
              "      <td>0.016</td>\n",
              "      <td>42</td>\n",
              "    </tr>\n",
              "    <tr>\n",
              "      <th>3</th>\n",
              "      <td>745</td>\n",
              "      <td>1.797523</td>\n",
              "      <td>4.374445</td>\n",
              "      <td>-3.874349</td>\n",
              "      <td>18.014029</td>\n",
              "      <td>18.869993</td>\n",
              "      <td>162.368381</td>\n",
              "      <td>2.575248e+03</td>\n",
              "      <td>-0.169349</td>\n",
              "      <td>0.300509</td>\n",
              "      <td>-0.000700</td>\n",
              "      <td>-100.184915</td>\n",
              "      <td>-88.423048</td>\n",
              "      <td>5.717394</td>\n",
              "      <td>25.964659</td>\n",
              "      <td>-3.618410</td>\n",
              "      <td>192.244293</td>\n",
              "      <td>662.124902</td>\n",
              "      <td>1.161627e+05</td>\n",
              "      <td>2.162844e+07</td>\n",
              "      <td>-0.185994</td>\n",
              "      <td>0.038537</td>\n",
              "      <td>-0.000092</td>\n",
              "      <td>-78.932796</td>\n",
              "      <td>-76.313623</td>\n",
              "      <td>9.711532</td>\n",
              "      <td>31.957997</td>\n",
              "      <td>-2.159753</td>\n",
              "      <td>220.795212</td>\n",
              "      <td>1003.075853</td>\n",
              "      <td>1.758302e+05</td>\n",
              "      <td>3.606109e+07</td>\n",
              "      <td>-0.290606</td>\n",
              "      <td>0.033903</td>\n",
              "      <td>-0.000081</td>\n",
              "      <td>-78.938052</td>\n",
              "      <td>-72.846380</td>\n",
              "      <td>14.412924</td>\n",
              "      <td>34.967698</td>\n",
              "      <td>-4.944036</td>\n",
              "      <td>203.250702</td>\n",
              "      <td>1200.905234</td>\n",
              "      <td>1.519142e+05</td>\n",
              "      <td>2.575691e+07</td>\n",
              "      <td>-0.373246</td>\n",
              "      <td>0.026106</td>\n",
              "      <td>-0.000062</td>\n",
              "      <td>-78.945375</td>\n",
              "      <td>-67.105516</td>\n",
              "      <td>13.134436</td>\n",
              "      <td>33.069053</td>\n",
              "      <td>-15.494463</td>\n",
              "      <td>183.633118</td>\n",
              "      <td>1074.034376</td>\n",
              "      <td>1.190633e+05</td>\n",
              "      <td>1.781661e+07</td>\n",
              "      <td>-0.358773</td>\n",
              "      <td>0.045135</td>\n",
              "      <td>-0.000108</td>\n",
              "      <td>-78.924149</td>\n",
              "      <td>-67.067827</td>\n",
              "      <td>10.746138</td>\n",
              "      <td>26.060130</td>\n",
              "      <td>-10.249387</td>\n",
              "      <td>141.513290</td>\n",
              "      <td>666.782529</td>\n",
              "      <td>5.309464e+04</td>\n",
              "      <td>6.203072e+06</td>\n",
              "      <td>-0.306851</td>\n",
              "      <td>-0.001092</td>\n",
              "      <td>0.000003</td>\n",
              "      <td>-77.536999</td>\n",
              "      <td>-64.783463</td>\n",
              "      <td>-45.5867</td>\n",
              "      <td>1</td>\n",
              "      <td>0.281</td>\n",
              "      <td>1.152</td>\n",
              "      <td>90</td>\n",
              "    </tr>\n",
              "    <tr>\n",
              "      <th>4</th>\n",
              "      <td>1124</td>\n",
              "      <td>0.660948</td>\n",
              "      <td>2.360084</td>\n",
              "      <td>-6.804703</td>\n",
              "      <td>5.330927</td>\n",
              "      <td>5.481586</td>\n",
              "      <td>-4.160853</td>\n",
              "      <td>1.101222e+02</td>\n",
              "      <td>-0.033864</td>\n",
              "      <td>-0.567576</td>\n",
              "      <td>0.001234</td>\n",
              "      <td>-84.969286</td>\n",
              "      <td>-84.959510</td>\n",
              "      <td>4.634637</td>\n",
              "      <td>8.107525</td>\n",
              "      <td>-2.622109</td>\n",
              "      <td>37.170177</td>\n",
              "      <td>64.598653</td>\n",
              "      <td>1.202103e+03</td>\n",
              "      <td>3.545471e+04</td>\n",
              "      <td>-0.429236</td>\n",
              "      <td>-0.793184</td>\n",
              "      <td>0.001865</td>\n",
              "      <td>-69.333715</td>\n",
              "      <td>-67.527468</td>\n",
              "      <td>10.243968</td>\n",
              "      <td>21.319854</td>\n",
              "      <td>-2.084535</td>\n",
              "      <td>106.671692</td>\n",
              "      <td>446.699339</td>\n",
              "      <td>2.827915e+04</td>\n",
              "      <td>2.468546e+06</td>\n",
              "      <td>-0.438785</td>\n",
              "      <td>-0.713211</td>\n",
              "      <td>0.001677</td>\n",
              "      <td>-72.170872</td>\n",
              "      <td>-71.247906</td>\n",
              "      <td>11.086555</td>\n",
              "      <td>26.270649</td>\n",
              "      <td>-2.800270</td>\n",
              "      <td>139.818405</td>\n",
              "      <td>678.247892</td>\n",
              "      <td>6.198814e+04</td>\n",
              "      <td>7.271993e+06</td>\n",
              "      <td>-0.383411</td>\n",
              "      <td>-0.617699</td>\n",
              "      <td>0.001452</td>\n",
              "      <td>-74.891133</td>\n",
              "      <td>-74.498916</td>\n",
              "      <td>9.906102</td>\n",
              "      <td>26.865913</td>\n",
              "      <td>-16.543753</td>\n",
              "      <td>143.600189</td>\n",
              "      <td>709.332831</td>\n",
              "      <td>7.183273e+04</td>\n",
              "      <td>9.005039e+06</td>\n",
              "      <td>-0.303771</td>\n",
              "      <td>-0.571549</td>\n",
              "      <td>0.001344</td>\n",
              "      <td>-75.991223</td>\n",
              "      <td>-75.898716</td>\n",
              "      <td>6.896742</td>\n",
              "      <td>21.434627</td>\n",
              "      <td>-10.860540</td>\n",
              "      <td>109.157585</td>\n",
              "      <td>451.382820</td>\n",
              "      <td>3.414365e+04</td>\n",
              "      <td>3.279413e+06</td>\n",
              "      <td>-0.229697</td>\n",
              "      <td>-0.478402</td>\n",
              "      <td>0.001110</td>\n",
              "      <td>-76.666778</td>\n",
              "      <td>-76.526495</td>\n",
              "      <td>-63.8237</td>\n",
              "      <td>1</td>\n",
              "      <td>0.241</td>\n",
              "      <td>0.018</td>\n",
              "      <td>90</td>\n",
              "    </tr>\n",
              "  </tbody>\n",
              "</table>\n",
              "</div>"
            ],
            "text/plain": [
              "   object_id    0_mean      0_std  ...  hostgal_photoz  hostgal_photoz_err  target\n",
              "0        615 -3.254554  83.944735  ...           0.000               0.000      92\n",
              "1        713 -2.720398   7.113509  ...           1.627               0.255      88\n",
              "2        730 -0.048080   1.828872  ...           0.226               0.016      42\n",
              "3        745  1.797523   4.374445  ...           0.281               1.152      90\n",
              "4       1124  0.660948   2.360084  ...           0.241               0.018      90\n",
              "\n",
              "[5 rows x 78 columns]"
            ]
          },
          "metadata": {},
          "execution_count": 251
        }
      ]
    },
    {
      "cell_type": "code",
      "source": [
        "print(\"My feature space has {} features\".format(final_features.shape[1]))"
      ],
      "metadata": {
        "colab": {
          "base_uri": "https://localhost:8080/"
        },
        "id": "iTf0-mW7Y_SE",
        "outputId": "1091c334-b830-4d9f-afc7-0f7bbb47af94"
      },
      "execution_count": 255,
      "outputs": [
        {
          "output_type": "stream",
          "name": "stdout",
          "text": [
            "My feature space has 78 features\n"
          ]
        }
      ]
    },
    {
      "cell_type": "markdown",
      "source": [
        "#  PART II: Classifying:\n",
        "- Note I am planning to use random forest method for classification, in which scaling is not necessary. Therefore I am not applying in scaling. I will do it latter when I will plot high dimensional data in 2 dimensional space"
      ],
      "metadata": {
        "id": "GWh0eQIlOUGH"
      }
    },
    {
      "cell_type": "markdown",
      "source": [
        "<font color='red'>Here I am loading final features csv file from my google drive. It is a saved version!</font>"
      ],
      "metadata": {
        "id": "UeGQ4165Uh74"
      }
    },
    {
      "cell_type": "code",
      "source": [
        "final_features = pd.read_csv('final_features.csv', index_col=[0])"
      ],
      "metadata": {
        "id": "ewASM9mUOI-V"
      },
      "execution_count": 20,
      "outputs": []
    },
    {
      "cell_type": "code",
      "source": [
        "final_features.head()"
      ],
      "metadata": {
        "colab": {
          "base_uri": "https://localhost:8080/",
          "height": 226
        },
        "id": "MoSs61kJZCxY",
        "outputId": "3896e5c1-b931-4de4-e62e-08b662fad0b2"
      },
      "execution_count": 21,
      "outputs": [
        {
          "output_type": "execute_result",
          "data": {
            "text/html": [
              "<div>\n",
              "<style scoped>\n",
              "    .dataframe tbody tr th:only-of-type {\n",
              "        vertical-align: middle;\n",
              "    }\n",
              "\n",
              "    .dataframe tbody tr th {\n",
              "        vertical-align: top;\n",
              "    }\n",
              "\n",
              "    .dataframe thead th {\n",
              "        text-align: right;\n",
              "    }\n",
              "</style>\n",
              "<table border=\"1\" class=\"dataframe\">\n",
              "  <thead>\n",
              "    <tr style=\"text-align: right;\">\n",
              "      <th></th>\n",
              "      <th>object_id</th>\n",
              "      <th>0_mean</th>\n",
              "      <th>0_std</th>\n",
              "      <th>0_min</th>\n",
              "      <th>0_max</th>\n",
              "      <th>0_m2</th>\n",
              "      <th>0_m3</th>\n",
              "      <th>0_m4</th>\n",
              "      <th>0_median</th>\n",
              "      <th>0_intercept</th>\n",
              "      <th>0_slope</th>\n",
              "      <th>0_ll1</th>\n",
              "      <th>0_ll2</th>\n",
              "      <th>1_mean</th>\n",
              "      <th>1_std</th>\n",
              "      <th>1_min</th>\n",
              "      <th>1_max</th>\n",
              "      <th>1_m2</th>\n",
              "      <th>1_m3</th>\n",
              "      <th>1_m4</th>\n",
              "      <th>1_median</th>\n",
              "      <th>1_intercept</th>\n",
              "      <th>1_slope</th>\n",
              "      <th>1_ll1</th>\n",
              "      <th>1_ll2</th>\n",
              "      <th>2_mean</th>\n",
              "      <th>2_std</th>\n",
              "      <th>2_min</th>\n",
              "      <th>2_max</th>\n",
              "      <th>2_m2</th>\n",
              "      <th>2_m3</th>\n",
              "      <th>2_m4</th>\n",
              "      <th>2_median</th>\n",
              "      <th>2_intercept</th>\n",
              "      <th>2_slope</th>\n",
              "      <th>2_ll1</th>\n",
              "      <th>2_ll2</th>\n",
              "      <th>3_mean</th>\n",
              "      <th>3_std</th>\n",
              "      <th>3_min</th>\n",
              "      <th>3_max</th>\n",
              "      <th>3_m2</th>\n",
              "      <th>3_m3</th>\n",
              "      <th>3_m4</th>\n",
              "      <th>3_median</th>\n",
              "      <th>3_intercept</th>\n",
              "      <th>3_slope</th>\n",
              "      <th>3_ll1</th>\n",
              "      <th>3_ll2</th>\n",
              "      <th>4_mean</th>\n",
              "      <th>4_std</th>\n",
              "      <th>4_min</th>\n",
              "      <th>4_max</th>\n",
              "      <th>4_m2</th>\n",
              "      <th>4_m3</th>\n",
              "      <th>4_m4</th>\n",
              "      <th>4_median</th>\n",
              "      <th>4_intercept</th>\n",
              "      <th>4_slope</th>\n",
              "      <th>4_ll1</th>\n",
              "      <th>4_ll2</th>\n",
              "      <th>5_mean</th>\n",
              "      <th>5_std</th>\n",
              "      <th>5_min</th>\n",
              "      <th>5_max</th>\n",
              "      <th>5_m2</th>\n",
              "      <th>5_m3</th>\n",
              "      <th>5_m4</th>\n",
              "      <th>5_median</th>\n",
              "      <th>5_intercept</th>\n",
              "      <th>5_slope</th>\n",
              "      <th>5_ll1</th>\n",
              "      <th>5_ll2</th>\n",
              "      <th>decl</th>\n",
              "      <th>ddf_bool</th>\n",
              "      <th>hostgal_photoz</th>\n",
              "      <th>hostgal_photoz_err</th>\n",
              "      <th>target</th>\n",
              "    </tr>\n",
              "  </thead>\n",
              "  <tbody>\n",
              "    <tr>\n",
              "      <th>0</th>\n",
              "      <td>615</td>\n",
              "      <td>-3.254554</td>\n",
              "      <td>83.944735</td>\n",
              "      <td>-116.913223</td>\n",
              "      <td>125.182808</td>\n",
              "      <td>6934.865833</td>\n",
              "      <td>72665.792850</td>\n",
              "      <td>7.433032e+07</td>\n",
              "      <td>-0.080537</td>\n",
              "      <td>-0.240792</td>\n",
              "      <td>0.000524</td>\n",
              "      <td>-88.218652</td>\n",
              "      <td>-84.013092</td>\n",
              "      <td>-385.699911</td>\n",
              "      <td>601.787302</td>\n",
              "      <td>-1100.440063</td>\n",
              "      <td>660.626343</td>\n",
              "      <td>355904.026224</td>\n",
              "      <td>8.593916e+07</td>\n",
              "      <td>2.215166e+11</td>\n",
              "      <td>-0.170090</td>\n",
              "      <td>-0.237681</td>\n",
              "      <td>0.000559</td>\n",
              "      <td>-80.869998</td>\n",
              "      <td>-80.867915</td>\n",
              "      <td>-134.146566</td>\n",
              "      <td>455.121346</td>\n",
              "      <td>-681.858887</td>\n",
              "      <td>611.984558</td>\n",
              "      <td>203564.138816</td>\n",
              "      <td>3.040627e+07</td>\n",
              "      <td>6.659406e+10</td>\n",
              "      <td>-0.289021</td>\n",
              "      <td>-0.318807</td>\n",
              "      <td>0.000750</td>\n",
              "      <td>-80.109763</td>\n",
              "      <td>-80.092803</td>\n",
              "      <td>-121.103501</td>\n",
              "      <td>335.425053</td>\n",
              "      <td>-530.644592</td>\n",
              "      <td>445.737061</td>\n",
              "      <td>110570.138947</td>\n",
              "      <td>1.049664e+07</td>\n",
              "      <td>1.919999e+10</td>\n",
              "      <td>-0.122434</td>\n",
              "      <td>-0.386015</td>\n",
              "      <td>0.000908</td>\n",
              "      <td>-79.290039</td>\n",
              "      <td>-79.226482</td>\n",
              "      <td>-55.954592</td>\n",
              "      <td>291.803449</td>\n",
              "      <td>-422.184509</td>\n",
              "      <td>381.953735</td>\n",
              "      <td>83681.162283</td>\n",
              "      <td>4.717542e+06</td>\n",
              "      <td>1.036570e+10</td>\n",
              "      <td>-0.163078</td>\n",
              "      <td>-0.441033</td>\n",
              "      <td>0.001037</td>\n",
              "      <td>-78.480261</td>\n",
              "      <td>-78.160027</td>\n",
              "      <td>-47.449847</td>\n",
              "      <td>294.779522</td>\n",
              "      <td>-422.815094</td>\n",
              "      <td>378.188141</td>\n",
              "      <td>85370.493377</td>\n",
              "      <td>3.041829e+06</td>\n",
              "      <td>1.049535e+10</td>\n",
              "      <td>-0.129163</td>\n",
              "      <td>-0.432144</td>\n",
              "      <td>0.001003</td>\n",
              "      <td>-77.386461</td>\n",
              "      <td>-76.917754</td>\n",
              "      <td>-61.9438</td>\n",
              "      <td>1</td>\n",
              "      <td>0.000</td>\n",
              "      <td>0.000</td>\n",
              "      <td>92</td>\n",
              "    </tr>\n",
              "    <tr>\n",
              "      <th>1</th>\n",
              "      <td>713</td>\n",
              "      <td>-2.720398</td>\n",
              "      <td>7.113509</td>\n",
              "      <td>-14.735178</td>\n",
              "      <td>14.509829</td>\n",
              "      <td>49.879128</td>\n",
              "      <td>89.634243</td>\n",
              "      <td>4.907398e+03</td>\n",
              "      <td>-0.052914</td>\n",
              "      <td>1.328605</td>\n",
              "      <td>-0.002859</td>\n",
              "      <td>-49.801325</td>\n",
              "      <td>-45.801483</td>\n",
              "      <td>-1.019804</td>\n",
              "      <td>5.712334</td>\n",
              "      <td>-11.715749</td>\n",
              "      <td>9.129021</td>\n",
              "      <td>32.048070</td>\n",
              "      <td>-1.551087e+01</td>\n",
              "      <td>1.944373e+03</td>\n",
              "      <td>0.080189</td>\n",
              "      <td>1.166349</td>\n",
              "      <td>-0.002799</td>\n",
              "      <td>-38.161170</td>\n",
              "      <td>-36.052358</td>\n",
              "      <td>-0.794238</td>\n",
              "      <td>5.770738</td>\n",
              "      <td>-10.067919</td>\n",
              "      <td>10.529041</td>\n",
              "      <td>32.706748</td>\n",
              "      <td>-4.127475e+00</td>\n",
              "      <td>1.935955e+03</td>\n",
              "      <td>0.117188</td>\n",
              "      <td>1.181665</td>\n",
              "      <td>-0.002836</td>\n",
              "      <td>-35.611095</td>\n",
              "      <td>-34.410798</td>\n",
              "      <td>-0.986966</td>\n",
              "      <td>6.450413</td>\n",
              "      <td>-12.394593</td>\n",
              "      <td>11.330316</td>\n",
              "      <td>40.864832</td>\n",
              "      <td>-4.249286e+01</td>\n",
              "      <td>3.091660e+03</td>\n",
              "      <td>0.141552</td>\n",
              "      <td>1.145128</td>\n",
              "      <td>-0.002748</td>\n",
              "      <td>-41.302700</td>\n",
              "      <td>-38.701863</td>\n",
              "      <td>-0.900262</td>\n",
              "      <td>6.406989</td>\n",
              "      <td>-12.286801</td>\n",
              "      <td>9.827934</td>\n",
              "      <td>40.316483</td>\n",
              "      <td>-1.597455e+01</td>\n",
              "      <td>2.938985e+03</td>\n",
              "      <td>0.016870</td>\n",
              "      <td>1.117370</td>\n",
              "      <td>-0.002681</td>\n",
              "      <td>-44.870314</td>\n",
              "      <td>-44.424807</td>\n",
              "      <td>-1.794175</td>\n",
              "      <td>7.094073</td>\n",
              "      <td>-14.211164</td>\n",
              "      <td>14.770886</td>\n",
              "      <td>49.427194</td>\n",
              "      <td>7.377121e+01</td>\n",
              "      <td>5.294322e+03</td>\n",
              "      <td>-0.094281</td>\n",
              "      <td>0.824426</td>\n",
              "      <td>-0.001978</td>\n",
              "      <td>-65.424297</td>\n",
              "      <td>-65.167686</td>\n",
              "      <td>-27.7844</td>\n",
              "      <td>1</td>\n",
              "      <td>1.627</td>\n",
              "      <td>0.255</td>\n",
              "      <td>88</td>\n",
              "    </tr>\n",
              "    <tr>\n",
              "      <th>2</th>\n",
              "      <td>730</td>\n",
              "      <td>-0.048080</td>\n",
              "      <td>1.828872</td>\n",
              "      <td>-3.459960</td>\n",
              "      <td>5.942166</td>\n",
              "      <td>3.298318</td>\n",
              "      <td>2.093148</td>\n",
              "      <td>3.655013e+01</td>\n",
              "      <td>0.039463</td>\n",
              "      <td>0.051958</td>\n",
              "      <td>-0.000121</td>\n",
              "      <td>-101.606902</td>\n",
              "      <td>-101.249926</td>\n",
              "      <td>0.141057</td>\n",
              "      <td>1.807229</td>\n",
              "      <td>-3.393080</td>\n",
              "      <td>5.693109</td>\n",
              "      <td>3.203266</td>\n",
              "      <td>2.623669e+00</td>\n",
              "      <td>3.870188e+01</td>\n",
              "      <td>0.016754</td>\n",
              "      <td>-0.140403</td>\n",
              "      <td>0.000337</td>\n",
              "      <td>-73.012277</td>\n",
              "      <td>-72.910038</td>\n",
              "      <td>2.400870</td>\n",
              "      <td>5.559483</td>\n",
              "      <td>-2.848838</td>\n",
              "      <td>20.994711</td>\n",
              "      <td>30.313471</td>\n",
              "      <td>3.864890e+02</td>\n",
              "      <td>6.926529e+03</td>\n",
              "      <td>-0.343392</td>\n",
              "      <td>-0.717286</td>\n",
              "      <td>0.001724</td>\n",
              "      <td>-65.193298</td>\n",
              "      <td>-63.777334</td>\n",
              "      <td>3.236164</td>\n",
              "      <td>8.191987</td>\n",
              "      <td>-5.435799</td>\n",
              "      <td>33.572102</td>\n",
              "      <td>65.818099</td>\n",
              "      <td>1.380135e+03</td>\n",
              "      <td>4.048490e+04</td>\n",
              "      <td>-0.314425</td>\n",
              "      <td>-0.656739</td>\n",
              "      <td>0.001578</td>\n",
              "      <td>-66.683538</td>\n",
              "      <td>-66.369632</td>\n",
              "      <td>4.308728</td>\n",
              "      <td>10.710344</td>\n",
              "      <td>-5.836310</td>\n",
              "      <td>41.159981</td>\n",
              "      <td>112.462234</td>\n",
              "      <td>2.936931e+03</td>\n",
              "      <td>1.060595e+05</td>\n",
              "      <td>-0.308522</td>\n",
              "      <td>-0.615831</td>\n",
              "      <td>0.001477</td>\n",
              "      <td>-66.161110</td>\n",
              "      <td>-65.239486</td>\n",
              "      <td>4.539396</td>\n",
              "      <td>13.332758</td>\n",
              "      <td>-19.159811</td>\n",
              "      <td>47.310059</td>\n",
              "      <td>174.276892</td>\n",
              "      <td>3.751336e+03</td>\n",
              "      <td>1.860606e+05</td>\n",
              "      <td>-0.149763</td>\n",
              "      <td>-0.524711</td>\n",
              "      <td>0.001259</td>\n",
              "      <td>-67.853917</td>\n",
              "      <td>-66.518080</td>\n",
              "      <td>-6.5796</td>\n",
              "      <td>1</td>\n",
              "      <td>0.226</td>\n",
              "      <td>0.016</td>\n",
              "      <td>42</td>\n",
              "    </tr>\n",
              "    <tr>\n",
              "      <th>3</th>\n",
              "      <td>745</td>\n",
              "      <td>1.797523</td>\n",
              "      <td>4.374445</td>\n",
              "      <td>-3.874349</td>\n",
              "      <td>18.014029</td>\n",
              "      <td>18.869993</td>\n",
              "      <td>162.368381</td>\n",
              "      <td>2.575248e+03</td>\n",
              "      <td>-0.169349</td>\n",
              "      <td>0.300509</td>\n",
              "      <td>-0.000700</td>\n",
              "      <td>-100.184915</td>\n",
              "      <td>-88.423048</td>\n",
              "      <td>5.717394</td>\n",
              "      <td>25.964659</td>\n",
              "      <td>-3.618410</td>\n",
              "      <td>192.244293</td>\n",
              "      <td>662.124902</td>\n",
              "      <td>1.161627e+05</td>\n",
              "      <td>2.162844e+07</td>\n",
              "      <td>-0.185994</td>\n",
              "      <td>0.038537</td>\n",
              "      <td>-0.000092</td>\n",
              "      <td>-78.932796</td>\n",
              "      <td>-76.313623</td>\n",
              "      <td>9.711532</td>\n",
              "      <td>31.957997</td>\n",
              "      <td>-2.159753</td>\n",
              "      <td>220.795212</td>\n",
              "      <td>1003.075853</td>\n",
              "      <td>1.758302e+05</td>\n",
              "      <td>3.606109e+07</td>\n",
              "      <td>-0.290606</td>\n",
              "      <td>0.033903</td>\n",
              "      <td>-0.000081</td>\n",
              "      <td>-78.938052</td>\n",
              "      <td>-72.846380</td>\n",
              "      <td>14.412924</td>\n",
              "      <td>34.967698</td>\n",
              "      <td>-4.944036</td>\n",
              "      <td>203.250702</td>\n",
              "      <td>1200.905234</td>\n",
              "      <td>1.519142e+05</td>\n",
              "      <td>2.575691e+07</td>\n",
              "      <td>-0.373246</td>\n",
              "      <td>0.026106</td>\n",
              "      <td>-0.000062</td>\n",
              "      <td>-78.945375</td>\n",
              "      <td>-67.105516</td>\n",
              "      <td>13.134436</td>\n",
              "      <td>33.069053</td>\n",
              "      <td>-15.494463</td>\n",
              "      <td>183.633118</td>\n",
              "      <td>1074.034376</td>\n",
              "      <td>1.190633e+05</td>\n",
              "      <td>1.781661e+07</td>\n",
              "      <td>-0.358773</td>\n",
              "      <td>0.045135</td>\n",
              "      <td>-0.000108</td>\n",
              "      <td>-78.924149</td>\n",
              "      <td>-67.067827</td>\n",
              "      <td>10.746138</td>\n",
              "      <td>26.060130</td>\n",
              "      <td>-10.249387</td>\n",
              "      <td>141.513290</td>\n",
              "      <td>666.782529</td>\n",
              "      <td>5.309464e+04</td>\n",
              "      <td>6.203072e+06</td>\n",
              "      <td>-0.306851</td>\n",
              "      <td>-0.001092</td>\n",
              "      <td>0.000003</td>\n",
              "      <td>-77.536999</td>\n",
              "      <td>-64.783463</td>\n",
              "      <td>-45.5867</td>\n",
              "      <td>1</td>\n",
              "      <td>0.281</td>\n",
              "      <td>1.152</td>\n",
              "      <td>90</td>\n",
              "    </tr>\n",
              "    <tr>\n",
              "      <th>4</th>\n",
              "      <td>1124</td>\n",
              "      <td>0.660948</td>\n",
              "      <td>2.360084</td>\n",
              "      <td>-6.804703</td>\n",
              "      <td>5.330927</td>\n",
              "      <td>5.481586</td>\n",
              "      <td>-4.160853</td>\n",
              "      <td>1.101222e+02</td>\n",
              "      <td>-0.033864</td>\n",
              "      <td>-0.567576</td>\n",
              "      <td>0.001234</td>\n",
              "      <td>-84.969286</td>\n",
              "      <td>-84.959510</td>\n",
              "      <td>4.634637</td>\n",
              "      <td>8.107525</td>\n",
              "      <td>-2.622109</td>\n",
              "      <td>37.170177</td>\n",
              "      <td>64.598653</td>\n",
              "      <td>1.202103e+03</td>\n",
              "      <td>3.545471e+04</td>\n",
              "      <td>-0.429236</td>\n",
              "      <td>-0.793184</td>\n",
              "      <td>0.001865</td>\n",
              "      <td>-69.333715</td>\n",
              "      <td>-67.527468</td>\n",
              "      <td>10.243968</td>\n",
              "      <td>21.319854</td>\n",
              "      <td>-2.084535</td>\n",
              "      <td>106.671692</td>\n",
              "      <td>446.699339</td>\n",
              "      <td>2.827915e+04</td>\n",
              "      <td>2.468546e+06</td>\n",
              "      <td>-0.438785</td>\n",
              "      <td>-0.713211</td>\n",
              "      <td>0.001677</td>\n",
              "      <td>-72.170872</td>\n",
              "      <td>-71.247906</td>\n",
              "      <td>11.086555</td>\n",
              "      <td>26.270649</td>\n",
              "      <td>-2.800270</td>\n",
              "      <td>139.818405</td>\n",
              "      <td>678.247892</td>\n",
              "      <td>6.198814e+04</td>\n",
              "      <td>7.271993e+06</td>\n",
              "      <td>-0.383411</td>\n",
              "      <td>-0.617699</td>\n",
              "      <td>0.001452</td>\n",
              "      <td>-74.891133</td>\n",
              "      <td>-74.498916</td>\n",
              "      <td>9.906102</td>\n",
              "      <td>26.865913</td>\n",
              "      <td>-16.543753</td>\n",
              "      <td>143.600189</td>\n",
              "      <td>709.332831</td>\n",
              "      <td>7.183273e+04</td>\n",
              "      <td>9.005039e+06</td>\n",
              "      <td>-0.303771</td>\n",
              "      <td>-0.571549</td>\n",
              "      <td>0.001344</td>\n",
              "      <td>-75.991223</td>\n",
              "      <td>-75.898716</td>\n",
              "      <td>6.896742</td>\n",
              "      <td>21.434627</td>\n",
              "      <td>-10.860540</td>\n",
              "      <td>109.157585</td>\n",
              "      <td>451.382820</td>\n",
              "      <td>3.414365e+04</td>\n",
              "      <td>3.279413e+06</td>\n",
              "      <td>-0.229697</td>\n",
              "      <td>-0.478402</td>\n",
              "      <td>0.001110</td>\n",
              "      <td>-76.666778</td>\n",
              "      <td>-76.526495</td>\n",
              "      <td>-63.8237</td>\n",
              "      <td>1</td>\n",
              "      <td>0.241</td>\n",
              "      <td>0.018</td>\n",
              "      <td>90</td>\n",
              "    </tr>\n",
              "  </tbody>\n",
              "</table>\n",
              "</div>"
            ],
            "text/plain": [
              "   object_id    0_mean      0_std  ...  hostgal_photoz  hostgal_photoz_err  target\n",
              "0        615 -3.254554  83.944735  ...           0.000               0.000      92\n",
              "1        713 -2.720398   7.113509  ...           1.627               0.255      88\n",
              "2        730 -0.048080   1.828872  ...           0.226               0.016      42\n",
              "3        745  1.797523   4.374445  ...           0.281               1.152      90\n",
              "4       1124  0.660948   2.360084  ...           0.241               0.018      90\n",
              "\n",
              "[5 rows x 78 columns]"
            ]
          },
          "metadata": {},
          "execution_count": 21
        }
      ]
    },
    {
      "cell_type": "code",
      "source": [
        "final_features.isnull().values.any()"
      ],
      "metadata": {
        "colab": {
          "base_uri": "https://localhost:8080/"
        },
        "id": "QEHSX3H9wdHP",
        "outputId": "1fa57771-d5cd-4470-8176-eaf0c96524c0"
      },
      "execution_count": 22,
      "outputs": [
        {
          "output_type": "execute_result",
          "data": {
            "text/plain": [
              "False"
            ]
          },
          "metadata": {},
          "execution_count": 22
        }
      ]
    },
    {
      "cell_type": "markdown",
      "source": [
        "There are no nan values in the final features dataframe"
      ],
      "metadata": {
        "id": "OxCKdM-WO7Uq"
      }
    },
    {
      "cell_type": "code",
      "source": [
        "sns.countplot(x=\"target\", data=final_features);"
      ],
      "metadata": {
        "colab": {
          "base_uri": "https://localhost:8080/",
          "height": 279
        },
        "id": "7BtKIFZNOtiP",
        "outputId": "ba605432-d315-4fc2-9741-b8080d92e44d"
      },
      "execution_count": 23,
      "outputs": [
        {
          "output_type": "display_data",
          "data": {
            "image/png": "[encoded data removed]",
            "text/plain": [
              "<Figure size 432x288 with 1 Axes>"
            ]
          },
          "metadata": {
            "needs_background": "light"
          }
        }
      ]
    },
    {
      "cell_type": "markdown",
      "source": [
        "**Figure 4:** List of classes which we are planning to seperate based on lot of features in our datasets. You can see class type `90` has maximum number of entires in our datasets while class type `53` has minimum number of entires."
      ],
      "metadata": {
        "id": "r1deRKVxOynP"
      }
    },
    {
      "cell_type": "markdown",
      "source": [
        "## TASK V Easy classification task: \n",
        "\n",
        "### TASK V.I Build a model and fit it to the data\n",
        "\n",
        "use as target variable **ddf_bool** - this is the kind of survey, i.e. the kind of observing strategy that is implemented. DDF stands for Deep Drilling Field and the observations are much more dense in time. This classification should be achievable.\n"
      ],
      "metadata": {
        "id": "Tjhr6xQWPMZe"
      }
    },
    {
      "cell_type": "markdown",
      "source": [
        "### I will be using decision tree algorithm (Random Forest) in the first go "
      ],
      "metadata": {
        "id": "l1CnKO2RQUMF"
      }
    },
    {
      "cell_type": "code",
      "source": [
        "col_used = final_features.columns[1:-1].to_numpy()\n",
        "col_names = np.delete(col_used, np.where(col_used == 'ddf_bool')) \n",
        "y = np.delete(col_used, np.where(col_used != 'ddf_bool')) "
      ],
      "metadata": {
        "id": "PqzusklXzFrr"
      },
      "execution_count": 24,
      "outputs": []
    },
    {
      "cell_type": "code",
      "source": [
        "X = final_features[col_names]\n",
        "y = final_features[y]\n",
        "le = LabelEncoder()\n",
        "y = le.fit_transform(y)"
      ],
      "metadata": {
        "colab": {
          "base_uri": "https://localhost:8080/"
        },
        "id": "I1VV7tV6Qe5n",
        "outputId": "179e3fd8-03de-42f7-9b50-5583725dc6fd"
      },
      "execution_count": 25,
      "outputs": [
        {
          "output_type": "stream",
          "name": "stderr",
          "text": [
            "/usr/local/lib/python3.7/dist-packages/sklearn/preprocessing/_label.py:115: DataConversionWarning: A column-vector y was passed when a 1d array was expected. Please change the shape of y to (n_samples, ), for example using ravel().\n",
            "  y = column_or_1d(y, warn=True)\n"
          ]
        }
      ]
    },
    {
      "cell_type": "markdown",
      "source": [
        "Splitting into train and test sets"
      ],
      "metadata": {
        "id": "tUGxVnfnS7ai"
      }
    },
    {
      "cell_type": "code",
      "source": [
        "X_train, X_test, y_train, y_test =train_test_split(X, y,test_size=0.35, random_state=10)"
      ],
      "metadata": {
        "id": "XHAroEOyRjIl"
      },
      "execution_count": 26,
      "outputs": []
    },
    {
      "cell_type": "code",
      "source": [
        "rf = RandomForestClassifier(random_state = 0)\n",
        "rf.fit(X_train,y_train)"
      ],
      "metadata": {
        "colab": {
          "base_uri": "https://localhost:8080/"
        },
        "id": "wxbIR-92Rl0k",
        "outputId": "facbd4d8-c68c-441e-fb8f-0556c5aa7a14"
      },
      "execution_count": 27,
      "outputs": [
        {
          "output_type": "execute_result",
          "data": {
            "text/plain": [
              "RandomForestClassifier(random_state=0)"
            ]
          },
          "metadata": {},
          "execution_count": 27
        }
      ]
    },
    {
      "cell_type": "code",
      "source": [
        "print(\"Accuracy score Random Forest train data = {:.3f}\".format(accuracy_score(y_train, rf.predict(X_train))))"
      ],
      "metadata": {
        "colab": {
          "base_uri": "https://localhost:8080/"
        },
        "id": "s2hx6GZGTKPG",
        "outputId": "516a2c98-c7c9-40b2-f679-6d1a8d88fd75"
      },
      "execution_count": 28,
      "outputs": [
        {
          "output_type": "stream",
          "name": "stdout",
          "text": [
            "Accuracy score Random Forest train data = 1.000\n"
          ]
        }
      ]
    },
    {
      "cell_type": "code",
      "source": [
        "print(\"Accuracy score Random Forest test data = {:.3f}\".format(accuracy_score(y_test, rf.predict(X_test))))\n"
      ],
      "metadata": {
        "colab": {
          "base_uri": "https://localhost:8080/"
        },
        "id": "c8AThtIoTOS-",
        "outputId": "c8c0e07e-230d-41f0-9a45-01f3280d11e3"
      },
      "execution_count": 29,
      "outputs": [
        {
          "output_type": "stream",
          "name": "stdout",
          "text": [
            "Accuracy score Random Forest test data = 0.999\n"
          ]
        }
      ]
    },
    {
      "cell_type": "code",
      "source": [
        "data={'feature_names':col_names,'feature_importance':rf.feature_importances_}\n",
        "fi_df = pd.DataFrame(data)\n",
        "fi_df.sort_values(by=['feature_importance'], ascending=False,inplace=True)\n",
        "fi_df[\"cumulative\"] = fi_df.feature_importance.to_numpy().cumsum()\n"
      ],
      "metadata": {
        "id": "G-ImjLISTSpl"
      },
      "execution_count": 30,
      "outputs": []
    },
    {
      "cell_type": "code",
      "source": [
        "fi_df.head(15)"
      ],
      "metadata": {
        "colab": {
          "base_uri": "https://localhost:8080/",
          "height": 520
        },
        "id": "-0rgnDe5Tmpm",
        "outputId": "5a8ffe8f-fb9c-4725-9d1f-d3595f00930f"
      },
      "execution_count": 31,
      "outputs": [
        {
          "output_type": "execute_result",
          "data": {
            "text/html": [
              "<div>\n",
              "<style scoped>\n",
              "    .dataframe tbody tr th:only-of-type {\n",
              "        vertical-align: middle;\n",
              "    }\n",
              "\n",
              "    .dataframe tbody tr th {\n",
              "        vertical-align: top;\n",
              "    }\n",
              "\n",
              "    .dataframe thead th {\n",
              "        text-align: right;\n",
              "    }\n",
              "</style>\n",
              "<table border=\"1\" class=\"dataframe\">\n",
              "  <thead>\n",
              "    <tr style=\"text-align: right;\">\n",
              "      <th></th>\n",
              "      <th>feature_names</th>\n",
              "      <th>feature_importance</th>\n",
              "      <th>cumulative</th>\n",
              "    </tr>\n",
              "  </thead>\n",
              "  <tbody>\n",
              "    <tr>\n",
              "      <th>34</th>\n",
              "      <td>2_ll1</td>\n",
              "      <td>0.161405</td>\n",
              "      <td>0.161405</td>\n",
              "    </tr>\n",
              "    <tr>\n",
              "      <th>10</th>\n",
              "      <td>0_ll1</td>\n",
              "      <td>0.145385</td>\n",
              "      <td>0.306790</td>\n",
              "    </tr>\n",
              "    <tr>\n",
              "      <th>46</th>\n",
              "      <td>3_ll1</td>\n",
              "      <td>0.130392</td>\n",
              "      <td>0.437182</td>\n",
              "    </tr>\n",
              "    <tr>\n",
              "      <th>22</th>\n",
              "      <td>1_ll1</td>\n",
              "      <td>0.117761</td>\n",
              "      <td>0.554943</td>\n",
              "    </tr>\n",
              "    <tr>\n",
              "      <th>11</th>\n",
              "      <td>0_ll2</td>\n",
              "      <td>0.094057</td>\n",
              "      <td>0.649001</td>\n",
              "    </tr>\n",
              "    <tr>\n",
              "      <th>23</th>\n",
              "      <td>1_ll2</td>\n",
              "      <td>0.056974</td>\n",
              "      <td>0.705975</td>\n",
              "    </tr>\n",
              "    <tr>\n",
              "      <th>47</th>\n",
              "      <td>3_ll2</td>\n",
              "      <td>0.049219</td>\n",
              "      <td>0.755193</td>\n",
              "    </tr>\n",
              "    <tr>\n",
              "      <th>35</th>\n",
              "      <td>2_ll2</td>\n",
              "      <td>0.035259</td>\n",
              "      <td>0.790452</td>\n",
              "    </tr>\n",
              "    <tr>\n",
              "      <th>50</th>\n",
              "      <td>4_min</td>\n",
              "      <td>0.031593</td>\n",
              "      <td>0.822045</td>\n",
              "    </tr>\n",
              "    <tr>\n",
              "      <th>62</th>\n",
              "      <td>5_min</td>\n",
              "      <td>0.025309</td>\n",
              "      <td>0.847354</td>\n",
              "    </tr>\n",
              "    <tr>\n",
              "      <th>58</th>\n",
              "      <td>4_ll1</td>\n",
              "      <td>0.023823</td>\n",
              "      <td>0.871177</td>\n",
              "    </tr>\n",
              "    <tr>\n",
              "      <th>59</th>\n",
              "      <td>4_ll2</td>\n",
              "      <td>0.019094</td>\n",
              "      <td>0.890271</td>\n",
              "    </tr>\n",
              "    <tr>\n",
              "      <th>2</th>\n",
              "      <td>0_min</td>\n",
              "      <td>0.016779</td>\n",
              "      <td>0.907050</td>\n",
              "    </tr>\n",
              "    <tr>\n",
              "      <th>38</th>\n",
              "      <td>3_min</td>\n",
              "      <td>0.013194</td>\n",
              "      <td>0.920244</td>\n",
              "    </tr>\n",
              "    <tr>\n",
              "      <th>71</th>\n",
              "      <td>5_ll2</td>\n",
              "      <td>0.011324</td>\n",
              "      <td>0.931568</td>\n",
              "    </tr>\n",
              "  </tbody>\n",
              "</table>\n",
              "</div>"
            ],
            "text/plain": [
              "   feature_names  feature_importance  cumulative\n",
              "34         2_ll1            0.161405    0.161405\n",
              "10         0_ll1            0.145385    0.306790\n",
              "46         3_ll1            0.130392    0.437182\n",
              "22         1_ll1            0.117761    0.554943\n",
              "11         0_ll2            0.094057    0.649001\n",
              "23         1_ll2            0.056974    0.705975\n",
              "47         3_ll2            0.049219    0.755193\n",
              "35         2_ll2            0.035259    0.790452\n",
              "50         4_min            0.031593    0.822045\n",
              "62         5_min            0.025309    0.847354\n",
              "58         4_ll1            0.023823    0.871177\n",
              "59         4_ll2            0.019094    0.890271\n",
              "2          0_min            0.016779    0.907050\n",
              "38         3_min            0.013194    0.920244\n",
              "71         5_ll2            0.011324    0.931568"
            ]
          },
          "metadata": {},
          "execution_count": 31
        }
      ]
    },
    {
      "cell_type": "code",
      "source": [
        "plt.figure(figsize=(6,6))\n",
        "#Plot Searborn bar chart\n",
        "sns.barplot(x=fi_df[fi_df.cumulative <= 0.90]['feature_importance'], y=fi_df[fi_df.cumulative <= 0.90]['feature_names'])\n",
        "#Add chart labels\n",
        "plt.title('FEATURE IMPORTANCE')\n",
        "plt.xlabel('FEATURE IMPORTANCE')\n",
        "plt.ylabel('FEATURE NAMES') ;"
      ],
      "metadata": {
        "colab": {
          "base_uri": "https://localhost:8080/",
          "height": 404
        },
        "id": "w_YaRlk2ToUF",
        "outputId": "62c2500f-1c4a-40ff-f4d1-a1e2dc599aba"
      },
      "execution_count": 32,
      "outputs": [
        {
          "output_type": "display_data",
          "data": {
            "image/png": "[encoded data removed]",
            "text/plain": [
              "<Figure size 432x432 with 1 Axes>"
            ]
          },
          "metadata": {
            "needs_background": "light"
          }
        }
      ]
    },
    {
      "cell_type": "markdown",
      "source": [
        "**Figure 5:** Shows the importance of features in desecnding order, means `2_ll1` is the most important feature to sepeerate ddf_bool 1 from ddf_bool 0."
      ],
      "metadata": {
        "id": "AtjrLn4OPT-6"
      }
    },
    {
      "cell_type": "code",
      "source": [
        "sns.histplot(data=final_features, x=\"2_ll1\", hue=\"ddf_bool\", element=\"step\");"
      ],
      "metadata": {
        "colab": {
          "base_uri": "https://localhost:8080/",
          "height": 280
        },
        "id": "l4daOO9ac4Gg",
        "outputId": "41ffee3c-e6ea-45c5-cd87-109f05a258ca"
      },
      "execution_count": 127,
      "outputs": [
        {
          "output_type": "display_data",
          "data": {
            "image/png": "[encoded data removed]",
            "text/plain": [
              "<Figure size 432x288 with 1 Axes>"
            ]
          },
          "metadata": {
            "needs_background": "light"
          }
        }
      ]
    },
    {
      "cell_type": "markdown",
      "source": [
        "**Figure 6:** It is clear from the above figure also, the distribution of feature value is well seperated between signal and background. thats is why our model is giving us 100 percent accuracy. Not surprising. Bascially ddf 1 are deeper exposure observations as comapre to ddf 0. More data leads to more discrepancy between data and model (since linear fit is not a good fit here, specially with transients). Therefore likelihhod is worse for ddf=1"
      ],
      "metadata": {
        "id": "OVwlP5BsPsW5"
      }
    },
    {
      "cell_type": "markdown",
      "source": [
        "## Lets reduce the number of features used in the model\n",
        "- Use only features upto cumulative importance of 60%\n",
        "- It means these features define 60% variation in our data\n",
        "- Even with this many feature (only 4), we can acheive model accuracy of 100 percent on test dataset"
      ],
      "metadata": {
        "id": "8JkL_pteQjOm"
      }
    },
    {
      "cell_type": "code",
      "source": [
        "col_names = fi_df[fi_df.cumulative <= 0.60]['feature_names'].to_numpy()\n",
        "y = np.delete(col_used, np.where(col_used != 'ddf_bool')) \n",
        "\n",
        "X = final_features[col_names]\n",
        "y = final_features[y]\n",
        "le = LabelEncoder()\n",
        "y = le.fit_transform(y)\n",
        "\n",
        "X_train, X_test, y_train, y_test =train_test_split(X, y,test_size=0.35, random_state=14)\n",
        "rf = RandomForestClassifier(random_state = 0, max_depth=3)\n",
        "rf.fit(X_train,y_train)\n"
      ],
      "metadata": {
        "colab": {
          "base_uri": "https://localhost:8080/"
        },
        "id": "2fhEnQj9Tu-w",
        "outputId": "7554251e-fa76-4dc5-b36a-568e7d2d3cb6"
      },
      "execution_count": 34,
      "outputs": [
        {
          "output_type": "stream",
          "name": "stderr",
          "text": [
            "/usr/local/lib/python3.7/dist-packages/sklearn/preprocessing/_label.py:115: DataConversionWarning: A column-vector y was passed when a 1d array was expected. Please change the shape of y to (n_samples, ), for example using ravel().\n",
            "  y = column_or_1d(y, warn=True)\n"
          ]
        },
        {
          "output_type": "execute_result",
          "data": {
            "text/plain": [
              "RandomForestClassifier(max_depth=3, random_state=0)"
            ]
          },
          "metadata": {},
          "execution_count": 34
        }
      ]
    },
    {
      "cell_type": "code",
      "source": [
        "len(col_names), col_names"
      ],
      "metadata": {
        "colab": {
          "base_uri": "https://localhost:8080/"
        },
        "id": "bIHd70ZpQ1Rm",
        "outputId": "30005e40-b7b0-4190-dfa3-98c3846f3a46"
      },
      "execution_count": 36,
      "outputs": [
        {
          "output_type": "execute_result",
          "data": {
            "text/plain": [
              "(4, array(['2_ll1', '0_ll1', '3_ll1', '1_ll1'], dtype=object))"
            ]
          },
          "metadata": {},
          "execution_count": 36
        }
      ]
    },
    {
      "cell_type": "code",
      "source": [
        "print(\"Accuracy score Random Forest train data = {:.3f}\".format(accuracy_score(y_train, rf.predict(X_train))))"
      ],
      "metadata": {
        "colab": {
          "base_uri": "https://localhost:8080/"
        },
        "id": "lYepq8GJXL6N",
        "outputId": "bbc64e3e-23df-479e-f661-5de0fb093fcf"
      },
      "execution_count": 119,
      "outputs": [
        {
          "output_type": "stream",
          "name": "stdout",
          "text": [
            "Accuracy score Random Forest train data = 1.000\n"
          ]
        }
      ]
    },
    {
      "cell_type": "code",
      "source": [
        "print(\"Accuracy score Random Forest test data = {:.3f}\".format(accuracy_score(y_test, rf.predict(X_test))))\n"
      ],
      "metadata": {
        "colab": {
          "base_uri": "https://localhost:8080/"
        },
        "id": "4bxKcgCiXQD0",
        "outputId": "6e9c182d-aec4-400e-8ad9-f86780bcbb2b"
      },
      "execution_count": 120,
      "outputs": [
        {
          "output_type": "stream",
          "name": "stdout",
          "text": [
            "Accuracy score Random Forest test data = 1.000\n"
          ]
        }
      ]
    },
    {
      "cell_type": "code",
      "source": [
        "cm_rf = confusion_matrix(y_test, rf.predict(X_test))\n",
        "fig,axes = plt.subplots(figsize=(6,6))\n",
        "sns.heatmap(cm_rf,annot=True,cmap='Blues',ax=axes, fmt='.0f',cbar=True)\n",
        "classNames = ['Background','Signal']\n",
        "plt.ylabel('True label')\n",
        "plt.xlabel('Predicted label')\n",
        "tick_marks = np.array([0.5,1.5])\n",
        "plt.xticks(tick_marks, classNames, rotation=0)\n",
        "plt.yticks(tick_marks, classNames);\n",
        "\n"
      ],
      "metadata": {
        "colab": {
          "base_uri": "https://localhost:8080/",
          "height": 388
        },
        "id": "BtzzDb_zXUvV",
        "outputId": "716ee050-d324-4ba8-debe-09cbb3882eb0"
      },
      "execution_count": 121,
      "outputs": [
        {
          "output_type": "display_data",
          "data": {
            "image/png": "[encoded data removed]",
            "text/plain": [
              "<Figure size 432x432 with 2 Axes>"
            ]
          },
          "metadata": {
            "needs_background": "light"
          }
        }
      ]
    },
    {
      "cell_type": "markdown",
      "source": [
        "**Figure 7:** Confusion matrix clearly show the prediction of our model where we only use features accoung for 60% of data variavtion (cumultive importance < 0.60). you can see, there is only one evnet in the test data set which is wrongly identified. Pretty good model"
      ],
      "metadata": {
        "id": "_veoBoOQQNqT"
      }
    },
    {
      "cell_type": "markdown",
      "source": [
        "## TASK VI Harder classification task - mandatory for 661 EC for 461:\n"
      ],
      "metadata": {
        "id": "fhxQj3LXRPtk"
      }
    },
    {
      "cell_type": "markdown",
      "source": [
        "### TASK VI.I Build a model and fit it to the data\n",
        "Use an apprioriate classification method given your features dataset to classify objects predicting the \"target\" according to the **target** variable of the in the mtadata dataframe for both DDF and normal survey separately"
      ],
      "metadata": {
        "id": "b1OwgutYRVmK"
      }
    },
    {
      "cell_type": "markdown",
      "source": [
        "### Lets divide our `final_features` dataset into two different datasets and train them sepeately. It make sense to do so since we have alreadt seen from our previous Task V, that normal survey and deep survey, features show well sepeatred distributions."
      ],
      "metadata": {
        "id": "SFD2Eo0LSHdF"
      }
    },
    {
      "cell_type": "code",
      "source": [
        "ds_final_features = final_features[final_features.ddf_bool == True]\n",
        "ns_final_features = final_features[final_features.ddf_bool == False]\n"
      ],
      "metadata": {
        "id": "Eq_QkVQnSGqO"
      },
      "execution_count": 37,
      "outputs": []
    },
    {
      "cell_type": "code",
      "source": [
        "ds_final_features.shape"
      ],
      "metadata": {
        "colab": {
          "base_uri": "https://localhost:8080/"
        },
        "id": "pV93FkYySnqm",
        "outputId": "495b4db1-9b45-4d29-e9b3-54b1323597c8"
      },
      "execution_count": 38,
      "outputs": [
        {
          "output_type": "execute_result",
          "data": {
            "text/plain": [
              "(2116, 78)"
            ]
          },
          "metadata": {},
          "execution_count": 38
        }
      ]
    },
    {
      "cell_type": "code",
      "source": [
        "ns_final_features.shape"
      ],
      "metadata": {
        "colab": {
          "base_uri": "https://localhost:8080/"
        },
        "id": "slKNe5RJSo2q",
        "outputId": "48b766af-b2d5-42ab-8702-cc6df2de771e"
      },
      "execution_count": 39,
      "outputs": [
        {
          "output_type": "execute_result",
          "data": {
            "text/plain": [
              "(5732, 78)"
            ]
          },
          "metadata": {},
          "execution_count": 39
        }
      ]
    },
    {
      "cell_type": "code",
      "source": [
        "fig,axes = plt.subplots(1,2, figsize=(12,6))\n",
        "sns.countplot(x=\"target\", data=ds_final_features,ax = axes[0]);\n",
        "sns.countplot(x=\"target\", data=ns_final_features,ax = axes[1]);\n",
        "axes[0].set_title('Deep survey target classes distribtuion')\n",
        "axes[1].set_title('Normal survey target classes distribtuion');\n"
      ],
      "metadata": {
        "colab": {
          "base_uri": "https://localhost:8080/",
          "height": 404
        },
        "id": "HN_1sU5gSquD",
        "outputId": "eadce1ac-ae4a-4121-ba78-e0be3be50416"
      },
      "execution_count": 42,
      "outputs": [
        {
          "output_type": "display_data",
          "data": {
            "image/png": "[encoded data removed]",
            "text/plain": [
              "<Figure size 864x432 with 2 Axes>"
            ]
          },
          "metadata": {
            "needs_background": "light"
          }
        }
      ]
    },
    {
      "cell_type": "markdown",
      "source": [
        "## Normal Survey data training"
      ],
      "metadata": {
        "id": "vXIaUZ48TUfO"
      }
    },
    {
      "cell_type": "code",
      "source": [
        "col_names = ns_final_features.columns[1:].to_numpy()\n",
        "col_used = np.delete(col_names, np.where((col_names == 'ddf_bool') | (col_names == 'target'))) \n",
        "y = np.delete(col_names, np.where(col_names != 'target')) "
      ],
      "metadata": {
        "id": "9muLg_y3S_f9"
      },
      "execution_count": 69,
      "outputs": []
    },
    {
      "cell_type": "code",
      "source": [
        "col_used, y"
      ],
      "metadata": {
        "colab": {
          "base_uri": "https://localhost:8080/"
        },
        "id": "mQhVocQ6W-fa",
        "outputId": "4ecda238-682a-4c45-9287-4805bad76810"
      },
      "execution_count": 70,
      "outputs": [
        {
          "output_type": "execute_result",
          "data": {
            "text/plain": [
              "(array(['0_mean', '0_std', '0_min', '0_max', '0_m2', '0_m3', '0_m4',\n",
              "        '0_median', '0_intercept', '0_slope', '0_ll1', '0_ll2', '1_mean',\n",
              "        '1_std', '1_min', '1_max', '1_m2', '1_m3', '1_m4', '1_median',\n",
              "        '1_intercept', '1_slope', '1_ll1', '1_ll2', '2_mean', '2_std',\n",
              "        '2_min', '2_max', '2_m2', '2_m3', '2_m4', '2_median',\n",
              "        '2_intercept', '2_slope', '2_ll1', '2_ll2', '3_mean', '3_std',\n",
              "        '3_min', '3_max', '3_m2', '3_m3', '3_m4', '3_median',\n",
              "        '3_intercept', '3_slope', '3_ll1', '3_ll2', '4_mean', '4_std',\n",
              "        '4_min', '4_max', '4_m2', '4_m3', '4_m4', '4_median',\n",
              "        '4_intercept', '4_slope', '4_ll1', '4_ll2', '5_mean', '5_std',\n",
              "        '5_min', '5_max', '5_m2', '5_m3', '5_m4', '5_median',\n",
              "        '5_intercept', '5_slope', '5_ll1', '5_ll2', 'decl',\n",
              "        'hostgal_photoz', 'hostgal_photoz_err'], dtype=object),\n",
              " array(['target'], dtype=object))"
            ]
          },
          "metadata": {},
          "execution_count": 70
        }
      ]
    },
    {
      "cell_type": "code",
      "source": [
        "X = ns_final_features[col_used]\n",
        "y = ns_final_features[y]\n",
        "le = LabelEncoder()\n",
        "y = le.fit_transform(y)"
      ],
      "metadata": {
        "colab": {
          "base_uri": "https://localhost:8080/"
        },
        "id": "q94cmiZ4XC3M",
        "outputId": "89ce68d8-73ff-4d4e-d397-267a1be929a4"
      },
      "execution_count": 71,
      "outputs": [
        {
          "output_type": "stream",
          "name": "stderr",
          "text": [
            "/usr/local/lib/python3.7/dist-packages/sklearn/preprocessing/_label.py:115: DataConversionWarning: A column-vector y was passed when a 1d array was expected. Please change the shape of y to (n_samples, ), for example using ravel().\n",
            "  y = column_or_1d(y, warn=True)\n"
          ]
        }
      ]
    },
    {
      "cell_type": "code",
      "source": [
        "X_train, X_test, y_train, y_test =train_test_split(X, y,test_size=0.35, random_state=18)\n",
        "rf = RandomForestClassifier(random_state = 0)\n",
        "rf.fit(X_train,y_train)"
      ],
      "metadata": {
        "colab": {
          "base_uri": "https://localhost:8080/"
        },
        "id": "AVtkNPXFX0VW",
        "outputId": "0dfe03fb-56b5-4fbc-9202-ea7e8024c6e5"
      },
      "execution_count": 72,
      "outputs": [
        {
          "output_type": "execute_result",
          "data": {
            "text/plain": [
              "RandomForestClassifier(random_state=0)"
            ]
          },
          "metadata": {},
          "execution_count": 72
        }
      ]
    },
    {
      "cell_type": "code",
      "source": [
        "print(\"Accuracy score Random Forest train data = {:.3f}\".format(accuracy_score(y_train, rf.predict(X_train))))"
      ],
      "metadata": {
        "colab": {
          "base_uri": "https://localhost:8080/"
        },
        "id": "fK-SE9afYA4F",
        "outputId": "13f0625b-0d01-47c5-ed99-532277ce2bd3"
      },
      "execution_count": 73,
      "outputs": [
        {
          "output_type": "stream",
          "name": "stdout",
          "text": [
            "Accuracy score Random Forest train data = 1.000\n"
          ]
        }
      ]
    },
    {
      "cell_type": "code",
      "source": [
        "print(\"Accuracy score Random Forest train data = {:.3f}\".format(accuracy_score(y_test, rf.predict(X_test))))\n"
      ],
      "metadata": {
        "colab": {
          "base_uri": "https://localhost:8080/"
        },
        "id": "p9LXKqekYHhe",
        "outputId": "e5f69dde-b866-4987-e218-e1ebd7d4f70b"
      },
      "execution_count": 74,
      "outputs": [
        {
          "output_type": "stream",
          "name": "stdout",
          "text": [
            "Accuracy score Random Forest train data = 0.708\n"
          ]
        }
      ]
    },
    {
      "cell_type": "code",
      "source": [
        "data={'feature_names':col_used,'feature_importance':rf.feature_importances_}\n",
        "fi_df = pd.DataFrame(data)\n",
        "fi_df.sort_values(by=['feature_importance'], ascending=False,inplace=True)\n",
        "fi_df[\"cumulative\"] = fi_df.feature_importance.to_numpy().cumsum()"
      ],
      "metadata": {
        "id": "R53IFmfZYWc5"
      },
      "execution_count": 76,
      "outputs": []
    },
    {
      "cell_type": "code",
      "source": [
        "fi_df.head()"
      ],
      "metadata": {
        "colab": {
          "base_uri": "https://localhost:8080/",
          "height": 206
        },
        "id": "GgvXA6kJYddv",
        "outputId": "a70cbcba-812e-46ea-a43e-14ca90a1e9c6"
      },
      "execution_count": 77,
      "outputs": [
        {
          "output_type": "execute_result",
          "data": {
            "text/html": [
              "<div>\n",
              "<style scoped>\n",
              "    .dataframe tbody tr th:only-of-type {\n",
              "        vertical-align: middle;\n",
              "    }\n",
              "\n",
              "    .dataframe tbody tr th {\n",
              "        vertical-align: top;\n",
              "    }\n",
              "\n",
              "    .dataframe thead th {\n",
              "        text-align: right;\n",
              "    }\n",
              "</style>\n",
              "<table border=\"1\" class=\"dataframe\">\n",
              "  <thead>\n",
              "    <tr style=\"text-align: right;\">\n",
              "      <th></th>\n",
              "      <th>feature_names</th>\n",
              "      <th>feature_importance</th>\n",
              "      <th>cumulative</th>\n",
              "    </tr>\n",
              "  </thead>\n",
              "  <tbody>\n",
              "    <tr>\n",
              "      <th>73</th>\n",
              "      <td>hostgal_photoz</td>\n",
              "      <td>0.095747</td>\n",
              "      <td>0.095747</td>\n",
              "    </tr>\n",
              "    <tr>\n",
              "      <th>74</th>\n",
              "      <td>hostgal_photoz_err</td>\n",
              "      <td>0.065625</td>\n",
              "      <td>0.161373</td>\n",
              "    </tr>\n",
              "    <tr>\n",
              "      <th>29</th>\n",
              "      <td>2_m3</td>\n",
              "      <td>0.036408</td>\n",
              "      <td>0.197781</td>\n",
              "    </tr>\n",
              "    <tr>\n",
              "      <th>41</th>\n",
              "      <td>3_m3</td>\n",
              "      <td>0.027602</td>\n",
              "      <td>0.225384</td>\n",
              "    </tr>\n",
              "    <tr>\n",
              "      <th>14</th>\n",
              "      <td>1_min</td>\n",
              "      <td>0.025689</td>\n",
              "      <td>0.251073</td>\n",
              "    </tr>\n",
              "  </tbody>\n",
              "</table>\n",
              "</div>"
            ],
            "text/plain": [
              "         feature_names  feature_importance  cumulative\n",
              "73      hostgal_photoz            0.095747    0.095747\n",
              "74  hostgal_photoz_err            0.065625    0.161373\n",
              "29                2_m3            0.036408    0.197781\n",
              "41                3_m3            0.027602    0.225384\n",
              "14               1_min            0.025689    0.251073"
            ]
          },
          "metadata": {},
          "execution_count": 77
        }
      ]
    },
    {
      "cell_type": "code",
      "source": [
        "plt.figure(figsize=(6,6))\n",
        "#Plot Searborn bar chart\n",
        "sns.barplot(x=fi_df[fi_df.cumulative <= 0.60]['feature_importance'], y=fi_df[fi_df.cumulative <= 0.60]['feature_names'])\n",
        "#Add chart labels\n",
        "plt.title('FEATURE IMPORTANCE')\n",
        "plt.xlabel('FEATURE IMPORTANCE')\n",
        "plt.ylabel('FEATURE NAMES') ;"
      ],
      "metadata": {
        "colab": {
          "base_uri": "https://localhost:8080/",
          "height": 404
        },
        "id": "yWuRoRvCYf-5",
        "outputId": "8fea5036-84a0-458a-ee2f-038abaf89d6e"
      },
      "execution_count": 80,
      "outputs": [
        {
          "output_type": "display_data",
          "data": {
            "image/png": "[encoded data removed]",
            "text/plain": [
              "<Figure size 432x432 with 1 Axes>"
            ]
          },
          "metadata": {
            "needs_background": "light"
          }
        }
      ]
    },
    {
      "cell_type": "code",
      "source": [
        "class_name_mapping = dict(zip(le.classes_, le.transform(le.classes_)))\n",
        "print(class_name_mapping)"
      ],
      "metadata": {
        "colab": {
          "base_uri": "https://localhost:8080/"
        },
        "id": "mxZqe3EtZrBT",
        "outputId": "3f4b67db-4fca-48e1-d5bd-cc8c05f6ad0f"
      },
      "execution_count": 88,
      "outputs": [
        {
          "output_type": "stream",
          "name": "stdout",
          "text": [
            "{6: 0, 15: 1, 16: 2, 42: 3, 52: 4, 53: 5, 62: 6, 64: 7, 65: 8, 67: 9, 88: 10, 90: 11, 92: 12, 95: 13}\n"
          ]
        }
      ]
    },
    {
      "cell_type": "code",
      "source": [
        "cm_rf = confusion_matrix(y_test, rf.predict(X_test))\n",
        "fig,axes = plt.subplots(figsize=(8,8))\n",
        "sns.heatmap(cm_rf,annot=True,cmap='YlGn',ax=axes, fmt='.0f',cbar=True);\n",
        "axes.set_xticklabels(class_name_mapping)\n",
        "axes.set_yticklabels(class_name_mapping)\n",
        "plt.ylabel('True label', fontsize=12, weight='bold')\n",
        "plt.xlabel('Predicted label', fontsize=12, weight='bold');\n"
      ],
      "metadata": {
        "colab": {
          "base_uri": "https://localhost:8080/",
          "height": 504
        },
        "id": "xLyJjgbYY6RP",
        "outputId": "5d1630d8-e703-480c-dcf8-05a4bf047c74"
      },
      "execution_count": 99,
      "outputs": [
        {
          "output_type": "display_data",
          "data": {
            "image/png": "[encoded data removed]",
            "text/plain": [
              "<Figure size 576x576 with 2 Axes>"
            ]
          },
          "metadata": {
            "needs_background": "light"
          }
        }
      ]
    },
    {
      "cell_type": "markdown",
      "source": [
        "**Figure 10:** Confusion Matrix,  interesting most of the labels which are misclassififed are misclassfied as class `90`. This kind ofm ake sense since this class is the most dominant class in our dataset."
      ],
      "metadata": {
        "id": "IWkyswxqclMp"
      }
    },
    {
      "cell_type": "markdown",
      "source": [
        "### Here I will use in build method in sklearn for best parameter search."
      ],
      "metadata": {
        "id": "IWQ1dZyFdOae"
      }
    },
    {
      "cell_type": "code",
      "source": [
        "distributions = {'max_depth': [10, 20, None], 'learning_rate': [0.01,0.1,1],\n",
        "                 'max_features': ['sqrt', 'log2'], 'n_estimators': [50,100], \n",
        "                'min_samples_leaf':[int(0.001*len(y_train)), int(0.005*len(y_train)), int(0.05*len(y_train))]}"
      ],
      "metadata": {
        "id": "m1bpGfxBZT6T"
      },
      "execution_count": 102,
      "outputs": []
    },
    {
      "cell_type": "code",
      "source": [
        "distributions"
      ],
      "metadata": {
        "colab": {
          "base_uri": "https://localhost:8080/"
        },
        "id": "W4nsnMjvddO5",
        "outputId": "8e58b77f-980a-4b24-b748-c1bd9db89d1e"
      },
      "execution_count": 103,
      "outputs": [
        {
          "output_type": "execute_result",
          "data": {
            "text/plain": [
              "{'max_depth': [10, 20, None],\n",
              " 'max_features': ['sqrt', 'log2'],\n",
              " 'min_samples_leaf': [3, 18, 186],\n",
              " 'n_estimators': [50, 100]}"
            ]
          },
          "metadata": {},
          "execution_count": 103
        }
      ]
    },
    {
      "cell_type": "code",
      "source": [
        "rf = RandomForestClassifier(random_state=0)\n",
        "clf = RandomizedSearchCV(rf, distributions, random_state=5, n_iter=2, cv=3)\n"
      ],
      "metadata": {
        "id": "X9VPtB7vdqPl"
      },
      "execution_count": 104,
      "outputs": []
    },
    {
      "cell_type": "code",
      "source": [
        "search = clf.fit(X_train, y_train)"
      ],
      "metadata": {
        "id": "yETCA5LFeEUK"
      },
      "execution_count": 105,
      "outputs": []
    },
    {
      "cell_type": "code",
      "source": [
        "search.best_estimator_"
      ],
      "metadata": {
        "colab": {
          "base_uri": "https://localhost:8080/"
        },
        "id": "rDR0F3HWeKhs",
        "outputId": "65b4c313-162e-443c-8283-471b05ef2ac8"
      },
      "execution_count": 106,
      "outputs": [
        {
          "output_type": "execute_result",
          "data": {
            "text/plain": [
              "RandomForestClassifier(max_features='log2', min_samples_leaf=3, random_state=0)"
            ]
          },
          "metadata": {},
          "execution_count": 106
        }
      ]
    },
    {
      "cell_type": "code",
      "source": [
        "rf_optimized = RandomForestClassifier(random_state=0, **search.best_params_)\n",
        "print(rf_optimized)\n",
        "\n"
      ],
      "metadata": {
        "colab": {
          "base_uri": "https://localhost:8080/"
        },
        "id": "CbTT_flQeRXp",
        "outputId": "4f209415-7ac5-4c77-855b-909bd5106b81"
      },
      "execution_count": 107,
      "outputs": [
        {
          "output_type": "stream",
          "name": "stdout",
          "text": [
            "RandomForestClassifier(max_features='log2', min_samples_leaf=3, random_state=0)\n"
          ]
        }
      ]
    },
    {
      "cell_type": "code",
      "source": [
        "rf_optimized.fit(X_train,y_train)"
      ],
      "metadata": {
        "colab": {
          "base_uri": "https://localhost:8080/"
        },
        "id": "m0YkOblUeUuk",
        "outputId": "b88b5c9f-a996-45c8-e8bb-f96047890cb8"
      },
      "execution_count": 108,
      "outputs": [
        {
          "output_type": "execute_result",
          "data": {
            "text/plain": [
              "RandomForestClassifier(max_features='log2', min_samples_leaf=3, random_state=0)"
            ]
          },
          "metadata": {},
          "execution_count": 108
        }
      ]
    },
    {
      "cell_type": "code",
      "source": [
        "print(\"Accuracy score Random Forest train data = {:.2f}\".format(accuracy_score(y_train, rf_optimized.predict(X_train))))\n",
        "print(\"Accuracy score Random Forest test data = {:.2f}\".format(accuracy_score(y_test, rf_optimized.predict(X_test))))"
      ],
      "metadata": {
        "colab": {
          "base_uri": "https://localhost:8080/"
        },
        "id": "ga9z3QNFeW_-",
        "outputId": "80877163-494c-4d85-a8c0-de25fbd9fe48"
      },
      "execution_count": 109,
      "outputs": [
        {
          "output_type": "stream",
          "name": "stdout",
          "text": [
            "Accuracy score Random Forest train data = 0.96\n",
            "Accuracy score Random Forest test data = 0.70\n"
          ]
        }
      ]
    },
    {
      "cell_type": "markdown",
      "source": [
        "## Deep Survey data training"
      ],
      "metadata": {
        "id": "jL-Um_6sfIPf"
      }
    },
    {
      "cell_type": "code",
      "source": [
        "col_names = ds_final_features.columns[1:].to_numpy()\n",
        "col_used = np.delete(col_names, np.where((col_names == 'ddf_bool') | (col_names == 'target'))) \n",
        "y = np.delete(col_names, np.where(col_names != 'target')) \n",
        "\n",
        "X = ds_final_features[col_used]\n",
        "y = ds_final_features[y]\n",
        "le = LabelEncoder()\n",
        "y = le.fit_transform(y)\n",
        "\n",
        "X_train, X_test, y_train, y_test =train_test_split(X, y,test_size=0.35, random_state=22)\n",
        "rf = RandomForestClassifier(random_state = 0)\n",
        "rf.fit(X_train,y_train)\n",
        "\n",
        "print(\"Accuracy score Random Forest train data = {:.3f}\".format(accuracy_score(y_train, rf.predict(X_train))))\n",
        "print(\"Accuracy score Random Forest test data = {:.3f}\".format(accuracy_score(y_test, rf.predict(X_test))))"
      ],
      "metadata": {
        "colab": {
          "base_uri": "https://localhost:8080/"
        },
        "id": "ikSDYF-meaPp",
        "outputId": "950f15e2-9b2f-465f-9f79-3ad7a3fa4f12"
      },
      "execution_count": 112,
      "outputs": [
        {
          "output_type": "stream",
          "name": "stderr",
          "text": [
            "/usr/local/lib/python3.7/dist-packages/sklearn/preprocessing/_label.py:115: DataConversionWarning: A column-vector y was passed when a 1d array was expected. Please change the shape of y to (n_samples, ), for example using ravel().\n",
            "  y = column_or_1d(y, warn=True)\n"
          ]
        },
        {
          "output_type": "stream",
          "name": "stdout",
          "text": [
            "Accuracy score Random Forest train data = 1.000\n",
            "Accuracy score Random Forest test data = 0.808\n"
          ]
        }
      ]
    },
    {
      "cell_type": "markdown",
      "source": [
        "Model trained on deep survey data is more accuarate as compared to normal survey specially for test data"
      ],
      "metadata": {
        "id": "YzFhvt6Bfv19"
      }
    },
    {
      "cell_type": "markdown",
      "source": [
        "## Standardize the datset and again train the model"
      ],
      "metadata": {
        "id": "DEmrdoavew0V"
      }
    },
    {
      "cell_type": "code",
      "source": [
        "col_names = ns_final_features.columns[1:].to_numpy()\n",
        "col_used = np.delete(col_names, np.where((col_names == 'ddf_bool') | (col_names == 'target'))) \n",
        "y = np.delete(col_names, np.where(col_names != 'target')) \n",
        "\n",
        "X = ns_final_features[col_used]\n",
        "y = ns_final_features[y]\n",
        "le = LabelEncoder()\n",
        "y = le.fit_transform(y)\n",
        "\n",
        "X_train, X_test, y_train, y_test =train_test_split(X, y,test_size=0.35, random_state=22)\n",
        "rf = RandomForestClassifier(random_state = 0)\n",
        "from sklearn.pipeline import make_pipeline\n",
        "pipe = make_pipeline(preprocessing.StandardScaler(), rf)\n",
        "pipe.fit(X_train,y_train)\n",
        "\n",
        "print(\"Accuracy score Random Forest train data = {:.3f}\".format(accuracy_score(y_train, pipe.predict(X_train))))\n",
        "print(\"Accuracy score Random Forest test data = {:.3f}\".format(accuracy_score(y_test, pipe.predict(X_test))))"
      ],
      "metadata": {
        "colab": {
          "base_uri": "https://localhost:8080/"
        },
        "id": "gSH2UEAde0Vn",
        "outputId": "30843100-c63b-456b-db67-7b7842c84846"
      },
      "execution_count": 116,
      "outputs": [
        {
          "output_type": "stream",
          "name": "stderr",
          "text": [
            "/usr/local/lib/python3.7/dist-packages/sklearn/preprocessing/_label.py:115: DataConversionWarning: A column-vector y was passed when a 1d array was expected. Please change the shape of y to (n_samples, ), for example using ravel().\n",
            "  y = column_or_1d(y, warn=True)\n"
          ]
        },
        {
          "output_type": "stream",
          "name": "stdout",
          "text": [
            "Accuracy score Random Forest train data = 1.000\n",
            "Accuracy score Random Forest test data = 0.693\n"
          ]
        }
      ]
    },
    {
      "cell_type": "code",
      "source": [
        ""
      ],
      "metadata": {
        "id": "SLEwR3HghrUR"
      },
      "execution_count": null,
      "outputs": []
    },
    {
      "cell_type": "markdown",
      "source": [
        "# EC: try to visualize the features. This is a high dimensional parameter space. you can for example try 2D t-SNE projection of your feature space and visualize it. \n",
        "If you are lucky, this will be a pretty plot!\n",
        "a great model to **Visualize** structure in data is  t-SNE. Any other option you come up with is ok! You can choose to use the code below or to not to, there will be no penalty."
      ],
      "metadata": {
        "id": "QBqKTGYZh8ot"
      }
    },
    {
      "cell_type": "code",
      "source": [
        "scaler = preprocessing.StandardScaler().fit(X_train)"
      ],
      "metadata": {
        "id": "oVdPG0uNiA5S"
      },
      "execution_count": 120,
      "outputs": []
    },
    {
      "cell_type": "code",
      "source": [
        "X_scaled = scaler.transform(X_train)"
      ],
      "metadata": {
        "id": "TufQFAeZiDr9"
      },
      "execution_count": 121,
      "outputs": []
    },
    {
      "cell_type": "code",
      "source": [
        "X_scaled.shape"
      ],
      "metadata": {
        "colab": {
          "base_uri": "https://localhost:8080/"
        },
        "id": "Fd00Gg1FiOM3",
        "outputId": "17974c61-3c4a-45d6-95de-e1daf845d65e"
      },
      "execution_count": 123,
      "outputs": [
        {
          "output_type": "execute_result",
          "data": {
            "text/plain": [
              "(3725, 75)"
            ]
          },
          "metadata": {},
          "execution_count": 123
        }
      ]
    },
    {
      "cell_type": "code",
      "source": [
        "from sklearn.manifold import TSNE"
      ],
      "metadata": {
        "id": "8xNVEBROiS_m"
      },
      "execution_count": 125,
      "outputs": []
    },
    {
      "cell_type": "code",
      "source": [
        "X_embedded = TSNE(n_components=2, random_state=345).fit_transform(X_scaled)\n",
        "X_embedded.shape\n",
        "plt.figure(figsize=(5,5))\n",
        "plt.scatter(X_embedded[:,0], X_embedded[:,1])\n",
        "plt.axis('off')\n",
        "plt.show()"
      ],
      "metadata": {
        "colab": {
          "base_uri": "https://localhost:8080/",
          "height": 372
        },
        "id": "61G4h9neiWvK",
        "outputId": "21c023f8-4f8b-4f3b-fb13-ecd2ea90233f"
      },
      "execution_count": 127,
      "outputs": [
        {
          "output_type": "stream",
          "name": "stderr",
          "text": [
            "/usr/local/lib/python3.7/dist-packages/sklearn/manifold/_t_sne.py:783: FutureWarning: The default initialization in TSNE will change from 'random' to 'pca' in 1.2.\n",
            "  FutureWarning,\n",
            "/usr/local/lib/python3.7/dist-packages/sklearn/manifold/_t_sne.py:793: FutureWarning: The default learning rate in TSNE will change from 200.0 to 'auto' in 1.2.\n",
            "  FutureWarning,\n"
          ]
        },
        {
          "output_type": "display_data",
          "data": {
            "image/png": "[encoded data removed]",
            "text/plain": [
              "<Figure size 360x360 with 1 Axes>"
            ]
          },
          "metadata": {
            "needs_background": "light"
          }
        }
      ]
    },
    {
      "cell_type": "code",
      "source": [
        "flip_mapping = dict((v,k) for k,v in class_name_mapping.items())\n",
        "df_tsne = pd.DataFrame()\n",
        "df_tsne['Axis one'] = X_embedded[:,0]\n",
        "df_tsne['Axis two'] = X_embedded[:,1]\n",
        "df_tsne['labels'] = pd.Series(y_train).map(flip_mapping)\n",
        "\n",
        "plt.figure(figsize=(8,8))\n",
        "sns.scatterplot(\n",
        "    x=\"Axis two\", y=\"Axis one\",\n",
        "    hue='labels',\n",
        "    data=df_tsne,\n",
        "    palette=sns.color_palette(\"tab10\",14),\n",
        "    legend=\"full\",\n",
        "    alpha=1.0\n",
        ");"
      ],
      "metadata": {
        "colab": {
          "base_uri": "https://localhost:8080/",
          "height": 497
        },
        "id": "C6deWgo4ib_z",
        "outputId": "8dcb9ff1-366b-451b-bf53-4b02756fec07"
      },
      "execution_count": 166,
      "outputs": [
        {
          "output_type": "display_data",
          "data": {
            "image/png": "[encoded data removed]",
            "text/plain": [
              "<Figure size 576x576 with 1 Axes>"
            ]
          },
          "metadata": {
            "needs_background": "light"
          }
        }
      ]
    },
    {
      "cell_type": "code",
      "source": [
        ""
      ],
      "metadata": {
        "id": "3c3NjvFzsBwd"
      },
      "execution_count": null,
      "outputs": []
    }
  ]
}