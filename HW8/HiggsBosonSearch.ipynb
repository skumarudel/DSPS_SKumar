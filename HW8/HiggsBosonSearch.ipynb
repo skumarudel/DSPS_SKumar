{
  "nbformat": 4,
  "nbformat_minor": 0,
  "metadata": {
    "colab": {
      "name": "HiggsBosonSearch.ipynb",
      "provenance": [],
      "authorship_tag": "ABX9TyMUxnyXzlHaaNjJixWYLniQ",
      "include_colab_link": true
    },
    "kernelspec": {
      "name": "python3",
      "display_name": "Python 3"
    },
    "language_info": {
      "name": "python"
    }
  },
  "cells": [
    {
      "cell_type": "markdown",
      "metadata": {
        "id": "view-in-github",
        "colab_type": "text"
      },
      "source": [
        "<a href=\"https://colab.research.google.com/github/skumarudel/DSPS_SKumar/blob/master/HW8/HiggsBosonSearch.ipynb\" target=\"_parent\"><img src=\"https://colab.research.google.com/assets/colab-badge.svg\" alt=\"Open In Colab\"/></a>"
      ]
    },
    {
      "cell_type": "code",
      "metadata": {
        "colab": {
          "base_uri": "https://localhost:8080/"
        },
        "id": "v1_fD36hA8Gy",
        "outputId": "ada27ebd-5194-415c-8d96-d8aa603437a4"
      },
      "source": [
        "from google.colab import drive\n",
        "drive.mount(\"/content/drive\")"
      ],
      "execution_count": 1,
      "outputs": [
        {
          "output_type": "stream",
          "name": "stdout",
          "text": [
            "Mounted at /content/drive\n"
          ]
        }
      ]
    },
    {
      "cell_type": "code",
      "metadata": {
        "colab": {
          "base_uri": "https://localhost:8080/"
        },
        "id": "lueGL7rQBFvk",
        "outputId": "42f25dbe-cabd-4d03-d88d-4c026e829959"
      },
      "source": [
        "cd \"/content/drive/MyDrive/KaggleStuff/\"\n",
        "#!mkdir HiggsBoson\n",
        "#cd \"/content/drive/MyDrive/KaggleStuff/HiggsBoson\"\n"
      ],
      "execution_count": 3,
      "outputs": [
        {
          "output_type": "stream",
          "name": "stdout",
          "text": [
            "/content/drive/MyDrive/KaggleStuff\n"
          ]
        }
      ]
    },
    {
      "cell_type": "code",
      "metadata": {
        "id": "ryMdqeeSBl3J"
      },
      "source": [
        "!mkdir HiggsBoson"
      ],
      "execution_count": 11,
      "outputs": []
    },
    {
      "cell_type": "code",
      "metadata": {
        "colab": {
          "base_uri": "https://localhost:8080/"
        },
        "id": "Ekb1n3nYB2IS",
        "outputId": "7503a1b7-7d29-4c4d-a912-aeec0c1258d4"
      },
      "source": [
        "cd \"/content/drive/MyDrive/KaggleStuff/HiggsBoson\""
      ],
      "execution_count": 13,
      "outputs": [
        {
          "output_type": "stream",
          "name": "stdout",
          "text": [
            "/content/drive/MyDrive/KaggleStuff/HiggsBoson\n"
          ]
        }
      ]
    },
    {
      "cell_type": "code",
      "metadata": {
        "colab": {
          "base_uri": "https://localhost:8080/"
        },
        "id": "XSjdXDhUB6oC",
        "outputId": "e9301f69-734a-4cbb-f4bb-46d362264dcd"
      },
      "source": [
        "#!mkdir .kaggle \n",
        "!mv kaggle.json .kaggle/\n",
        "!chmod 600 .kaggle/kaggle.json\n",
        "!ls .kaggle"
      ],
      "execution_count": 26,
      "outputs": [
        {
          "output_type": "stream",
          "name": "stdout",
          "text": [
            "kaggle.json\n"
          ]
        }
      ]
    },
    {
      "cell_type": "code",
      "metadata": {
        "id": "0426fYoXC3pp"
      },
      "source": [
        "import json\n",
        "envs = json.load(open(\".kaggle/kaggle.json\", \"r\"))\n",
        "import os\n",
        "os.environ[\"KAGGLE_USERNAME\"] = envs[\"username\"]\n",
        "os.environ[\"KAGGLE_KEY\"] = envs[\"key\"]"
      ],
      "execution_count": 27,
      "outputs": []
    },
    {
      "cell_type": "code",
      "metadata": {
        "colab": {
          "base_uri": "https://localhost:8080/"
        },
        "id": "twn00emaDCf0",
        "outputId": "0119707c-eba0-4e4d-b863-fb19f948f098"
      },
      "source": [
        "!pip install kaggle"
      ],
      "execution_count": 28,
      "outputs": [
        {
          "output_type": "stream",
          "name": "stdout",
          "text": [
            "Requirement already satisfied: kaggle in /usr/local/lib/python3.7/dist-packages (1.5.12)\n",
            "Requirement already satisfied: requests in /usr/local/lib/python3.7/dist-packages (from kaggle) (2.23.0)\n",
            "Requirement already satisfied: urllib3 in /usr/local/lib/python3.7/dist-packages (from kaggle) (1.24.3)\n",
            "Requirement already satisfied: tqdm in /usr/local/lib/python3.7/dist-packages (from kaggle) (4.62.3)\n",
            "Requirement already satisfied: six>=1.10 in /usr/local/lib/python3.7/dist-packages (from kaggle) (1.15.0)\n",
            "Requirement already satisfied: certifi in /usr/local/lib/python3.7/dist-packages (from kaggle) (2021.10.8)\n",
            "Requirement already satisfied: python-slugify in /usr/local/lib/python3.7/dist-packages (from kaggle) (5.0.2)\n",
            "Requirement already satisfied: python-dateutil in /usr/local/lib/python3.7/dist-packages (from kaggle) (2.8.2)\n",
            "Requirement already satisfied: text-unidecode>=1.3 in /usr/local/lib/python3.7/dist-packages (from python-slugify->kaggle) (1.3)\n",
            "Requirement already satisfied: idna<3,>=2.5 in /usr/local/lib/python3.7/dist-packages (from requests->kaggle) (2.10)\n",
            "Requirement already satisfied: chardet<4,>=3.0.2 in /usr/local/lib/python3.7/dist-packages (from requests->kaggle) (3.0.4)\n"
          ]
        }
      ]
    },
    {
      "cell_type": "code",
      "metadata": {
        "colab": {
          "base_uri": "https://localhost:8080/"
        },
        "id": "ydMj1zLnDEkR",
        "outputId": "4469ad90-6126-4677-e8b9-00cbef75164a"
      },
      "source": [
        "!kaggle competitions download -c higgs-boson"
      ],
      "execution_count": 29,
      "outputs": [
        {
          "output_type": "stream",
          "name": "stdout",
          "text": [
            "Warning: Looks like you're using an outdated API Version, please consider updating (server 1.5.12 / client 1.5.4)\n",
            "Downloading training.zip to /content/drive/My Drive/KaggleStuff/HiggsBoson\n",
            " 53% 9.00M/16.9M [00:00<00:00, 35.4MB/s]\n",
            "100% 16.9M/16.9M [00:00<00:00, 48.4MB/s]\n",
            "Downloading random_submission.zip to /content/drive/My Drive/KaggleStuff/HiggsBoson\n",
            "  0% 0.00/2.58M [00:00<?, ?B/s]\n",
            "100% 2.58M/2.58M [00:00<00:00, 42.6MB/s]\n",
            "Downloading test.zip to /content/drive/My Drive/KaggleStuff/HiggsBoson\n",
            " 78% 27.0M/34.8M [00:00<00:00, 69.5MB/s]\n",
            "100% 34.8M/34.8M [00:00<00:00, 87.7MB/s]\n",
            "Downloading HiggsBosonCompetition_AMSMetric_rev1.py to /content/drive/My Drive/KaggleStuff/HiggsBoson\n",
            "  0% 0.00/3.15k [00:00<?, ?B/s]\n",
            "100% 3.15k/3.15k [00:00<00:00, 431kB/s]\n"
          ]
        }
      ]
    },
    {
      "cell_type": "code",
      "metadata": {
        "colab": {
          "base_uri": "https://localhost:8080/"
        },
        "id": "QElB_e14DINY",
        "outputId": "bb984363-9c9f-48d0-d12f-088100600dad"
      },
      "source": [
        "!ls"
      ],
      "execution_count": 30,
      "outputs": [
        {
          "output_type": "stream",
          "name": "stdout",
          "text": [
            "HiggsBosonCompetition_AMSMetric_rev1.py  test.zip\n",
            "random_submission.zip\t\t\t training.zip\n"
          ]
        }
      ]
    },
    {
      "cell_type": "code",
      "metadata": {
        "id": "7YC6FRC_DsEZ"
      },
      "source": [
        "import pandas as pd\n",
        "import json\n",
        "import os\n",
        "import pylab as pl\n",
        "import pprint\n",
        "from sklearn.model_selection import train_test_split \n",
        "from sklearn.ensemble import RandomForestClassifier\n",
        "from sklearn.ensemble import GradientBoostingClassifier\n",
        "from sklearn.metrics import classification_report, roc_auc_score, accuracy_score, confusion_matrix\n",
        "from sklearn.preprocessing import LabelEncoder\n",
        "import matplotlib.pyplot as plt\n",
        "%matplotlib inline"
      ],
      "execution_count": 48,
      "outputs": []
    },
    {
      "cell_type": "code",
      "metadata": {
        "colab": {
          "base_uri": "https://localhost:8080/"
        },
        "id": "yK51PtD5D249",
        "outputId": "68bcaf7f-50be-4a6a-82a5-9dd7265d14ac"
      },
      "source": [
        "!ls"
      ],
      "execution_count": 42,
      "outputs": [
        {
          "output_type": "stream",
          "name": "stdout",
          "text": [
            "HiggsBosonCompetition_AMSMetric_rev1.py  test.zip\n",
            "random_submission.zip\t\t\t training.zip\n"
          ]
        }
      ]
    },
    {
      "cell_type": "code",
      "metadata": {
        "id": "mDUsp4hLD4W-"
      },
      "source": [
        "df = pd.read_csv('training.zip', compression='zip')"
      ],
      "execution_count": 43,
      "outputs": []
    },
    {
      "cell_type": "code",
      "metadata": {
        "colab": {
          "base_uri": "https://localhost:8080/",
          "height": 226
        },
        "id": "WcnZ4O_mEbgI",
        "outputId": "e2433b0a-32a8-4580-873c-9bddb45c6bd5"
      },
      "source": [
        "df.head()"
      ],
      "execution_count": 44,
      "outputs": [
        {
          "output_type": "execute_result",
          "data": {
            "text/html": [
              "<div>\n",
              "<style scoped>\n",
              "    .dataframe tbody tr th:only-of-type {\n",
              "        vertical-align: middle;\n",
              "    }\n",
              "\n",
              "    .dataframe tbody tr th {\n",
              "        vertical-align: top;\n",
              "    }\n",
              "\n",
              "    .dataframe thead th {\n",
              "        text-align: right;\n",
              "    }\n",
              "</style>\n",
              "<table border=\"1\" class=\"dataframe\">\n",
              "  <thead>\n",
              "    <tr style=\"text-align: right;\">\n",
              "      <th></th>\n",
              "      <th>EventId</th>\n",
              "      <th>DER_mass_MMC</th>\n",
              "      <th>DER_mass_transverse_met_lep</th>\n",
              "      <th>DER_mass_vis</th>\n",
              "      <th>DER_pt_h</th>\n",
              "      <th>DER_deltaeta_jet_jet</th>\n",
              "      <th>DER_mass_jet_jet</th>\n",
              "      <th>DER_prodeta_jet_jet</th>\n",
              "      <th>DER_deltar_tau_lep</th>\n",
              "      <th>DER_pt_tot</th>\n",
              "      <th>DER_sum_pt</th>\n",
              "      <th>DER_pt_ratio_lep_tau</th>\n",
              "      <th>DER_met_phi_centrality</th>\n",
              "      <th>DER_lep_eta_centrality</th>\n",
              "      <th>PRI_tau_pt</th>\n",
              "      <th>PRI_tau_eta</th>\n",
              "      <th>PRI_tau_phi</th>\n",
              "      <th>PRI_lep_pt</th>\n",
              "      <th>PRI_lep_eta</th>\n",
              "      <th>PRI_lep_phi</th>\n",
              "      <th>PRI_met</th>\n",
              "      <th>PRI_met_phi</th>\n",
              "      <th>PRI_met_sumet</th>\n",
              "      <th>PRI_jet_num</th>\n",
              "      <th>PRI_jet_leading_pt</th>\n",
              "      <th>PRI_jet_leading_eta</th>\n",
              "      <th>PRI_jet_leading_phi</th>\n",
              "      <th>PRI_jet_subleading_pt</th>\n",
              "      <th>PRI_jet_subleading_eta</th>\n",
              "      <th>PRI_jet_subleading_phi</th>\n",
              "      <th>PRI_jet_all_pt</th>\n",
              "      <th>Weight</th>\n",
              "      <th>Label</th>\n",
              "    </tr>\n",
              "  </thead>\n",
              "  <tbody>\n",
              "    <tr>\n",
              "      <th>0</th>\n",
              "      <td>100000</td>\n",
              "      <td>138.470</td>\n",
              "      <td>51.655</td>\n",
              "      <td>97.827</td>\n",
              "      <td>27.980</td>\n",
              "      <td>0.91</td>\n",
              "      <td>124.711</td>\n",
              "      <td>2.666</td>\n",
              "      <td>3.064</td>\n",
              "      <td>41.928</td>\n",
              "      <td>197.760</td>\n",
              "      <td>1.582</td>\n",
              "      <td>1.396</td>\n",
              "      <td>0.2</td>\n",
              "      <td>32.638</td>\n",
              "      <td>1.017</td>\n",
              "      <td>0.381</td>\n",
              "      <td>51.626</td>\n",
              "      <td>2.273</td>\n",
              "      <td>-2.414</td>\n",
              "      <td>16.824</td>\n",
              "      <td>-0.277</td>\n",
              "      <td>258.733</td>\n",
              "      <td>2</td>\n",
              "      <td>67.435</td>\n",
              "      <td>2.150</td>\n",
              "      <td>0.444</td>\n",
              "      <td>46.062</td>\n",
              "      <td>1.24</td>\n",
              "      <td>-2.475</td>\n",
              "      <td>113.497</td>\n",
              "      <td>0.002653</td>\n",
              "      <td>s</td>\n",
              "    </tr>\n",
              "    <tr>\n",
              "      <th>1</th>\n",
              "      <td>100001</td>\n",
              "      <td>160.937</td>\n",
              "      <td>68.768</td>\n",
              "      <td>103.235</td>\n",
              "      <td>48.146</td>\n",
              "      <td>-999.00</td>\n",
              "      <td>-999.000</td>\n",
              "      <td>-999.000</td>\n",
              "      <td>3.473</td>\n",
              "      <td>2.078</td>\n",
              "      <td>125.157</td>\n",
              "      <td>0.879</td>\n",
              "      <td>1.414</td>\n",
              "      <td>-999.0</td>\n",
              "      <td>42.014</td>\n",
              "      <td>2.039</td>\n",
              "      <td>-3.011</td>\n",
              "      <td>36.918</td>\n",
              "      <td>0.501</td>\n",
              "      <td>0.103</td>\n",
              "      <td>44.704</td>\n",
              "      <td>-1.916</td>\n",
              "      <td>164.546</td>\n",
              "      <td>1</td>\n",
              "      <td>46.226</td>\n",
              "      <td>0.725</td>\n",
              "      <td>1.158</td>\n",
              "      <td>-999.000</td>\n",
              "      <td>-999.00</td>\n",
              "      <td>-999.000</td>\n",
              "      <td>46.226</td>\n",
              "      <td>2.233584</td>\n",
              "      <td>b</td>\n",
              "    </tr>\n",
              "    <tr>\n",
              "      <th>2</th>\n",
              "      <td>100002</td>\n",
              "      <td>-999.000</td>\n",
              "      <td>162.172</td>\n",
              "      <td>125.953</td>\n",
              "      <td>35.635</td>\n",
              "      <td>-999.00</td>\n",
              "      <td>-999.000</td>\n",
              "      <td>-999.000</td>\n",
              "      <td>3.148</td>\n",
              "      <td>9.336</td>\n",
              "      <td>197.814</td>\n",
              "      <td>3.776</td>\n",
              "      <td>1.414</td>\n",
              "      <td>-999.0</td>\n",
              "      <td>32.154</td>\n",
              "      <td>-0.705</td>\n",
              "      <td>-2.093</td>\n",
              "      <td>121.409</td>\n",
              "      <td>-0.953</td>\n",
              "      <td>1.052</td>\n",
              "      <td>54.283</td>\n",
              "      <td>-2.186</td>\n",
              "      <td>260.414</td>\n",
              "      <td>1</td>\n",
              "      <td>44.251</td>\n",
              "      <td>2.053</td>\n",
              "      <td>-2.028</td>\n",
              "      <td>-999.000</td>\n",
              "      <td>-999.00</td>\n",
              "      <td>-999.000</td>\n",
              "      <td>44.251</td>\n",
              "      <td>2.347389</td>\n",
              "      <td>b</td>\n",
              "    </tr>\n",
              "    <tr>\n",
              "      <th>3</th>\n",
              "      <td>100003</td>\n",
              "      <td>143.905</td>\n",
              "      <td>81.417</td>\n",
              "      <td>80.943</td>\n",
              "      <td>0.414</td>\n",
              "      <td>-999.00</td>\n",
              "      <td>-999.000</td>\n",
              "      <td>-999.000</td>\n",
              "      <td>3.310</td>\n",
              "      <td>0.414</td>\n",
              "      <td>75.968</td>\n",
              "      <td>2.354</td>\n",
              "      <td>-1.285</td>\n",
              "      <td>-999.0</td>\n",
              "      <td>22.647</td>\n",
              "      <td>-1.655</td>\n",
              "      <td>0.010</td>\n",
              "      <td>53.321</td>\n",
              "      <td>-0.522</td>\n",
              "      <td>-3.100</td>\n",
              "      <td>31.082</td>\n",
              "      <td>0.060</td>\n",
              "      <td>86.062</td>\n",
              "      <td>0</td>\n",
              "      <td>-999.000</td>\n",
              "      <td>-999.000</td>\n",
              "      <td>-999.000</td>\n",
              "      <td>-999.000</td>\n",
              "      <td>-999.00</td>\n",
              "      <td>-999.000</td>\n",
              "      <td>-0.000</td>\n",
              "      <td>5.446378</td>\n",
              "      <td>b</td>\n",
              "    </tr>\n",
              "    <tr>\n",
              "      <th>4</th>\n",
              "      <td>100004</td>\n",
              "      <td>175.864</td>\n",
              "      <td>16.915</td>\n",
              "      <td>134.805</td>\n",
              "      <td>16.405</td>\n",
              "      <td>-999.00</td>\n",
              "      <td>-999.000</td>\n",
              "      <td>-999.000</td>\n",
              "      <td>3.891</td>\n",
              "      <td>16.405</td>\n",
              "      <td>57.983</td>\n",
              "      <td>1.056</td>\n",
              "      <td>-1.385</td>\n",
              "      <td>-999.0</td>\n",
              "      <td>28.209</td>\n",
              "      <td>-2.197</td>\n",
              "      <td>-2.231</td>\n",
              "      <td>29.774</td>\n",
              "      <td>0.798</td>\n",
              "      <td>1.569</td>\n",
              "      <td>2.723</td>\n",
              "      <td>-0.871</td>\n",
              "      <td>53.131</td>\n",
              "      <td>0</td>\n",
              "      <td>-999.000</td>\n",
              "      <td>-999.000</td>\n",
              "      <td>-999.000</td>\n",
              "      <td>-999.000</td>\n",
              "      <td>-999.00</td>\n",
              "      <td>-999.000</td>\n",
              "      <td>0.000</td>\n",
              "      <td>6.245333</td>\n",
              "      <td>b</td>\n",
              "    </tr>\n",
              "  </tbody>\n",
              "</table>\n",
              "</div>"
            ],
            "text/plain": [
              "   EventId  DER_mass_MMC  ...    Weight  Label\n",
              "0   100000       138.470  ...  0.002653      s\n",
              "1   100001       160.937  ...  2.233584      b\n",
              "2   100002      -999.000  ...  2.347389      b\n",
              "3   100003       143.905  ...  5.446378      b\n",
              "4   100004       175.864  ...  6.245333      b\n",
              "\n",
              "[5 rows x 33 columns]"
            ]
          },
          "metadata": {},
          "execution_count": 44
        }
      ]
    },
    {
      "cell_type": "code",
      "metadata": {
        "colab": {
          "base_uri": "https://localhost:8080/",
          "height": 320
        },
        "id": "beXkHb_eEc3l",
        "outputId": "fabdb519-2703-4ffc-b410-ae4816490049"
      },
      "source": [
        "df.describe()"
      ],
      "execution_count": 45,
      "outputs": [
        {
          "output_type": "execute_result",
          "data": {
            "text/html": [
              "<div>\n",
              "<style scoped>\n",
              "    .dataframe tbody tr th:only-of-type {\n",
              "        vertical-align: middle;\n",
              "    }\n",
              "\n",
              "    .dataframe tbody tr th {\n",
              "        vertical-align: top;\n",
              "    }\n",
              "\n",
              "    .dataframe thead th {\n",
              "        text-align: right;\n",
              "    }\n",
              "</style>\n",
              "<table border=\"1\" class=\"dataframe\">\n",
              "  <thead>\n",
              "    <tr style=\"text-align: right;\">\n",
              "      <th></th>\n",
              "      <th>EventId</th>\n",
              "      <th>DER_mass_MMC</th>\n",
              "      <th>DER_mass_transverse_met_lep</th>\n",
              "      <th>DER_mass_vis</th>\n",
              "      <th>DER_pt_h</th>\n",
              "      <th>DER_deltaeta_jet_jet</th>\n",
              "      <th>DER_mass_jet_jet</th>\n",
              "      <th>DER_prodeta_jet_jet</th>\n",
              "      <th>DER_deltar_tau_lep</th>\n",
              "      <th>DER_pt_tot</th>\n",
              "      <th>DER_sum_pt</th>\n",
              "      <th>DER_pt_ratio_lep_tau</th>\n",
              "      <th>DER_met_phi_centrality</th>\n",
              "      <th>DER_lep_eta_centrality</th>\n",
              "      <th>PRI_tau_pt</th>\n",
              "      <th>PRI_tau_eta</th>\n",
              "      <th>PRI_tau_phi</th>\n",
              "      <th>PRI_lep_pt</th>\n",
              "      <th>PRI_lep_eta</th>\n",
              "      <th>PRI_lep_phi</th>\n",
              "      <th>PRI_met</th>\n",
              "      <th>PRI_met_phi</th>\n",
              "      <th>PRI_met_sumet</th>\n",
              "      <th>PRI_jet_num</th>\n",
              "      <th>PRI_jet_leading_pt</th>\n",
              "      <th>PRI_jet_leading_eta</th>\n",
              "      <th>PRI_jet_leading_phi</th>\n",
              "      <th>PRI_jet_subleading_pt</th>\n",
              "      <th>PRI_jet_subleading_eta</th>\n",
              "      <th>PRI_jet_subleading_phi</th>\n",
              "      <th>PRI_jet_all_pt</th>\n",
              "      <th>Weight</th>\n",
              "    </tr>\n",
              "  </thead>\n",
              "  <tbody>\n",
              "    <tr>\n",
              "      <th>count</th>\n",
              "      <td>250000.000000</td>\n",
              "      <td>250000.000000</td>\n",
              "      <td>250000.000000</td>\n",
              "      <td>250000.000000</td>\n",
              "      <td>250000.000000</td>\n",
              "      <td>250000.000000</td>\n",
              "      <td>250000.000000</td>\n",
              "      <td>250000.000000</td>\n",
              "      <td>250000.000000</td>\n",
              "      <td>250000.000000</td>\n",
              "      <td>250000.000000</td>\n",
              "      <td>250000.000000</td>\n",
              "      <td>250000.000000</td>\n",
              "      <td>250000.000000</td>\n",
              "      <td>250000.000000</td>\n",
              "      <td>250000.000000</td>\n",
              "      <td>250000.000000</td>\n",
              "      <td>250000.000000</td>\n",
              "      <td>250000.000000</td>\n",
              "      <td>250000.000000</td>\n",
              "      <td>250000.000000</td>\n",
              "      <td>250000.000000</td>\n",
              "      <td>250000.000000</td>\n",
              "      <td>250000.000000</td>\n",
              "      <td>250000.000000</td>\n",
              "      <td>250000.000000</td>\n",
              "      <td>250000.000000</td>\n",
              "      <td>250000.000000</td>\n",
              "      <td>250000.000000</td>\n",
              "      <td>250000.000000</td>\n",
              "      <td>250000.000000</td>\n",
              "      <td>250000.000000</td>\n",
              "    </tr>\n",
              "    <tr>\n",
              "      <th>mean</th>\n",
              "      <td>224999.500000</td>\n",
              "      <td>-49.023079</td>\n",
              "      <td>49.239819</td>\n",
              "      <td>81.181982</td>\n",
              "      <td>57.895962</td>\n",
              "      <td>-708.420675</td>\n",
              "      <td>-601.237051</td>\n",
              "      <td>-709.356603</td>\n",
              "      <td>2.373100</td>\n",
              "      <td>18.917332</td>\n",
              "      <td>158.432217</td>\n",
              "      <td>1.437609</td>\n",
              "      <td>-0.128305</td>\n",
              "      <td>-708.985189</td>\n",
              "      <td>38.707419</td>\n",
              "      <td>-0.010973</td>\n",
              "      <td>-0.008171</td>\n",
              "      <td>46.660207</td>\n",
              "      <td>-0.019507</td>\n",
              "      <td>0.043543</td>\n",
              "      <td>41.717235</td>\n",
              "      <td>-0.010119</td>\n",
              "      <td>209.797178</td>\n",
              "      <td>0.979176</td>\n",
              "      <td>-348.329567</td>\n",
              "      <td>-399.254314</td>\n",
              "      <td>-399.259788</td>\n",
              "      <td>-692.381204</td>\n",
              "      <td>-709.121609</td>\n",
              "      <td>-709.118631</td>\n",
              "      <td>73.064591</td>\n",
              "      <td>1.646767</td>\n",
              "    </tr>\n",
              "    <tr>\n",
              "      <th>std</th>\n",
              "      <td>72168.927986</td>\n",
              "      <td>406.345647</td>\n",
              "      <td>35.344886</td>\n",
              "      <td>40.828691</td>\n",
              "      <td>63.655682</td>\n",
              "      <td>454.480565</td>\n",
              "      <td>657.972302</td>\n",
              "      <td>453.019877</td>\n",
              "      <td>0.782911</td>\n",
              "      <td>22.273494</td>\n",
              "      <td>115.706115</td>\n",
              "      <td>0.844743</td>\n",
              "      <td>1.193585</td>\n",
              "      <td>453.596721</td>\n",
              "      <td>22.412081</td>\n",
              "      <td>1.214079</td>\n",
              "      <td>1.816763</td>\n",
              "      <td>22.064922</td>\n",
              "      <td>1.264982</td>\n",
              "      <td>1.816611</td>\n",
              "      <td>32.894693</td>\n",
              "      <td>1.812223</td>\n",
              "      <td>126.499506</td>\n",
              "      <td>0.977426</td>\n",
              "      <td>532.962789</td>\n",
              "      <td>489.338286</td>\n",
              "      <td>489.333883</td>\n",
              "      <td>479.875496</td>\n",
              "      <td>453.384624</td>\n",
              "      <td>453.389017</td>\n",
              "      <td>98.015662</td>\n",
              "      <td>1.875103</td>\n",
              "    </tr>\n",
              "    <tr>\n",
              "      <th>min</th>\n",
              "      <td>100000.000000</td>\n",
              "      <td>-999.000000</td>\n",
              "      <td>0.000000</td>\n",
              "      <td>6.329000</td>\n",
              "      <td>0.000000</td>\n",
              "      <td>-999.000000</td>\n",
              "      <td>-999.000000</td>\n",
              "      <td>-999.000000</td>\n",
              "      <td>0.208000</td>\n",
              "      <td>0.000000</td>\n",
              "      <td>46.104000</td>\n",
              "      <td>0.047000</td>\n",
              "      <td>-1.414000</td>\n",
              "      <td>-999.000000</td>\n",
              "      <td>20.000000</td>\n",
              "      <td>-2.499000</td>\n",
              "      <td>-3.142000</td>\n",
              "      <td>26.000000</td>\n",
              "      <td>-2.505000</td>\n",
              "      <td>-3.142000</td>\n",
              "      <td>0.109000</td>\n",
              "      <td>-3.142000</td>\n",
              "      <td>13.678000</td>\n",
              "      <td>0.000000</td>\n",
              "      <td>-999.000000</td>\n",
              "      <td>-999.000000</td>\n",
              "      <td>-999.000000</td>\n",
              "      <td>-999.000000</td>\n",
              "      <td>-999.000000</td>\n",
              "      <td>-999.000000</td>\n",
              "      <td>0.000000</td>\n",
              "      <td>0.001502</td>\n",
              "    </tr>\n",
              "    <tr>\n",
              "      <th>25%</th>\n",
              "      <td>162499.750000</td>\n",
              "      <td>78.100750</td>\n",
              "      <td>19.241000</td>\n",
              "      <td>59.388750</td>\n",
              "      <td>14.068750</td>\n",
              "      <td>-999.000000</td>\n",
              "      <td>-999.000000</td>\n",
              "      <td>-999.000000</td>\n",
              "      <td>1.810000</td>\n",
              "      <td>2.841000</td>\n",
              "      <td>77.550000</td>\n",
              "      <td>0.883000</td>\n",
              "      <td>-1.371000</td>\n",
              "      <td>-999.000000</td>\n",
              "      <td>24.591750</td>\n",
              "      <td>-0.925000</td>\n",
              "      <td>-1.575000</td>\n",
              "      <td>32.375000</td>\n",
              "      <td>-1.014000</td>\n",
              "      <td>-1.522000</td>\n",
              "      <td>21.398000</td>\n",
              "      <td>-1.575000</td>\n",
              "      <td>123.017500</td>\n",
              "      <td>0.000000</td>\n",
              "      <td>-999.000000</td>\n",
              "      <td>-999.000000</td>\n",
              "      <td>-999.000000</td>\n",
              "      <td>-999.000000</td>\n",
              "      <td>-999.000000</td>\n",
              "      <td>-999.000000</td>\n",
              "      <td>0.000000</td>\n",
              "      <td>0.018636</td>\n",
              "    </tr>\n",
              "    <tr>\n",
              "      <th>50%</th>\n",
              "      <td>224999.500000</td>\n",
              "      <td>105.012000</td>\n",
              "      <td>46.524000</td>\n",
              "      <td>73.752000</td>\n",
              "      <td>38.467500</td>\n",
              "      <td>-999.000000</td>\n",
              "      <td>-999.000000</td>\n",
              "      <td>-999.000000</td>\n",
              "      <td>2.491500</td>\n",
              "      <td>12.315500</td>\n",
              "      <td>120.664500</td>\n",
              "      <td>1.280000</td>\n",
              "      <td>-0.356000</td>\n",
              "      <td>-999.000000</td>\n",
              "      <td>31.804000</td>\n",
              "      <td>-0.023000</td>\n",
              "      <td>-0.033000</td>\n",
              "      <td>40.516000</td>\n",
              "      <td>-0.045000</td>\n",
              "      <td>0.086000</td>\n",
              "      <td>34.802000</td>\n",
              "      <td>-0.024000</td>\n",
              "      <td>179.739000</td>\n",
              "      <td>1.000000</td>\n",
              "      <td>38.960000</td>\n",
              "      <td>-1.872000</td>\n",
              "      <td>-2.093000</td>\n",
              "      <td>-999.000000</td>\n",
              "      <td>-999.000000</td>\n",
              "      <td>-999.000000</td>\n",
              "      <td>40.512500</td>\n",
              "      <td>1.156188</td>\n",
              "    </tr>\n",
              "    <tr>\n",
              "      <th>75%</th>\n",
              "      <td>287499.250000</td>\n",
              "      <td>130.606250</td>\n",
              "      <td>73.598000</td>\n",
              "      <td>92.259000</td>\n",
              "      <td>79.169000</td>\n",
              "      <td>0.490000</td>\n",
              "      <td>83.446000</td>\n",
              "      <td>-4.593000</td>\n",
              "      <td>2.961000</td>\n",
              "      <td>27.591000</td>\n",
              "      <td>200.478250</td>\n",
              "      <td>1.777000</td>\n",
              "      <td>1.225000</td>\n",
              "      <td>0.000000</td>\n",
              "      <td>45.017000</td>\n",
              "      <td>0.898000</td>\n",
              "      <td>1.565000</td>\n",
              "      <td>53.390000</td>\n",
              "      <td>0.959000</td>\n",
              "      <td>1.618000</td>\n",
              "      <td>51.895000</td>\n",
              "      <td>1.561000</td>\n",
              "      <td>263.379250</td>\n",
              "      <td>2.000000</td>\n",
              "      <td>75.349000</td>\n",
              "      <td>0.433000</td>\n",
              "      <td>0.503000</td>\n",
              "      <td>33.703000</td>\n",
              "      <td>-2.457000</td>\n",
              "      <td>-2.275000</td>\n",
              "      <td>109.933750</td>\n",
              "      <td>2.404128</td>\n",
              "    </tr>\n",
              "    <tr>\n",
              "      <th>max</th>\n",
              "      <td>349999.000000</td>\n",
              "      <td>1192.026000</td>\n",
              "      <td>690.075000</td>\n",
              "      <td>1349.351000</td>\n",
              "      <td>2834.999000</td>\n",
              "      <td>8.503000</td>\n",
              "      <td>4974.979000</td>\n",
              "      <td>16.690000</td>\n",
              "      <td>5.684000</td>\n",
              "      <td>2834.999000</td>\n",
              "      <td>1852.462000</td>\n",
              "      <td>19.773000</td>\n",
              "      <td>1.414000</td>\n",
              "      <td>1.000000</td>\n",
              "      <td>764.408000</td>\n",
              "      <td>2.497000</td>\n",
              "      <td>3.142000</td>\n",
              "      <td>560.271000</td>\n",
              "      <td>2.503000</td>\n",
              "      <td>3.142000</td>\n",
              "      <td>2842.617000</td>\n",
              "      <td>3.142000</td>\n",
              "      <td>2003.976000</td>\n",
              "      <td>3.000000</td>\n",
              "      <td>1120.573000</td>\n",
              "      <td>4.499000</td>\n",
              "      <td>3.141000</td>\n",
              "      <td>721.456000</td>\n",
              "      <td>4.500000</td>\n",
              "      <td>3.142000</td>\n",
              "      <td>1633.433000</td>\n",
              "      <td>7.822543</td>\n",
              "    </tr>\n",
              "  </tbody>\n",
              "</table>\n",
              "</div>"
            ],
            "text/plain": [
              "             EventId   DER_mass_MMC  ...  PRI_jet_all_pt         Weight\n",
              "count  250000.000000  250000.000000  ...   250000.000000  250000.000000\n",
              "mean   224999.500000     -49.023079  ...       73.064591       1.646767\n",
              "std     72168.927986     406.345647  ...       98.015662       1.875103\n",
              "min    100000.000000    -999.000000  ...        0.000000       0.001502\n",
              "25%    162499.750000      78.100750  ...        0.000000       0.018636\n",
              "50%    224999.500000     105.012000  ...       40.512500       1.156188\n",
              "75%    287499.250000     130.606250  ...      109.933750       2.404128\n",
              "max    349999.000000    1192.026000  ...     1633.433000       7.822543\n",
              "\n",
              "[8 rows x 32 columns]"
            ]
          },
          "metadata": {},
          "execution_count": 45
        }
      ]
    },
    {
      "cell_type": "code",
      "metadata": {
        "id": "C5a00FoUGbNj"
      },
      "source": [
        "pp = pprint.PrettyPrinter(width=41, compact=True)"
      ],
      "execution_count": 50,
      "outputs": []
    },
    {
      "cell_type": "code",
      "metadata": {
        "colab": {
          "base_uri": "https://localhost:8080/"
        },
        "id": "hKVuOH-yE_AX",
        "outputId": "07a648ab-4b78-42c5-c116-c64ae586071f"
      },
      "source": [
        "# Look at parameters used by our current forest\n",
        "rf = RandomForestClassifier(random_state = 0)\n",
        "print('Parameters currently in use:\\n')\n",
        "pp.pprint(rf.get_params())"
      ],
      "execution_count": 52,
      "outputs": [
        {
          "output_type": "stream",
          "name": "stdout",
          "text": [
            "Parameters currently in use:\n",
            "\n",
            "{'bootstrap': True,\n",
            " 'ccp_alpha': 0.0,\n",
            " 'class_weight': None,\n",
            " 'criterion': 'gini',\n",
            " 'max_depth': None,\n",
            " 'max_features': 'auto',\n",
            " 'max_leaf_nodes': None,\n",
            " 'max_samples': None,\n",
            " 'min_impurity_decrease': 0.0,\n",
            " 'min_samples_leaf': 1,\n",
            " 'min_samples_split': 2,\n",
            " 'min_weight_fraction_leaf': 0.0,\n",
            " 'n_estimators': 100,\n",
            " 'n_jobs': None,\n",
            " 'oob_score': False,\n",
            " 'random_state': 0,\n",
            " 'verbose': 0,\n",
            " 'warm_start': False}\n"
          ]
        }
      ]
    },
    {
      "cell_type": "code",
      "metadata": {
        "colab": {
          "base_uri": "https://localhost:8080/"
        },
        "id": "w5m380T8F6tZ",
        "outputId": "b4c4dc4d-197f-4bd9-d3b6-9dab3fe41844"
      },
      "source": [
        "df.columns[1:-2]"
      ],
      "execution_count": 55,
      "outputs": [
        {
          "output_type": "execute_result",
          "data": {
            "text/plain": [
              "Index(['DER_mass_MMC', 'DER_mass_transverse_met_lep', 'DER_mass_vis',\n",
              "       'DER_pt_h', 'DER_deltaeta_jet_jet', 'DER_mass_jet_jet',\n",
              "       'DER_prodeta_jet_jet', 'DER_deltar_tau_lep', 'DER_pt_tot', 'DER_sum_pt',\n",
              "       'DER_pt_ratio_lep_tau', 'DER_met_phi_centrality',\n",
              "       'DER_lep_eta_centrality', 'PRI_tau_pt', 'PRI_tau_eta', 'PRI_tau_phi',\n",
              "       'PRI_lep_pt', 'PRI_lep_eta', 'PRI_lep_phi', 'PRI_met', 'PRI_met_phi',\n",
              "       'PRI_met_sumet', 'PRI_jet_num', 'PRI_jet_leading_pt',\n",
              "       'PRI_jet_leading_eta', 'PRI_jet_leading_phi', 'PRI_jet_subleading_pt',\n",
              "       'PRI_jet_subleading_eta', 'PRI_jet_subleading_phi', 'PRI_jet_all_pt'],\n",
              "      dtype='object')"
            ]
          },
          "metadata": {},
          "execution_count": 55
        }
      ]
    },
    {
      "cell_type": "code",
      "metadata": {
        "id": "rpmvpgpUH7nx"
      },
      "source": [
        "X = df[df.columns[1:-2]]\n",
        "y = df.Label"
      ],
      "execution_count": 56,
      "outputs": []
    },
    {
      "cell_type": "code",
      "metadata": {
        "id": "EjbsbTNnJ1ob"
      },
      "source": [
        "le = LabelEncoder()\n",
        "y = le.fit_transform(y)"
      ],
      "execution_count": 59,
      "outputs": []
    },
    {
      "cell_type": "code",
      "metadata": {
        "id": "58pWZb19J8pT"
      },
      "source": [
        "X_train, X_test, y_train, y_test =train_test_split(X, y,test_size=0.33, random_state=1)"
      ],
      "execution_count": 62,
      "outputs": []
    },
    {
      "cell_type": "code",
      "metadata": {
        "id": "vMII0JXwKElk"
      },
      "source": [
        "rf = RandomForestClassifier(random_state = 0).fit(X_train, y_train)"
      ],
      "execution_count": 63,
      "outputs": []
    },
    {
      "cell_type": "code",
      "metadata": {
        "colab": {
          "base_uri": "https://localhost:8080/"
        },
        "id": "Gwg0j05vKYUa",
        "outputId": "de3617f7-acfe-4214-943a-6552842062a4"
      },
      "source": [
        "print(\"Accuracy score Random Forest train data = {:.2f}\".format(accuracy_score(y_train, rf.predict(X_train))))\n",
        "print(\"Accuracy score Random Forest test data = {:.2f}\".format(accuracy_score(y_test, rf.predict(X_test))))"
      ],
      "execution_count": 64,
      "outputs": [
        {
          "output_type": "stream",
          "name": "stdout",
          "text": [
            "Accuracy score of train data = 1.00\n",
            "Accuracy score of test data = 0.84\n"
          ]
        }
      ]
    },
    {
      "cell_type": "code",
      "metadata": {
        "id": "dO1v97jeLx2p"
      },
      "source": [
        "gbt = GradientBoostingClassifier(random_state=5).fit(X_train, y_train)"
      ],
      "execution_count": 65,
      "outputs": []
    },
    {
      "cell_type": "code",
      "metadata": {
        "colab": {
          "base_uri": "https://localhost:8080/"
        },
        "id": "ZZEpTSC0MQOr",
        "outputId": "559213d3-c822-495e-873f-07fd76be8a26"
      },
      "source": [
        "print(\"Accuracy score Gradient Boosting train data = {:.2f}\".format(accuracy_score(y_train, rf.predict(X_train))))\n",
        "print(\"Accuracy score Gradient Boosting test data = {:.2f}\".format(accuracy_score(y_test, rf.predict(X_test))))"
      ],
      "execution_count": 66,
      "outputs": [
        {
          "output_type": "stream",
          "name": "stdout",
          "text": [
            "Accuracy score Gradient Boosting train data = 1.00\n",
            "Accuracy score Gradient Boosting test data = 0.84\n"
          ]
        }
      ]
    },
    {
      "cell_type": "code",
      "metadata": {
        "colab": {
          "base_uri": "https://localhost:8080/"
        },
        "id": "ZD7EA9kvgSvA",
        "outputId": "2f7ea287-05ad-4079-bcf1-6a95845a210a"
      },
      "source": [
        "for f, fi in zip(df.columns[1:-2], rf.feature_importances_):\n",
        "  print(f,fi)"
      ],
      "execution_count": 71,
      "outputs": [
        {
          "output_type": "stream",
          "name": "stdout",
          "text": [
            "DER_mass_MMC 0.1485369140584492\n",
            "DER_mass_transverse_met_lep 0.1070336706621162\n",
            "DER_mass_vis 0.08012630535151212\n",
            "DER_pt_h 0.0320910504868324\n",
            "DER_deltaeta_jet_jet 0.020636453396352693\n",
            "DER_mass_jet_jet 0.019005293285607704\n",
            "DER_prodeta_jet_jet 0.008256763520033827\n",
            "DER_deltar_tau_lep 0.04641559455423509\n",
            "DER_pt_tot 0.029353853435379617\n",
            "DER_sum_pt 0.02968640936068195\n",
            "DER_pt_ratio_lep_tau 0.051232620753941915\n",
            "DER_met_phi_centrality 0.04808016958676688\n",
            "DER_lep_eta_centrality 0.01567490743891983\n",
            "PRI_tau_pt 0.05658476486202507\n",
            "PRI_tau_eta 0.02547202733549634\n",
            "PRI_tau_phi 0.02394515971745629\n",
            "PRI_lep_pt 0.028133944630033207\n",
            "PRI_lep_eta 0.026702416261206386\n",
            "PRI_lep_phi 0.023902366835320103\n",
            "PRI_met 0.038417273714067515\n",
            "PRI_met_phi 0.023895968459404268\n",
            "PRI_met_sumet 0.02679204100513302\n",
            "PRI_jet_num 0.004634998020954599\n",
            "PRI_jet_leading_pt 0.01615600733932482\n",
            "PRI_jet_leading_eta 0.020611976256834922\n",
            "PRI_jet_leading_phi 0.01517979610939898\n",
            "PRI_jet_subleading_pt 0.006109880053726904\n",
            "PRI_jet_subleading_eta 0.005814131413555681\n",
            "PRI_jet_subleading_phi 0.005549094730043472\n",
            "PRI_jet_all_pt 0.015968147365188895\n"
          ]
        }
      ]
    },
    {
      "cell_type": "code",
      "metadata": {
        "id": "oBlolj9LgfTd"
      },
      "source": [
        "data={'feature_names':df.columns[1:-2],'feature_importance':rf.feature_importances_}\n",
        "fi_df = pd.DataFrame(data)\n",
        "fi_df.sort_values(by=['feature_importance'], ascending=False,inplace=True)\n"
      ],
      "execution_count": 72,
      "outputs": []
    },
    {
      "cell_type": "code",
      "metadata": {
        "colab": {
          "base_uri": "https://localhost:8080/",
          "height": 677
        },
        "id": "ry_KZpedgoVR",
        "outputId": "feb255f4-d3a5-45d4-fc8c-8d356480c616"
      },
      "source": [
        "fi_df.head(20)"
      ],
      "execution_count": 75,
      "outputs": [
        {
          "output_type": "execute_result",
          "data": {
            "text/html": [
              "<div>\n",
              "<style scoped>\n",
              "    .dataframe tbody tr th:only-of-type {\n",
              "        vertical-align: middle;\n",
              "    }\n",
              "\n",
              "    .dataframe tbody tr th {\n",
              "        vertical-align: top;\n",
              "    }\n",
              "\n",
              "    .dataframe thead th {\n",
              "        text-align: right;\n",
              "    }\n",
              "</style>\n",
              "<table border=\"1\" class=\"dataframe\">\n",
              "  <thead>\n",
              "    <tr style=\"text-align: right;\">\n",
              "      <th></th>\n",
              "      <th>feature_names</th>\n",
              "      <th>feature_importance</th>\n",
              "    </tr>\n",
              "  </thead>\n",
              "  <tbody>\n",
              "    <tr>\n",
              "      <th>0</th>\n",
              "      <td>DER_mass_MMC</td>\n",
              "      <td>0.148537</td>\n",
              "    </tr>\n",
              "    <tr>\n",
              "      <th>1</th>\n",
              "      <td>DER_mass_transverse_met_lep</td>\n",
              "      <td>0.107034</td>\n",
              "    </tr>\n",
              "    <tr>\n",
              "      <th>2</th>\n",
              "      <td>DER_mass_vis</td>\n",
              "      <td>0.080126</td>\n",
              "    </tr>\n",
              "    <tr>\n",
              "      <th>13</th>\n",
              "      <td>PRI_tau_pt</td>\n",
              "      <td>0.056585</td>\n",
              "    </tr>\n",
              "    <tr>\n",
              "      <th>10</th>\n",
              "      <td>DER_pt_ratio_lep_tau</td>\n",
              "      <td>0.051233</td>\n",
              "    </tr>\n",
              "    <tr>\n",
              "      <th>11</th>\n",
              "      <td>DER_met_phi_centrality</td>\n",
              "      <td>0.048080</td>\n",
              "    </tr>\n",
              "    <tr>\n",
              "      <th>7</th>\n",
              "      <td>DER_deltar_tau_lep</td>\n",
              "      <td>0.046416</td>\n",
              "    </tr>\n",
              "    <tr>\n",
              "      <th>19</th>\n",
              "      <td>PRI_met</td>\n",
              "      <td>0.038417</td>\n",
              "    </tr>\n",
              "    <tr>\n",
              "      <th>3</th>\n",
              "      <td>DER_pt_h</td>\n",
              "      <td>0.032091</td>\n",
              "    </tr>\n",
              "    <tr>\n",
              "      <th>9</th>\n",
              "      <td>DER_sum_pt</td>\n",
              "      <td>0.029686</td>\n",
              "    </tr>\n",
              "    <tr>\n",
              "      <th>8</th>\n",
              "      <td>DER_pt_tot</td>\n",
              "      <td>0.029354</td>\n",
              "    </tr>\n",
              "    <tr>\n",
              "      <th>16</th>\n",
              "      <td>PRI_lep_pt</td>\n",
              "      <td>0.028134</td>\n",
              "    </tr>\n",
              "    <tr>\n",
              "      <th>21</th>\n",
              "      <td>PRI_met_sumet</td>\n",
              "      <td>0.026792</td>\n",
              "    </tr>\n",
              "    <tr>\n",
              "      <th>17</th>\n",
              "      <td>PRI_lep_eta</td>\n",
              "      <td>0.026702</td>\n",
              "    </tr>\n",
              "    <tr>\n",
              "      <th>14</th>\n",
              "      <td>PRI_tau_eta</td>\n",
              "      <td>0.025472</td>\n",
              "    </tr>\n",
              "    <tr>\n",
              "      <th>15</th>\n",
              "      <td>PRI_tau_phi</td>\n",
              "      <td>0.023945</td>\n",
              "    </tr>\n",
              "    <tr>\n",
              "      <th>18</th>\n",
              "      <td>PRI_lep_phi</td>\n",
              "      <td>0.023902</td>\n",
              "    </tr>\n",
              "    <tr>\n",
              "      <th>20</th>\n",
              "      <td>PRI_met_phi</td>\n",
              "      <td>0.023896</td>\n",
              "    </tr>\n",
              "    <tr>\n",
              "      <th>4</th>\n",
              "      <td>DER_deltaeta_jet_jet</td>\n",
              "      <td>0.020636</td>\n",
              "    </tr>\n",
              "    <tr>\n",
              "      <th>24</th>\n",
              "      <td>PRI_jet_leading_eta</td>\n",
              "      <td>0.020612</td>\n",
              "    </tr>\n",
              "  </tbody>\n",
              "</table>\n",
              "</div>"
            ],
            "text/plain": [
              "                  feature_names  feature_importance\n",
              "0                  DER_mass_MMC            0.148537\n",
              "1   DER_mass_transverse_met_lep            0.107034\n",
              "2                  DER_mass_vis            0.080126\n",
              "13                   PRI_tau_pt            0.056585\n",
              "10         DER_pt_ratio_lep_tau            0.051233\n",
              "11       DER_met_phi_centrality            0.048080\n",
              "7            DER_deltar_tau_lep            0.046416\n",
              "19                      PRI_met            0.038417\n",
              "3                      DER_pt_h            0.032091\n",
              "9                    DER_sum_pt            0.029686\n",
              "8                    DER_pt_tot            0.029354\n",
              "16                   PRI_lep_pt            0.028134\n",
              "21                PRI_met_sumet            0.026792\n",
              "17                  PRI_lep_eta            0.026702\n",
              "14                  PRI_tau_eta            0.025472\n",
              "15                  PRI_tau_phi            0.023945\n",
              "18                  PRI_lep_phi            0.023902\n",
              "20                  PRI_met_phi            0.023896\n",
              "4          DER_deltaeta_jet_jet            0.020636\n",
              "24          PRI_jet_leading_eta            0.020612"
            ]
          },
          "metadata": {},
          "execution_count": 75
        }
      ]
    },
    {
      "cell_type": "code",
      "metadata": {
        "colab": {
          "base_uri": "https://localhost:8080/"
        },
        "id": "-LZJyp_pgp-a",
        "outputId": "119ee5b4-2685-4710-e516-232f97d44923"
      },
      "source": [
        "fi_df.feature_names[1:20]"
      ],
      "execution_count": 79,
      "outputs": [
        {
          "output_type": "execute_result",
          "data": {
            "text/plain": [
              "1     DER_mass_transverse_met_lep\n",
              "2                    DER_mass_vis\n",
              "13                     PRI_tau_pt\n",
              "10           DER_pt_ratio_lep_tau\n",
              "11         DER_met_phi_centrality\n",
              "7              DER_deltar_tau_lep\n",
              "19                        PRI_met\n",
              "3                        DER_pt_h\n",
              "9                      DER_sum_pt\n",
              "8                      DER_pt_tot\n",
              "16                     PRI_lep_pt\n",
              "21                  PRI_met_sumet\n",
              "17                    PRI_lep_eta\n",
              "14                    PRI_tau_eta\n",
              "15                    PRI_tau_phi\n",
              "18                    PRI_lep_phi\n",
              "20                    PRI_met_phi\n",
              "4            DER_deltaeta_jet_jet\n",
              "24            PRI_jet_leading_eta\n",
              "Name: feature_names, dtype: object"
            ]
          },
          "metadata": {},
          "execution_count": 79
        }
      ]
    },
    {
      "cell_type": "code",
      "metadata": {
        "id": "Gh0_Uge3g63H"
      },
      "source": [
        ""
      ],
      "execution_count": 83,
      "outputs": []
    },
    {
      "cell_type": "code",
      "metadata": {
        "colab": {
          "base_uri": "https://localhost:8080/"
        },
        "id": "h5P407xyiptC",
        "outputId": "2d03e9a3-585d-4f19-df05-62a2063c83a0"
      },
      "source": [
        "all_aucs = {}\n",
        " \n",
        "for depth in [3, 6, 9, 12, 15, 18, 21]:\n",
        "    print('depth: %s' % depth)\n",
        "    aucs = []\n",
        " \n",
        "    for i in range(10, 101, 10):\n",
        "        rf = RandomForestClassifier(n_estimators=i,\n",
        "              max_depth=depth, random_state=1)\n",
        "        rf.fit(X_train, y_train)\n",
        "        y_pred = rf.predict_proba(X_test)[:, 1]\n",
        "        auc = roc_auc_score(y_test, y_pred)\n",
        "        print('%s -> %.3f' % (i, auc))\n",
        "        aucs.append(auc)\n",
        "   \n",
        "    all_aucs[depth] = aucs\n",
        "    print()"
      ],
      "execution_count": 88,
      "outputs": [
        {
          "output_type": "stream",
          "name": "stdout",
          "text": [
            "depth: 3\n",
            "10 -> 0.839\n",
            "20 -> 0.850\n",
            "30 -> 0.851\n",
            "40 -> 0.853\n",
            "50 -> 0.854\n",
            "60 -> 0.855\n",
            "70 -> 0.856\n",
            "80 -> 0.855\n",
            "90 -> 0.856\n",
            "100 -> 0.856\n",
            "\n",
            "depth: 6\n",
            "10 -> 0.878\n",
            "20 -> 0.881\n",
            "30 -> 0.883\n",
            "40 -> 0.882\n",
            "50 -> 0.883\n",
            "60 -> 0.883\n",
            "70 -> 0.884\n",
            "80 -> 0.884\n",
            "90 -> 0.884\n",
            "100 -> 0.884\n",
            "\n",
            "depth: 9\n",
            "10 -> 0.891\n",
            "20 -> 0.894\n",
            "30 -> 0.895\n",
            "40 -> 0.895\n",
            "50 -> 0.896\n",
            "60 -> 0.896\n",
            "70 -> 0.896\n",
            "80 -> 0.896\n",
            "90 -> 0.896\n",
            "100 -> 0.896\n",
            "\n",
            "depth: 12\n",
            "10 -> 0.897\n",
            "20 -> 0.901\n",
            "30 -> 0.901\n",
            "40 -> 0.902\n",
            "50 -> 0.902\n",
            "60 -> 0.902\n",
            "70 -> 0.903\n",
            "80 -> 0.903\n",
            "90 -> 0.903\n",
            "100 -> 0.903\n",
            "\n",
            "depth: 15\n",
            "10 -> 0.896\n",
            "20 -> 0.901\n",
            "30 -> 0.903\n",
            "40 -> 0.904\n",
            "50 -> 0.904\n",
            "60 -> 0.904\n",
            "70 -> 0.905\n",
            "80 -> 0.905\n",
            "90 -> 0.905\n",
            "100 -> 0.905\n",
            "\n",
            "depth: 18\n",
            "10 -> 0.892\n",
            "20 -> 0.900\n",
            "30 -> 0.902\n",
            "40 -> 0.903\n",
            "50 -> 0.904\n",
            "60 -> 0.904\n",
            "70 -> 0.905\n",
            "80 -> 0.905\n",
            "90 -> 0.905\n",
            "100 -> 0.905\n",
            "\n",
            "depth: 21\n",
            "10 -> 0.888\n",
            "20 -> 0.897\n",
            "30 -> 0.900\n",
            "40 -> 0.902\n",
            "50 -> 0.903\n",
            "60 -> 0.904\n",
            "70 -> 0.904\n",
            "80 -> 0.905\n",
            "90 -> 0.905\n",
            "100 -> 0.905\n",
            "\n"
          ]
        }
      ]
    },
    {
      "cell_type": "code",
      "metadata": {
        "colab": {
          "base_uri": "https://localhost:8080/",
          "height": 497
        },
        "id": "oqxUXeb-pnlI",
        "outputId": "79f092bb-a71c-445b-e4de-5f814e6207f7"
      },
      "source": [
        "plt.figure(figsize=(8,8))\n",
        "num_trees = list(range(10, 101, 10))\n",
        "plt.plot(num_trees, all_aucs[3], label='depth=3')\n",
        "plt.plot(num_trees, all_aucs[6], label='depth=6')\n",
        "plt.plot(num_trees, all_aucs[9], label='depth=9')\n",
        "plt.plot(num_trees, all_aucs[12], label='depth=12')\n",
        "plt.plot(num_trees, all_aucs[15], label='depth=15')\n",
        "plt.plot(num_trees, all_aucs[18], label='depth=18')\n",
        "plt.plot(num_trees, all_aucs[21], label='depth=21')\n",
        "plt.xlabel('Number of trees')\n",
        "plt.ylabel('AUC')\n",
        "\n",
        "plt.legend();"
      ],
      "execution_count": 90,
      "outputs": [
        {
          "output_type": "display_data",
          "data": {
            "image/png": "[encoded data removed]",
            "text/plain": [
              "<Figure size 576x576 with 1 Axes>"
            ]
          },
          "metadata": {
            "needs_background": "light"
          }
        }
      ]
    },
    {
      "cell_type": "code",
      "metadata": {
        "id": "uotzC3ssrCZJ"
      },
      "source": [
        ""
      ],
      "execution_count": null,
      "outputs": []
    }
  ]
}